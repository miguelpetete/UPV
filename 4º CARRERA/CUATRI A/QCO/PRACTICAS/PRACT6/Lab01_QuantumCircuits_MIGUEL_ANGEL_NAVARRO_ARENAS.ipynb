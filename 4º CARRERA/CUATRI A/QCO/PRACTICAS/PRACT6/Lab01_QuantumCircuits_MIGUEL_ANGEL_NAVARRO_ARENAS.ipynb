{
 "cells": [
  {
   "cell_type": "markdown",
   "metadata": {
    "tags": [
     "remove_cell"
    ]
   },
   "source": [
    "<h1 style=\"font-size:35px;\n",
    "        color:black;\n",
    "        \">Lab 1 Quantum Circuits</h1>"
   ]
  },
  {
   "cell_type": "markdown",
   "metadata": {},
   "source": [
    "MIGUEL ÁNGEL NAVARRO ARENAS"
   ]
  },
  {
   "cell_type": "markdown",
   "metadata": {},
   "source": [
    "Prerequisite\n",
    "- [Qiskit basics](https://qiskit.org/documentation/tutorials/circuits/1_getting_started_with_qiskit.html)\n",
    "- [Ch.1.2 The Atoms of Computation](https://qiskit.org/textbook/ch-states/atoms-computation.html)\n",
    "\n",
    "Other relevant materials\n",
    "- [Access IBM Quantum Systems](https://qiskit.org/documentation/install.html#access-ibm-quantum-systems)\n",
    "- [IBM Quantum Systems Configuration](https://quantum-computing.ibm.com/docs/manage/backends/configuration)\n",
    "- [Transpile](https://qiskit.org/documentation/apidoc/transpiler.html)\n",
    "- [IBM Quantum account](https://quantum-computing.ibm.com/docs/manage/account/ibmq)\n",
    "- [Quantum Circuits](https://qiskit.org/documentation/apidoc/circuit.html)  "
   ]
  },
  {
   "cell_type": "code",
   "execution_count": 3,
   "metadata": {},
   "outputs": [],
   "source": [
    "from qiskit import *\n",
    "from qiskit.visualization import plot_histogram\n",
    "import numpy as np"
   ]
  },
  {
   "cell_type": "markdown",
   "metadata": {},
   "source": [
    "<h2 style=\"font-size:24px;\">Part 1: Classical logic gates with quantum circuits</h2>\n",
    "\n",
    "<br>\n",
    "<div style=\"background: #E8E7EB; border-radius: 5px;\n",
    "-moz-border-radius: 5px;\">\n",
    "  <p style=\"background: #800080;\n",
    "            border-radius: 5px 5px 0px 0px;\n",
    "            padding: 10px 0px 10px 10px;\n",
    "            font-size:18px;\n",
    "            color:white;\n",
    "            \"><b>Goal</b></p>\n",
    "    <p style=\" padding: 0px 0px 10px 10px;\n",
    "              font-size:16px;\">Create quantum circuit functions that can compute the XOR, AND, NAND and OR gates using the NOT gate (expressed as x in Qiskit), the CNOT gate (expressed as cx in Qiskit) and the Toffoli gate (expressed as ccx in Qiskit) .</p>\n",
    "</div>\n",
    "\n",
    "An implementation of the `NOT` gate is provided as an example."
   ]
  },
  {
   "cell_type": "code",
   "execution_count": 4,
   "metadata": {},
   "outputs": [],
   "source": [
    "def NOT(inp):\n",
    "    \"\"\"An NOT gate.\n",
    "    \n",
    "    Parameters:\n",
    "        inp (str): Input, encoded in qubit 0.\n",
    "        \n",
    "    Returns:\n",
    "        QuantumCircuit: Output NOT circuit.\n",
    "        str: Output value measured from qubit 0.\n",
    "    \"\"\"\n",
    "\n",
    "    qc = QuantumCircuit(1, 1) # A quantum circuit with a single qubit and a single classical bit\n",
    "    qc.reset(0)\n",
    "    \n",
    "    # We encode '0' as the qubit state |0⟩, and '1' as |1⟩\n",
    "    # Since the qubit is initially |0⟩, we don't need to do anything for an input of '0'\n",
    "    # For an input of '1', we do an x to rotate the |0⟩ to |1⟩\n",
    "    if inp=='1':\n",
    "        qc.x(0)\n",
    "        \n",
    "    # barrier between input state and gate operation \n",
    "    qc.barrier()\n",
    "    \n",
    "    # Now we've encoded the input, we can do a NOT on it using x\n",
    "    qc.x(0)\n",
    "    \n",
    "    #barrier between gate operation and measurement\n",
    "    qc.barrier()\n",
    "    \n",
    "    # Finally, we extract the |0⟩/|1⟩ output of the qubit and encode it in the bit c[0]\n",
    "    qc.measure(0,0)\n",
    "    qc.draw('mpl')\n",
    "    \n",
    "    # We'll run the program on a simulator\n",
    "    backend = Aer.get_backend('aer_simulator')\n",
    "    # Since the output will be deterministic, we can use just a single shot to get it\n",
    "    job = backend.run(qc, shots=1, memory=True)\n",
    "    output = job.result().get_memory()[0]\n",
    "    \n",
    "    return qc, output"
   ]
  },
  {
   "cell_type": "code",
   "execution_count": 5,
   "metadata": {},
   "outputs": [
    {
     "name": "stderr",
     "output_type": "stream",
     "text": [
      "<frozen importlib._bootstrap>:219: RuntimeWarning: scipy._lib.messagestream.MessageStream size changed, may indicate binary incompatibility. Expected 56 from C header, got 64 from PyObject\n"
     ]
    },
    {
     "name": "stdout",
     "output_type": "stream",
     "text": [
      "NOT with input 0 gives output 1\n"
     ]
    },
    {
     "data": {
      "image/png": "[encoded data removed]",
      "text/plain": [
       "<Figure size 374.326x144.48 with 1 Axes>"
      ]
     },
     "metadata": {},
     "output_type": "display_data"
    },
    {
     "name": "stdout",
     "output_type": "stream",
     "text": [
      "\n",
      "\n",
      "NOT with input 1 gives output 0\n"
     ]
    },
    {
     "data": {
      "image/png": "[encoded data removed]",
      "text/plain": [
       "<Figure size 434.526x144.48 with 1 Axes>"
      ]
     },
     "metadata": {},
     "output_type": "display_data"
    },
    {
     "name": "stdout",
     "output_type": "stream",
     "text": [
      "\n",
      "\n"
     ]
    }
   ],
   "source": [
    "## Test the function\n",
    "for inp in ['0', '1']:\n",
    "    qc, out = NOT(inp)\n",
    "    print('NOT with input',inp,'gives output',out)\n",
    "    display(qc.draw())\n",
    "    print('\\n')"
   ]
  },
  {
   "cell_type": "markdown",
   "metadata": {},
   "source": [
    "<h3 style=\"font-size: 20px\">&#128211; XOR gate</h3>\n",
    "\n",
    "Takes two binary strings as input and gives one as output.\n",
    "\n",
    "The output is '0' when the inputs are equal and  '1' otherwise."
   ]
  },
  {
   "cell_type": "code",
   "execution_count": 6,
   "metadata": {},
   "outputs": [],
   "source": [
    "def XOR(inp1,inp2):\n",
    "    \"\"\"An XOR gate.\n",
    "    \n",
    "    Parameters:\n",
    "        inpt1 (str): Input 1, encoded in qubit 0.\n",
    "        inpt2 (str): Input 2, encoded in qubit 1.\n",
    "        \n",
    "    Returns:\n",
    "        QuantumCircuit: Output XOR circuit.\n",
    "        str: Output value measured from qubit 1.\n",
    "    \"\"\"\n",
    "  \n",
    "    qc = QuantumCircuit(2, 1) \n",
    "    qc.reset(range(2))\n",
    "    \n",
    "    if inp1=='1':\n",
    "        qc.x(0)\n",
    "    if inp2=='1':\n",
    "        qc.x(1)\n",
    "    \n",
    "    # barrier between input state and gate operation \n",
    "    qc.barrier()\n",
    "    \n",
    "    # this is where your program for quantum XOR gate goes\n",
    "    \n",
    "    \n",
    "    \n",
    "    \n",
    "    \n",
    "    \n",
    "    \n",
    "    \n",
    "    # barrier between input state and gate operation \n",
    "    qc.barrier()\n",
    "    \n",
    "    qc.measure(1,0) # output from qubit 1 is measured\n",
    "  \n",
    "    #We'll run the program on a simulator\n",
    "    backend = Aer.get_backend('aer_simulator')\n",
    "    #Since the output will be deterministic, we can use just a single shot to get it\n",
    "    job = backend.run(qc, shots=1, memory=True)\n",
    "    output = job.result().get_memory()[0]\n",
    "  \n",
    "    return qc, output"
   ]
  },
  {
   "cell_type": "code",
   "execution_count": 7,
   "metadata": {},
   "outputs": [
    {
     "name": "stdout",
     "output_type": "stream",
     "text": [
      "XOR with inputs 0 0 gives output 0\n"
     ]
    },
    {
     "data": {
      "image/png": "[encoded data removed]",
      "text/plain": [
       "<Figure size 327.252x204.68 with 1 Axes>"
      ]
     },
     "metadata": {},
     "output_type": "display_data"
    },
    {
     "name": "stdout",
     "output_type": "stream",
     "text": [
      "\n",
      "\n",
      "XOR with inputs 0 1 gives output 1\n"
     ]
    },
    {
     "data": {
      "image/png": "[encoded data removed]",
      "text/plain": [
       "<Figure size 387.452x204.68 with 1 Axes>"
      ]
     },
     "metadata": {},
     "output_type": "display_data"
    },
    {
     "name": "stdout",
     "output_type": "stream",
     "text": [
      "\n",
      "\n",
      "XOR with inputs 1 0 gives output 0\n"
     ]
    },
    {
     "data": {
      "image/png": "[encoded data removed]",
      "text/plain": [
       "<Figure size 387.452x204.68 with 1 Axes>"
      ]
     },
     "metadata": {},
     "output_type": "display_data"
    },
    {
     "name": "stdout",
     "output_type": "stream",
     "text": [
      "\n",
      "\n",
      "XOR with inputs 1 1 gives output 1\n"
     ]
    },
    {
     "data": {
      "image/png": "[encoded data removed]",
      "text/plain": [
       "<Figure size 387.452x204.68 with 1 Axes>"
      ]
     },
     "metadata": {},
     "output_type": "display_data"
    },
    {
     "name": "stdout",
     "output_type": "stream",
     "text": [
      "\n",
      "\n"
     ]
    }
   ],
   "source": [
    "## Test the function\n",
    "for inp1 in ['0', '1']:\n",
    "    for inp2 in ['0', '1']:\n",
    "        qc, output = XOR(inp1, inp2)\n",
    "        print('XOR with inputs',inp1,inp2,'gives output',output)\n",
    "        display(qc.draw())\n",
    "        print('\\n')"
   ]
  },
  {
   "cell_type": "markdown",
   "metadata": {},
   "source": [
    "<h3 style=\"font-size: 20px\">&#128211; AND gate</h3>\n",
    "\n",
    "Takes two binary strings as input and gives one as output.\n",
    "\n",
    "The output is `'1'` only when both the inputs are `'1'`."
   ]
  },
  {
   "cell_type": "code",
   "execution_count": 8,
   "metadata": {},
   "outputs": [],
   "source": [
    "def AND(inp1,inp2):\n",
    "    \"\"\"An AND gate.\n",
    "    \n",
    "    Parameters:\n",
    "        inpt1 (str): Input 1, encoded in qubit 0.\n",
    "        inpt2 (str): Input 2, encoded in qubit 1.\n",
    "        \n",
    "    Returns:\n",
    "        QuantumCircuit: Output XOR circuit.\n",
    "        str: Output value measured from qubit 2.\n",
    "    \"\"\"\n",
    "    qc = QuantumCircuit(3, 1) \n",
    "    qc.reset(range(2))\n",
    "  \n",
    "    if inp1=='1':\n",
    "        qc.x(0)\n",
    "    if inp2=='1':\n",
    "        qc.x(1)\n",
    "        \n",
    "    qc.barrier()\n",
    "\n",
    "    # this is where your program for quantum AND gate goes\n",
    "\n",
    "    qc.ccx(0,1,2)\n",
    "    \n",
    "    \n",
    "    \n",
    "    \n",
    "    \n",
    "\n",
    "    qc.barrier()\n",
    "    qc.measure(2, 0) # output from qubit 2 is measured\n",
    "  \n",
    "    # We'll run the program on a simulator\n",
    "    backend = Aer.get_backend('aer_simulator')\n",
    "    # Since the output will be deterministic, we can use just a single shot to get it\n",
    "    job = backend.run(qc, shots=1, memory=True)\n",
    "    output = job.result().get_memory()[0]\n",
    "  \n",
    "    return qc, output"
   ]
  },
  {
   "cell_type": "code",
   "execution_count": 9,
   "metadata": {},
   "outputs": [
    {
     "name": "stdout",
     "output_type": "stream",
     "text": [
      "AND with inputs 0 0 gives output 0\n"
     ]
    },
    {
     "data": {
      "image/png": "[encoded data removed]",
      "text/plain": [
       "<Figure size 387.597x264.88 with 1 Axes>"
      ]
     },
     "metadata": {},
     "output_type": "display_data"
    },
    {
     "name": "stdout",
     "output_type": "stream",
     "text": [
      "\n",
      "\n",
      "AND with inputs 0 1 gives output 0\n"
     ]
    },
    {
     "data": {
      "image/png": "[encoded data removed]",
      "text/plain": [
       "<Figure size 447.797x264.88 with 1 Axes>"
      ]
     },
     "metadata": {},
     "output_type": "display_data"
    },
    {
     "name": "stdout",
     "output_type": "stream",
     "text": [
      "\n",
      "\n",
      "AND with inputs 1 0 gives output 0\n"
     ]
    },
    {
     "data": {
      "image/png": "[encoded data removed]",
      "text/plain": [
       "<Figure size 447.797x264.88 with 1 Axes>"
      ]
     },
     "metadata": {},
     "output_type": "display_data"
    },
    {
     "name": "stdout",
     "output_type": "stream",
     "text": [
      "\n",
      "\n",
      "AND with inputs 1 1 gives output 1\n"
     ]
    },
    {
     "data": {
      "image/png": "[encoded data removed]",
      "text/plain": [
       "<Figure size 447.797x264.88 with 1 Axes>"
      ]
     },
     "metadata": {},
     "output_type": "display_data"
    },
    {
     "name": "stdout",
     "output_type": "stream",
     "text": [
      "\n",
      "\n"
     ]
    }
   ],
   "source": [
    "## Test the function\n",
    "for inp1 in ['0', '1']:\n",
    "    for inp2 in ['0', '1']:\n",
    "        qc, output = AND(inp1, inp2)\n",
    "        print('AND with inputs',inp1,inp2,'gives output',output)\n",
    "        display(qc.draw())\n",
    "        print('\\n')"
   ]
  },
  {
   "cell_type": "markdown",
   "metadata": {},
   "source": [
    "<h3 style=\"font-size: 20px\">&#128211; NAND gate</h3>\n",
    "\n",
    "Takes two binary strings as input and gives one as output.\n",
    "\n",
    "The output is `'0'` only when both the inputs are `'1'`."
   ]
  },
  {
   "cell_type": "code",
   "execution_count": 10,
   "metadata": {},
   "outputs": [],
   "source": [
    "def NAND(inp1,inp2):\n",
    "    \"\"\"An NAND gate.\n",
    "    \n",
    "    Parameters:\n",
    "        inpt1 (str): Input 1, encoded in qubit 0.\n",
    "        inpt2 (str): Input 2, encoded in qubit 1.\n",
    "        \n",
    "    Returns:\n",
    "        QuantumCircuit: Output NAND circuit.\n",
    "        str: Output value measured from qubit 2.\n",
    "    \"\"\"\n",
    "    qc = QuantumCircuit(3, 1) \n",
    "    qc.reset(range(3))\n",
    "    \n",
    "    if inp1=='1':\n",
    "        qc.x(0)\n",
    "    if inp2=='1':\n",
    "        qc.x(1)\n",
    "    \n",
    "    qc.barrier()\n",
    "    \n",
    "    # this is where your program for quantum NAND gate goes\n",
    "\n",
    "\n",
    "    \n",
    "    \n",
    "    \n",
    "    \n",
    "    \n",
    "    qc.barrier()\n",
    "    qc.measure(2, 0) # output from qubit 2 is measured\n",
    "  \n",
    "    # We'll run the program on a simulator\n",
    "    backend = Aer.get_backend('aer_simulator')\n",
    "    # Since the output will be deterministic, we can use just a single shot to get it\n",
    "    job = backend.run(qc,shots=1,memory=True)\n",
    "    output = job.result().get_memory()[0]\n",
    "  \n",
    "    return qc, output"
   ]
  },
  {
   "cell_type": "code",
   "execution_count": 11,
   "metadata": {},
   "outputs": [
    {
     "name": "stdout",
     "output_type": "stream",
     "text": [
      "NAND with inputs 0 0 gives output 0\n"
     ]
    },
    {
     "data": {
      "image/png": "[encoded data removed]",
      "text/plain": [
       "<Figure size 327.397x264.88 with 1 Axes>"
      ]
     },
     "metadata": {},
     "output_type": "display_data"
    },
    {
     "name": "stdout",
     "output_type": "stream",
     "text": [
      "\n",
      "\n",
      "NAND with inputs 0 1 gives output 0\n"
     ]
    },
    {
     "data": {
      "image/png": "[encoded data removed]",
      "text/plain": [
       "<Figure size 387.597x264.88 with 1 Axes>"
      ]
     },
     "metadata": {},
     "output_type": "display_data"
    },
    {
     "name": "stdout",
     "output_type": "stream",
     "text": [
      "\n",
      "\n",
      "NAND with inputs 1 0 gives output 0\n"
     ]
    },
    {
     "data": {
      "image/png": "[encoded data removed]",
      "text/plain": [
       "<Figure size 387.597x264.88 with 1 Axes>"
      ]
     },
     "metadata": {},
     "output_type": "display_data"
    },
    {
     "name": "stdout",
     "output_type": "stream",
     "text": [
      "\n",
      "\n",
      "NAND with inputs 1 1 gives output 0\n"
     ]
    },
    {
     "data": {
      "image/png": "[encoded data removed]",
      "text/plain": [
       "<Figure size 387.597x264.88 with 1 Axes>"
      ]
     },
     "metadata": {},
     "output_type": "display_data"
    },
    {
     "name": "stdout",
     "output_type": "stream",
     "text": [
      "\n",
      "\n"
     ]
    }
   ],
   "source": [
    "## Test the function\n",
    "for inp1 in ['0', '1']:\n",
    "    for inp2 in ['0', '1']:\n",
    "        qc, output = NAND(inp1, inp2)\n",
    "        print('NAND with inputs',inp1,inp2,'gives output',output)\n",
    "        display(qc.draw())\n",
    "        print('\\n')"
   ]
  },
  {
   "cell_type": "markdown",
   "metadata": {},
   "source": [
    "<h3 style=\"font-size: 20px\">&#128211; OR gate</h3>\n",
    "\n",
    "Takes two binary strings as input and gives one as output.\n",
    "\n",
    "The output is '1' if either input is '1'."
   ]
  },
  {
   "cell_type": "code",
   "execution_count": 12,
   "metadata": {},
   "outputs": [],
   "source": [
    "def OR(inp1,inp2):\n",
    "    \"\"\"An OR gate.\n",
    "    \n",
    "    Parameters:\n",
    "        inpt1 (str): Input 1, encoded in qubit 0.\n",
    "        inpt2 (str): Input 2, encoded in qubit 1.\n",
    "        \n",
    "    Returns:\n",
    "        QuantumCircuit: Output XOR circuit.\n",
    "        str: Output value measured from qubit 2.\n",
    "    \"\"\"\n",
    "\n",
    "    qc = QuantumCircuit(3, 1) \n",
    "    qc.reset(range(3))\n",
    "    \n",
    "    if inp1=='1':\n",
    "        qc.x(0)\n",
    "    if inp2=='1':\n",
    "        qc.x(1)\n",
    "    \n",
    "    qc.barrier()\n",
    "   \n",
    "    # this is where your program for quantum OR gate goes\n",
    "\n",
    "\n",
    "    \n",
    "    \n",
    "    \n",
    "    \n",
    "    \n",
    "    qc.barrier()\n",
    "    qc.measure(2, 0) # output from qubit 2 is measured\n",
    "  \n",
    "    # We'll run the program on a simulator\n",
    "    backend = Aer.get_backend('aer_simulator')\n",
    "    # Since the output will be deterministic, we can use just a single shot to get it\n",
    "    job = backend.run(qc,shots=1,memory=True)\n",
    "    output = job.result().get_memory()[0]\n",
    "  \n",
    "    return qc, output"
   ]
  },
  {
   "cell_type": "code",
   "execution_count": 13,
   "metadata": {},
   "outputs": [
    {
     "name": "stdout",
     "output_type": "stream",
     "text": [
      "OR with inputs 0 0 gives output 0\n"
     ]
    },
    {
     "data": {
      "image/png": "[encoded data removed]",
      "text/plain": [
       "<Figure size 327.397x264.88 with 1 Axes>"
      ]
     },
     "metadata": {},
     "output_type": "display_data"
    },
    {
     "name": "stdout",
     "output_type": "stream",
     "text": [
      "\n",
      "\n",
      "OR with inputs 0 1 gives output 0\n"
     ]
    },
    {
     "data": {
      "image/png": "[encoded data removed]",
      "text/plain": [
       "<Figure size 387.597x264.88 with 1 Axes>"
      ]
     },
     "metadata": {},
     "output_type": "display_data"
    },
    {
     "name": "stdout",
     "output_type": "stream",
     "text": [
      "\n",
      "\n",
      "OR with inputs 1 0 gives output 0\n"
     ]
    },
    {
     "data": {
      "image/png": "[encoded data removed]",
      "text/plain": [
       "<Figure size 387.597x264.88 with 1 Axes>"
      ]
     },
     "metadata": {},
     "output_type": "display_data"
    },
    {
     "name": "stdout",
     "output_type": "stream",
     "text": [
      "\n",
      "\n",
      "OR with inputs 1 1 gives output 0\n"
     ]
    },
    {
     "data": {
      "image/png": "[encoded data removed]",
      "text/plain": [
       "<Figure size 387.597x264.88 with 1 Axes>"
      ]
     },
     "metadata": {},
     "output_type": "display_data"
    },
    {
     "name": "stdout",
     "output_type": "stream",
     "text": [
      "\n",
      "\n"
     ]
    }
   ],
   "source": [
    "## Test the function\n",
    "for inp1 in ['0', '1']:\n",
    "    for inp2 in ['0', '1']:\n",
    "        qc, output = OR(inp1, inp2)\n",
    "        print('OR with inputs',inp1,inp2,'gives output',output)\n",
    "        display(qc.draw())\n",
    "        print('\\n')"
   ]
  },
  {
   "cell_type": "markdown",
   "metadata": {},
   "source": [
    "<h2 style=\"font-size:24px;\">Part 2: AND gate on Quantum Computer</h2>\n",
    "<br>\n",
    "<div style=\"background: #E8E7EB; border-radius: 5px;\n",
    "-moz-border-radius: 5px;\">\n",
    "  <p style=\"background: #800080;\n",
    "            border-radius: 5px 5px 0px 0px;\n",
    "            padding: 10px 0px 10px 10px;\n",
    "            font-size:18px;\n",
    "            color:white;\n",
    "            \"><b>Goal</b></p>\n",
    "    <p style=\" padding: 0px 0px 10px 10px;\n",
    "              font-size:16px;\">Execute AND gate on a real quantum system and learn how the noise properties affect the result.</p>\n",
    "</div>\n",
    "\n",
    "In Part 1 you made an `AND` gate from quantum gates, and executed it on the simulator.  Here in Part 2 you will do it again, but instead run the circuits on a real quantum computer.  When using a real quantum system, one thing you should keep in mind is that present day quantum computers are not fault tolerant; they are noisy.\n",
    "\n",
    "The 'noise' in a quantum system is the collective effects of all the things that should not happen, but nevertheless do. Noise results in outputs are not always what we would expect. There is noise associated with all processes in a quantum circuit: preparing the initial state, applying gates, and qubit measurement.  For the gates, noise levels can vary between different gates and between different qubits. `cx` gates are typically more noisy than any single qubit gate.\n",
    "\n",
    "Here we will use the quantum systems from the IBM Quantum Experience.  If you do not have access, you can do so [here](https://qiskit.org/documentation/install.html#access-ibm-quantum-systems).\n",
    "\n",
    "Now that you are ready to use the real quantum computer, let's begin."
   ]
  },
  {
   "cell_type": "markdown",
   "metadata": {},
   "source": [
    "<h3 style=\"font-size: 20px\">Step 1. Choosing a device</h3>"
   ]
  },
  {
   "cell_type": "markdown",
   "metadata": {},
   "source": [
    "First load the account from the credentials saved on disk by running the following cell:"
   ]
  },
  {
   "cell_type": "code",
   "execution_count": 15,
   "metadata": {
    "tags": [
     "uses-hardware"
    ]
   },
   "outputs": [
    {
     "name": "stderr",
     "output_type": "stream",
     "text": [
      "configrc.store_credentials:WARNING:2022-04-20 17:51:24,147: Credentials already present. Set overwrite=True to overwrite.\n",
      "ibmqfactory.load_account:WARNING:2022-04-20 17:51:24,365: Credentials are already in use. The existing account in the session will be replaced.\n"
     ]
    },
    {
     "data": {
      "text/plain": [
       "<AccountProvider for IBMQ(hub='ibm-q', group='open', project='main')>"
      ]
     },
     "execution_count": 15,
     "metadata": {},
     "output_type": "execute_result"
    }
   ],
   "source": [
    "from qiskit import IBMQ\n",
    "IBMQ.save_account('079e1cfd631de2886a50ebc04ee5d9823d9d1574b6a56392a322ea6a36a640dabf994a2661878c44e2cf149c1d98449bddadb5e9c3df5a0e62a41416491c4fad')\n",
    "IBMQ.load_account()"
   ]
  },
  {
   "cell_type": "markdown",
   "metadata": {},
   "source": [
    "After your account is loaded, you can see the list of providers that you have access to by running the cell below. Each provider offers different systems for use. For open users, there is typically only one provider `ibm-q/open/main`:"
   ]
  },
  {
   "cell_type": "code",
   "execution_count": 16,
   "metadata": {
    "tags": [
     "uses-hardware"
    ]
   },
   "outputs": [
    {
     "data": {
      "text/plain": [
       "[<AccountProvider for IBMQ(hub='ibm-q', group='open', project='main')>]"
      ]
     },
     "execution_count": 16,
     "metadata": {},
     "output_type": "execute_result"
    }
   ],
   "source": [
    "IBMQ.providers()"
   ]
  },
  {
   "cell_type": "markdown",
   "metadata": {},
   "source": [
    "Let us grab the provider using `get_provider`.  The command, `provider.backends( )` shows you the list of backends that are available to you from the selected provider."
   ]
  },
  {
   "cell_type": "code",
   "execution_count": 17,
   "metadata": {
    "tags": [
     "uses-hardware"
    ]
   },
   "outputs": [
    {
     "data": {
      "text/plain": [
       "[<IBMQSimulator('ibmq_qasm_simulator') from IBMQ(hub='ibm-q', group='open', project='main')>,\n",
       " <IBMQBackend('ibmq_armonk') from IBMQ(hub='ibm-q', group='open', project='main')>,\n",
       " <IBMQBackend('ibmq_santiago') from IBMQ(hub='ibm-q', group='open', project='main')>,\n",
       " <IBMQBackend('ibmq_bogota') from IBMQ(hub='ibm-q', group='open', project='main')>,\n",
       " <IBMQBackend('ibmq_lima') from IBMQ(hub='ibm-q', group='open', project='main')>,\n",
       " <IBMQBackend('ibmq_belem') from IBMQ(hub='ibm-q', group='open', project='main')>,\n",
       " <IBMQBackend('ibmq_quito') from IBMQ(hub='ibm-q', group='open', project='main')>,\n",
       " <IBMQSimulator('simulator_statevector') from IBMQ(hub='ibm-q', group='open', project='main')>,\n",
       " <IBMQSimulator('simulator_mps') from IBMQ(hub='ibm-q', group='open', project='main')>,\n",
       " <IBMQSimulator('simulator_extended_stabilizer') from IBMQ(hub='ibm-q', group='open', project='main')>,\n",
       " <IBMQSimulator('simulator_stabilizer') from IBMQ(hub='ibm-q', group='open', project='main')>,\n",
       " <IBMQBackend('ibmq_manila') from IBMQ(hub='ibm-q', group='open', project='main')>]"
      ]
     },
     "execution_count": 17,
     "metadata": {},
     "output_type": "execute_result"
    }
   ],
   "source": [
    "provider = IBMQ.get_provider('ibm-q')\n",
    "provider.backends()"
   ]
  },
  {
   "cell_type": "markdown",
   "metadata": {},
   "source": [
    "Among these options, you may pick one of the systems to run your circuits on.  All except the `ibmq_qasm_simulator` all are real quantum computers that you can use.  The differences among these systems resides in the number of qubits, their connectivity, and the system error rates.  \n",
    "\n",
    "Upon executing the following cell you will be presented with a widget that displays all of the information about your choice of the backend.  You can obtain information that you need by clicking on the tabs. For example, backend status, number of qubits and the connectivity are under `configuration` tab, where as the `Error Map` tab will reveal the latest noise information for the system. "
   ]
  },
  {
   "cell_type": "code",
   "execution_count": 18,
   "metadata": {
    "tags": [
     "uses-hardware"
    ]
   },
   "outputs": [
    {
     "data": {
      "application/vnd.jupyter.widget-view+json": {
       "model_id": "dd1921a9ecae485283b540a530e86a14",
       "version_major": 2,
       "version_minor": 0
      },
      "text/plain": [
       "VBox(children=(HTML(value=\"<h1 style='color:#ffffff;background-color:#000000;padding-top: 1%;padding-bottom: 1…"
      ]
     },
     "metadata": {},
     "output_type": "display_data"
    },
    {
     "data": {
      "text/plain": [
       "<IBMQBackend('ibmq_lima') from IBMQ(hub='ibm-q', group='open', project='main')>"
      ]
     },
     "execution_count": 18,
     "metadata": {},
     "output_type": "execute_result"
    }
   ],
   "source": [
    "import qiskit.tools.jupyter\n",
    "\n",
    "backend_ex = provider.get_backend('ibmq_lima')\n",
    "backend_ex"
   ]
  },
  {
   "cell_type": "markdown",
   "metadata": {},
   "source": [
    "For our AND gate circuit, we need a backend with three or more qubits, which is true for all the real systems except for `ibmq_armonk`.  Below is an example of how to filter backends, where we filter for number of qubits, and remove simulators:"
   ]
  },
  {
   "cell_type": "code",
   "execution_count": 19,
   "metadata": {
    "tags": [
     "uses-hardware"
    ]
   },
   "outputs": [
    {
     "data": {
      "text/plain": [
       "[<IBMQBackend('ibmq_santiago') from IBMQ(hub='ibm-q', group='open', project='main')>,\n",
       " <IBMQBackend('ibmq_bogota') from IBMQ(hub='ibm-q', group='open', project='main')>,\n",
       " <IBMQBackend('ibmq_lima') from IBMQ(hub='ibm-q', group='open', project='main')>,\n",
       " <IBMQBackend('ibmq_belem') from IBMQ(hub='ibm-q', group='open', project='main')>,\n",
       " <IBMQBackend('ibmq_quito') from IBMQ(hub='ibm-q', group='open', project='main')>,\n",
       " <IBMQBackend('ibmq_manila') from IBMQ(hub='ibm-q', group='open', project='main')>]"
      ]
     },
     "execution_count": 19,
     "metadata": {},
     "output_type": "execute_result"
    }
   ],
   "source": [
    "backends = provider.backends(filters = lambda x:x.configuration().n_qubits >= 2 and not x.configuration().simulator\n",
    "                             and x.status().operational==True)\n",
    "backends"
   ]
  },
  {
   "cell_type": "markdown",
   "metadata": {},
   "source": [
    "One convenient way to choose a system is using the `least_busy` function to get the backend with the lowest number of jobs in queue.  The downside is that the result might have relatively poor accuracy because, not surprisingly, the lowest error rate systems are the most popular."
   ]
  },
  {
   "cell_type": "code",
   "execution_count": 20,
   "metadata": {
    "tags": [
     "uses-hardware"
    ]
   },
   "outputs": [
    {
     "data": {
      "application/vnd.jupyter.widget-view+json": {
       "model_id": "b9e9416c034b44c5a59c64e25b027116",
       "version_major": 2,
       "version_minor": 0
      },
      "text/plain": [
       "VBox(children=(HTML(value=\"<h1 style='color:#ffffff;background-color:#000000;padding-top: 1%;padding-bottom: 1…"
      ]
     },
     "metadata": {},
     "output_type": "display_data"
    },
    {
     "data": {
      "text/plain": [
       "<IBMQBackend('ibmq_belem') from IBMQ(hub='ibm-q', group='open', project='main')>"
      ]
     },
     "execution_count": 20,
     "metadata": {},
     "output_type": "execute_result"
    }
   ],
   "source": [
    "from qiskit.providers.ibmq import least_busy\n",
    "backend = least_busy(provider.backends(filters=lambda x: x.configuration().n_qubits >= 2 and \n",
    "                                        not x.configuration().simulator and x.status().operational==True))\n",
    "backend"
   ]
  },
  {
   "cell_type": "markdown",
   "metadata": {},
   "source": [
    "Real quantum computers need to be recalibrated regularly, and the fidelity of a specific qubit or gate can change over time. Therefore, which system would produce results with less error can vary. \n",
    "\n",
    "In this exercise, we select one of the IBM Quantum systems: `ibmq_quito`."
   ]
  },
  {
   "cell_type": "code",
   "execution_count": 21,
   "metadata": {
    "tags": [
     "uses-hardware"
    ]
   },
   "outputs": [],
   "source": [
    "# run this cell\n",
    "backend = provider.get_backend('ibmq_quito')"
   ]
  },
  {
   "cell_type": "markdown",
   "metadata": {},
   "source": [
    "<h3 style=\"font-size: 20px\">Step 2. Define AND function for a real device</h3>\n",
    "\n",
    "We now define the AND function.  We choose 8192 as the number of shots, the maximum number of shots for open IBM systems, to reduce the variance in the final result. Related information is well explained [here](https://quantum-computing.ibm.com/docs/manage/backends/configuration)."
   ]
  },
  {
   "cell_type": "markdown",
   "metadata": {},
   "source": [
    "<h4 style=\"font-size: 16px\">Qiskit Transpiler</h4>"
   ]
  },
  {
   "cell_type": "markdown",
   "metadata": {},
   "source": [
    "It is important to know that when running a circuit on a real quantum computer, circuits typically need to be transpiled for the backend that you select so that the circuit contains only those gates that the quantum computer can actually perform. Primarily this involves the addition of swap gates so that two-qubit gates in the circuit map to those pairs of qubits on the device that can actually perform these gates. The following cell shows the AND gate represented as a Toffoli gate decomposed into single- and two-qubit gates, which are the only types of gate that can be run on IBM hardware."
   ]
  },
  {
   "cell_type": "code",
   "execution_count": 22,
   "metadata": {},
   "outputs": [
    {
     "name": "stdout",
     "output_type": "stream",
     "text": [
      "AND gate\n"
     ]
    },
    {
     "data": {
      "image/png": "[encoded data removed]",
      "text/plain": [
       "<Figure size 146.797x204.68 with 1 Axes>"
      ]
     },
     "metadata": {},
     "output_type": "display_data"
    },
    {
     "name": "stdout",
     "output_type": "stream",
     "text": [
      "\n",
      "\n",
      "Transpiled AND gate with all the required connectivity\n"
     ]
    },
    {
     "data": {
      "image/png": "[encoded data removed]",
      "text/plain": [
       "<Figure size 748.797x204.68 with 1 Axes>"
      ]
     },
     "execution_count": 22,
     "metadata": {},
     "output_type": "execute_result"
    }
   ],
   "source": [
    "qc_and = QuantumCircuit(3)\n",
    "qc_and.ccx(0,1,2)\n",
    "print('AND gate')\n",
    "display(qc_and.draw())\n",
    "print('\\n\\nTranspiled AND gate with all the required connectivity')\n",
    "qc_and.decompose().draw()"
   ]
  },
  {
   "cell_type": "markdown",
   "metadata": {},
   "source": [
    "In addition, there are often optimizations that the transpiler can perform that reduce the overall gate count, and thus total length of the input circuits.  Note that the addition of swaps to match the device topology, and optimizations for reducing the length of a circuit are at odds with each other. In what follows we will make use of `initial_layout` that allows us to pick the qubits on a device used for the computation and `optimization_level`, an argument that allows selecting from internal defaults for circuit swap mapping and optimization methods to perform.\n",
    "\n",
    "You can learn more about transpile function in depth [here](https://qiskit.org/documentation/apidoc/transpiler.html)."
   ]
  },
  {
   "cell_type": "markdown",
   "metadata": {},
   "source": [
    "Let's modify AND function in Part1 properly for the real system with the transpile step included."
   ]
  },
  {
   "cell_type": "code",
   "execution_count": 23,
   "metadata": {
    "tags": [
     "uses-hardware"
    ]
   },
   "outputs": [],
   "source": [
    "from qiskit.tools.monitor import job_monitor"
   ]
  },
  {
   "cell_type": "code",
   "execution_count": 24,
   "metadata": {
    "tags": [
     "uses-hardware"
    ]
   },
   "outputs": [],
   "source": [
    "# run the cell to define AND gate for real quantum system\n",
    "\n",
    "def AND(inp1, inp2, backend, layout):\n",
    "    \n",
    "    qc = QuantumCircuit(3, 1) \n",
    "    qc.reset(range(3))\n",
    "    \n",
    "    if inp1=='1':\n",
    "        qc.x(0)\n",
    "    if inp2=='1':\n",
    "        qc.x(1)\n",
    "        \n",
    "    qc.barrier()\n",
    "    qc.ccx(0, 1, 2) \n",
    "    qc.barrier()\n",
    "    qc.measure(2, 0) \n",
    "  \n",
    "    qc_trans = transpile(qc, backend, initial_layout=layout, optimization_level=3)\n",
    "    job = backend.run(qc_trans, shots=8192)\n",
    "    print(job.job_id())\n",
    "    job_monitor(job)\n",
    "    \n",
    "    output = job.result().get_counts()\n",
    "    \n",
    "    return qc_trans, output"
   ]
  },
  {
   "cell_type": "markdown",
   "metadata": {},
   "source": [
    "When you submit jobs to quantum systems, `job_monitor` will start tracking where your submitted job is in the pipeline."
   ]
  },
  {
   "cell_type": "markdown",
   "metadata": {},
   "source": [
    "First, examine `ibmq_quito` through the widget by running the cell below."
   ]
  },
  {
   "cell_type": "code",
   "execution_count": 26,
   "metadata": {},
   "outputs": [
    {
     "data": {
      "application/vnd.jupyter.widget-view+json": {
       "model_id": "d65005ce0996478081db36bf411057be",
       "version_major": 2,
       "version_minor": 0
      },
      "text/plain": [
       "VBox(children=(HTML(value=\"<h1 style='color:#ffffff;background-color:#000000;padding-top: 1%;padding-bottom: 1…"
      ]
     },
     "metadata": {},
     "output_type": "display_data"
    },
    {
     "data": {
      "text/plain": [
       "<IBMQBackend('ibmq_quito') from IBMQ(hub='ibm-q', group='open', project='main')>"
      ]
     },
     "execution_count": 26,
     "metadata": {},
     "output_type": "execute_result"
    }
   ],
   "source": [
    "backend"
   ]
  },
  {
   "cell_type": "markdown",
   "metadata": {},
   "source": [
    "<p>&#128211; Determine three qubit initial layout considering the error map and assign it to the list variable layout2.</p>"
   ]
  },
  {
   "cell_type": "code",
   "execution_count": 28,
   "metadata": {},
   "outputs": [],
   "source": [
    "layout = (3,2,1)"
   ]
  },
  {
   "cell_type": "markdown",
   "metadata": {},
   "source": [
    "<p>&#128211; Describe the reason for your choice of initial layout.</p>\n",
    "\n",
    "**your answer: Because they're the three nodes with less error rate when we examine the error map window. Also, we select the third one because as the first because I think that it will be better to have less error rate in the target qubit. **             "
   ]
  },
  {
   "cell_type": "markdown",
   "metadata": {},
   "source": [
    "Execute `AND` gate on `ibmq_quito` by running the cell below."
   ]
  },
  {
   "cell_type": "code",
   "execution_count": 29,
   "metadata": {},
   "outputs": [
    {
     "name": "stdout",
     "output_type": "stream",
     "text": [
      "6260495172e2114d34b79ca1\n",
      "Job Status: job has successfully run\n",
      "\n",
      "Probability of correct answer for inputs 0 0\n",
      "0.93\n",
      "---------------------------------\n",
      "626049793ba1990133565aad\n",
      "Job Status: job has successfully run\n",
      "\n",
      "Probability of correct answer for inputs 0 1\n",
      "0.93\n",
      "---------------------------------\n",
      "626049dea28f430c16a009dc\n",
      "Job Status: job has successfully run\n",
      "\n",
      "Probability of correct answer for inputs 1 0\n",
      "0.87\n",
      "---------------------------------\n",
      "626049f2a28f435e2ca009dd\n",
      "Job Status: job has successfully run\n",
      "\n",
      "Probability of correct answer for inputs 1 1\n",
      "0.84\n",
      "---------------------------------\n",
      "\n",
      "\n",
      "The highest of these probabilities was 0.93\n",
      "The lowest of these probabilities was 0.84\n"
     ]
    }
   ],
   "source": [
    "output_all = []\n",
    "qc_trans_all = []\n",
    "prob_all = []\n",
    "\n",
    "worst = 1\n",
    "best = 0\n",
    "for input1 in ['0','1']:\n",
    "    for input2 in ['0','1']:\n",
    "        qc_trans, output = AND(input1, input2, backend, layout)\n",
    "        \n",
    "        output_all.append(output)\n",
    "        qc_trans_all.append(qc_trans)\n",
    "        \n",
    "        prob = output[str(int( input1=='1' and input2=='1' ))]/8192\n",
    "        prob_all.append(prob)\n",
    "        \n",
    "        print('\\nProbability of correct answer for inputs',input1,input2)\n",
    "        print('{:.2f}'.format(prob) )\n",
    "        print('---------------------------------')\n",
    "        \n",
    "        worst = min(worst,prob)\n",
    "        best = max(best, prob)\n",
    "        \n",
    "print('')\n",
    "print('\\nThe highest of these probabilities was {:.2f}'.format(best))\n",
    "print('The lowest of these probabilities was {:.2f}'.format(worst))"
   ]
  },
  {
   "cell_type": "markdown",
   "metadata": {},
   "source": [
    "<h3 style=\"font-size: 20px\">Step 3. Interpret the result</h3>"
   ]
  },
  {
   "cell_type": "markdown",
   "metadata": {},
   "source": [
    "There are several quantities that distinguish the circuits.  Chief among them is the  **circuit depth**.  Circuit depth is defined in detail [here](https://qiskit.org/documentation/apidoc/circuit.html) (See the Supplementary Information and click the Quantum Circuit Properties tab). Circuit depth is proportional to the number of gates in a circuit, and loosely corresponds to the runtime of the circuit on hardware.   Therefore, circuit depth is an easy to compute metric that can be used to estimate the fidelity of an executed circuit.\n",
    "\n",
    "A second important value is the number of **nonlocal** (multi-qubit) **gates** in a circuit.  On IBM Quantum systems, the only nonlocal gate that can physically be performed is the CNOT gate.  Recall that CNOT gates are the most expensive gates to perform, and thus the total number of these gates also serves as a good benchmark for the accuracy of the final output."
   ]
  },
  {
   "cell_type": "markdown",
   "metadata": {},
   "source": [
    "<h4 style=\"font-size: 16px\"> Circuit depth and result accuracy</h4>"
   ]
  },
  {
   "cell_type": "markdown",
   "metadata": {},
   "source": [
    "Running the cells below will display the four transpiled AND gate circuit diagrams with the corresponding inputs that executed on `ibm_lagos` and their circuit depths with the success probability for producing correct answer."
   ]
  },
  {
   "cell_type": "code",
   "execution_count": 30,
   "metadata": {},
   "outputs": [
    {
     "name": "stdout",
     "output_type": "stream",
     "text": [
      "Transpiled AND gate circuit for ibmq_vigo with input 0 0\n",
      "\n",
      "The circuit depth : 22\n",
      "# of nonlocal gates : 7\n",
      "Probability of correct answer : 0.93\n"
     ]
    },
    {
     "data": {
      "image/png": "[encoded data removed]",
      "text/plain": [
       "<Figure size 1623.99x385.28 with 1 Axes>"
      ]
     },
     "execution_count": 30,
     "metadata": {},
     "output_type": "execute_result"
    }
   ],
   "source": [
    "print('Transpiled AND gate circuit for ibmq_vigo with input 0 0')\n",
    "print('\\nThe circuit depth : {}'.format (qc_trans_all[0].depth()))\n",
    "print('# of nonlocal gates : {}'.format (qc_trans_all[0].num_nonlocal_gates()))\n",
    "print('Probability of correct answer : {:.2f}'.format(prob_all[0]) )\n",
    "qc_trans_all[0].draw('mpl')"
   ]
  },
  {
   "cell_type": "code",
   "execution_count": 31,
   "metadata": {},
   "outputs": [
    {
     "name": "stdout",
     "output_type": "stream",
     "text": [
      "Transpiled AND gate circuit for ibmq_vigo with input 0 1\n",
      "\n",
      "The circuit depth : 23\n",
      "# of nonlocal gates : 7\n",
      "Probability of correct answer : 0.93\n"
     ]
    },
    {
     "data": {
      "image/png": "[encoded data removed]",
      "text/plain": [
       "<Figure size 1684.19x385.28 with 1 Axes>"
      ]
     },
     "execution_count": 31,
     "metadata": {},
     "output_type": "execute_result"
    }
   ],
   "source": [
    "print('Transpiled AND gate circuit for ibmq_vigo with input 0 1')\n",
    "print('\\nThe circuit depth : {}'.format (qc_trans_all[1].depth()))\n",
    "print('# of nonlocal gates : {}'.format (qc_trans_all[1].num_nonlocal_gates()))\n",
    "print('Probability of correct answer : {:.2f}'.format(prob_all[1]) )\n",
    "qc_trans_all[1].draw('mpl')"
   ]
  },
  {
   "cell_type": "code",
   "execution_count": 32,
   "metadata": {},
   "outputs": [
    {
     "name": "stdout",
     "output_type": "stream",
     "text": [
      "Transpiled AND gate circuit for ibmq_vigo with input 1 0\n",
      "\n",
      "The circuit depth : 23\n",
      "# of nonlocal gates : 7\n",
      "Probability of correct answer : 0.87\n"
     ]
    },
    {
     "data": {
      "image/png": "[encoded data removed]",
      "text/plain": [
       "<Figure size 1684.19x385.28 with 1 Axes>"
      ]
     },
     "execution_count": 32,
     "metadata": {},
     "output_type": "execute_result"
    }
   ],
   "source": [
    "print('Transpiled AND gate circuit for ibmq_vigo with input 1 0')\n",
    "print('\\nThe circuit depth : {}'.format (qc_trans_all[2].depth()))\n",
    "print('# of nonlocal gates : {}'.format (qc_trans_all[2].num_nonlocal_gates()))\n",
    "print('Probability of correct answer : {:.2f}'.format(prob_all[2]) )\n",
    "qc_trans_all[2].draw('mpl')"
   ]
  },
  {
   "cell_type": "code",
   "execution_count": 33,
   "metadata": {},
   "outputs": [
    {
     "name": "stdout",
     "output_type": "stream",
     "text": [
      "Transpiled AND gate circuit for ibmq_vigo with input 1 1\n",
      "\n",
      "The circuit depth : 21\n",
      "# of nonlocal gates : 9\n",
      "Probability of correct answer : 0.84\n"
     ]
    },
    {
     "data": {
      "image/png": "[encoded data removed]",
      "text/plain": [
       "<Figure size 1563.79x385.28 with 1 Axes>"
      ]
     },
     "execution_count": 33,
     "metadata": {},
     "output_type": "execute_result"
    }
   ],
   "source": [
    "print('Transpiled AND gate circuit for ibmq_vigo with input 1 1')\n",
    "print('\\nThe circuit depth : {}'.format (qc_trans_all[3].depth()))\n",
    "print('# of nonlocal gates : {}'.format (qc_trans_all[3].num_nonlocal_gates()))\n",
    "print('Probability of correct answer : {:.2f}'.format(prob_all[3]) )\n",
    "qc_trans_all[3].draw('mpl')"
   ]
  },
  {
   "cell_type": "markdown",
   "metadata": {},
   "source": [
    "<p>&#128211; Explain reason for the dissimilarity of the circuits.  Describe the relations between the property of the circuit and the accuracy of the outcomes.</p>"
   ]
  },
  {
   "cell_type": "markdown",
   "metadata": {},
   "source": [
    "**your answer:** Normalmente, aquellos circuitos que tengan menor profundidad tendrán peores resultados en la probabilidad de respuesta correcta. Esto sucede porque vamos acumulando el error, es decir, cuanto más profundo, más probabilidad de error tenemos. También nos ocurre (en el caso de entrada 1-1) que, tenemos la profundidad más pequeña pero el error más grande, esto sucede porque es el circuito que mayor número de puertas CNOT utiliza. El uso de puertas CNOT también agrava el error. Por tanto, podemos obsevar que los mejores resultados los obtenemos con entradas 0-0 y 0-1, que aunque no tengan la menor profundidad, si que son las que tienen menor número de puertas CNOT (7 en ambos casos). El caso de 1-0 tenemos profundidad 23 y un uso de también 7 puertas, por tanto obtenemos un peor resultado que en los dos anteriores (debido a la profundidad mayor). En el caso de 1-1 tenemos profundidad 21 y 9 puertas y es en el que peor resultado obtenemos. Como vemos en el apartado anterior en la parte de error map, vemos que el error de las puertas CNOT es alto, por tanto, podemos decir que este agrava mucho más la probabilidad de respuesta correcta que la profundidad que tenga el circuito. "
   ]
  },
  {
   "cell_type": "code",
   "execution_count": null,
   "metadata": {},
   "outputs": [],
   "source": []
  },
  {
   "cell_type": "code",
   "execution_count": null,
   "metadata": {},
   "outputs": [],
   "source": []
  }
 ],
 "metadata": {
  "kernelspec": {
   "display_name": "Qiskit v0.35.0 (ipykernel)",
   "language": "python",
   "name": "python3"
  },
  "language_info": {
   "codemirror_mode": {
    "name": "ipython",
    "version": 3
   },
   "file_extension": ".py",
   "mimetype": "text/x-python",
   "name": "python",
   "nbconvert_exporter": "python",
   "pygments_lexer": "ipython3",
   "version": "3.8.13"
  },
  "widgets": {
   "application/vnd.jupyter.widget-state+json": {
    "state": {
     "004037cae796475abb63b6da9325552b": {
      "model_module": "@jupyter-widgets/base",
      "model_module_version": "1.2.0",
      "model_name": "LayoutModel",
      "state": {
       "grid_area": "right"
      }
     },
     "00e85d796d7f45fb9a627d3c57c33ec3": {
      "model_module": "@jupyter-widgets/base",
      "model_module_version": "1.2.0",
      "model_name": "LayoutModel",
      "state": {
       "width": "95px"
      }
     },
     "014b30323e9a48abb03f09ff2ea2e960": {
      "model_module": "@jupyter-widgets/base",
      "model_module_version": "1.2.0",
      "model_name": "LayoutModel",
      "state": {
       "width": "145px"
      }
     },
     "01620ba566ee43fcb68aebbb4746ee04": {
      "model_module": "@jupyter-widgets/controls",
      "model_module_version": "1.5.0",
      "model_name": "HTMLModel",
      "state": {
       "layout": "IPY_MODEL_34097e6fe9654c58b15934db2db72402",
       "style": "IPY_MODEL_ebc3984eaa624ad99603ccff5c73b1c1",
       "value": "626049f2a28f435e2ca009dd"
      }
     },
     "0171df54d48f4fda81213f50c9cd79cf": {
      "model_module": "@jupyter-widgets/base",
      "model_module_version": "1.2.0",
      "model_name": "LayoutModel",
      "state": {
       "width": "70px"
      }
     },
     "0244a62d9eda4e6e9c961b080a69e8ed": {
      "model_module": "@jupyter-widgets/base",
      "model_module_version": "1.2.0",
      "model_name": "LayoutModel",
      "state": {
       "width": "95px"
      }
     },
     "037bc647b23f4c6f8a3562f569535bd8": {
      "model_module": "@jupyter-widgets/base",
      "model_module_version": "1.2.0",
      "model_name": "LayoutModel",
      "state": {
       "grid_area": "left",
       "width": "100%"
      }
     },
     "03fc7bb383834a5ca965879eadf1da0e": {
      "model_module": "@jupyter-widgets/controls",
      "model_module_version": "1.5.0",
      "model_name": "DescriptionStyleModel",
      "state": {
       "description_width": ""
      }
     },
     "04893f21d8a04f9196c312362c4254ee": {
      "model_module": "@jupyter-widgets/controls",
      "model_module_version": "1.5.0",
      "model_name": "HTMLModel",
      "state": {
       "layout": "IPY_MODEL_d5f272dff49d4af7990eeca3bc3ed020",
       "style": "IPY_MODEL_3d9dbe3d5e674e94bd804e30c58e49ba",
       "value": "<div><font style='font-weight:bold'>last_update_date</font>: Wed 20 April 2022 at 05:23 UTC</div>"
      }
     },
     "0492875266274900895256f7540bec0f": {
      "model_module": "@jupyter-widgets/controls",
      "model_module_version": "1.5.0",
      "model_name": "ButtonModel",
      "state": {
       "icon": "close",
       "layout": "IPY_MODEL_9b80a112eb844144bc75f48b23947f78",
       "style": "IPY_MODEL_832d8e1b71ef4394883ce1447be8758f"
      }
     },
     "05a8acf9b9c94246826b1703e08bb18b": {
      "model_module": "@jupyter-widgets/controls",
      "model_module_version": "1.5.0",
      "model_name": "HTMLModel",
      "state": {
       "layout": "IPY_MODEL_e9ab22f877374d58a95906ae411e2a05",
       "style": "IPY_MODEL_ec26f905356f47438b918e2e95adfe78",
       "value": "<table><style>\ntable {\n    border-collapse: collapse;\n    width: auto;\n}\n\nth, td {\n    text-align: left;\n    padding: 8px;\n}\n\ntr:nth-child(even) {background-color: #f6f6f6;}\n</style><tr><th></th><th>Frequency</th><th>T1</th><th>T2</th><th>RZ</th><th>SX</th><th>X</th><th>Readout error</th></tr><tr><td><font style='font-weight:bold'>Q0</font></td><td>5.3006 GHz</td><td>90.3772 us</td><td>106.93788 us</td><td>0</td><td>0.00152</td><td>0.00152</td><td>0.037 </td><tr><td><font style='font-weight:bold'>Q1</font></td><td>5.08063 GHz</td><td>159.58002 us</td><td>141.26775 us</td><td>0</td><td>0.00031</td><td>0.00031</td><td>0.0185 </td><tr><td><font style='font-weight:bold'>Q2</font></td><td>5.32219 GHz</td><td>96.15256 us</td><td>164.51061 us</td><td>0</td><td>0.00028</td><td>0.00028</td><td>0.0199 </td><tr><td><font style='font-weight:bold'>Q3</font></td><td>5.16365 GHz</td><td>97.96758 us</td><td>20.86423 us</td><td>0</td><td>0.00119</td><td>0.00119</td><td>0.1661 </td><tr><td><font style='font-weight:bold'>Q4</font></td><td>5.05231 GHz</td><td>57.03447 us</td><td>75.56654 us</td><td>0</td><td>0.00042</td><td>0.00042</td><td>0.0278 </td></table>"
      }
     },
     "08a6a516de3d43d3b3d6ad6071bd8ac6": {
      "model_module": "@jupyter-widgets/controls",
      "model_module_version": "1.5.0",
      "model_name": "GridBoxModel",
      "state": {
       "children": [
        "IPY_MODEL_32d4464fa2c94cf5a573a68b69633abc",
        "IPY_MODEL_cc8bcd9cd01b4339b300cc8fc38fb6c3",
        "IPY_MODEL_ad97a223076946b99a3877d698785903"
       ],
       "layout": "IPY_MODEL_2050607d5586460d842ce703ba8b9f2d"
      }
     },
     "0a4ce6d958a1455bb075957d22af364f": {
      "model_module": "@jupyter-widgets/controls",
      "model_module_version": "1.5.0",
      "model_name": "DescriptionStyleModel",
      "state": {
       "description_width": ""
      }
     },
     "0b2436d08af641e1b175871c800c9e95": {
      "model_module": "@jupyter-widgets/controls",
      "model_module_version": "1.5.0",
      "model_name": "DescriptionStyleModel",
      "state": {
       "description_width": ""
      }
     },
     "0b487109a6d549d181ef2954235269c9": {
      "model_module": "@jupyter-widgets/controls",
      "model_module_version": "1.5.0",
      "model_name": "HTMLModel",
      "state": {
       "layout": "IPY_MODEL_2410b4ff5b34427ebc0833240961b3be",
       "style": "IPY_MODEL_5c07ee399f4744daac29ef882ec75880",
       "value": "job has successfully run"
      }
     },
     "0c9e07815f6940b599c966d8e970a28c": {
      "model_module": "@jupyter-widgets/controls",
      "model_module_version": "1.5.0",
      "model_name": "HTMLModel",
      "state": {
       "layout": "IPY_MODEL_5fd5af8329854d2497bb12180cdb9989",
       "style": "IPY_MODEL_b8535cc689b04746a054379d46419847",
       "value": "-"
      }
     },
     "0d317022cc25443b81864c97bc1da4e8": {
      "model_module": "@jupyter-widgets/controls",
      "model_module_version": "1.5.0",
      "model_name": "TabModel",
      "state": {
       "layout": "IPY_MODEL_cd555a79a6d643668f2e9f7088b1206f"
      }
     },
     "0e82ed20d96e4025bc9aca11f9638756": {
      "model_module": "@jupyter-widgets/base",
      "model_module_version": "1.2.0",
      "model_name": "LayoutModel",
      "state": {
       "max_height": "620px"
      }
     },
     "0f9bf465267d405a84cf31312f8d516d": {
      "model_module": "@jupyter-widgets/output",
      "model_module_version": "1.0.0",
      "model_name": "OutputModel",
      "state": {
       "layout": "IPY_MODEL_73e92ea5e2df49358b72f7798d3d1889",
       "outputs": [
        {
         "data": {
          "image/png": "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\n",
          "text/plain": "<Figure size 360x360 with 1 Axes>"
         },
         "metadata": {},
         "output_type": "display_data"
        }
       ]
      }
     },
     "10d6e1782c8549558fb8b85a14cbf5d1": {
      "model_module": "@jupyter-widgets/controls",
      "model_module_version": "1.5.0",
      "model_name": "HBoxModel",
      "state": {
       "children": [
        "IPY_MODEL_0492875266274900895256f7540bec0f",
        "IPY_MODEL_3be1610d642841ba9b7702ca04c53a49",
        "IPY_MODEL_5698e6d4bc7d49d6a201a1a20263e812",
        "IPY_MODEL_a5724485379d449297ac8746c0af7d53",
        "IPY_MODEL_a1f0967d14e34bc0a6024c919f1c4459",
        "IPY_MODEL_a0530be3f2af49e290ac6f81b322911c"
       ],
       "layout": "IPY_MODEL_e5479334e9e54ddda51e5ed034f8ffe3"
      }
     },
     "11688dce40244a339015cab5e981e3c1": {
      "model_module": "@jupyter-widgets/controls",
      "model_module_version": "1.5.0",
      "model_name": "GridBoxModel",
      "state": {
       "children": [
        "IPY_MODEL_d1a3d4c2c82648dba7b77fd2bfe351c9",
        "IPY_MODEL_87e0318889a54ee39595c12065af2b70",
        "IPY_MODEL_eb0a93ef6963462f92eb7807fb8d1b94",
        "IPY_MODEL_9ea573d204e448ee8e6d65a6dc24f126"
       ],
       "layout": "IPY_MODEL_73e789fb433b4393b52b3aa8281817a8"
      }
     },
     "11edb61c572542cea4d8820d1963cca9": {
      "model_module": "@jupyter-widgets/controls",
      "model_module_version": "1.5.0",
      "model_name": "HTMLModel",
      "state": {
       "layout": "IPY_MODEL_25b144c2eea04914b057b582e285f6b4",
       "style": "IPY_MODEL_dd39d2b255864fa1b6ecd931d9663640",
       "value": "<div><font style='font-weight:bold'>last_update_date</font>: Wed 20 April 2022 at 14:11 UTC</div>"
      }
     },
     "1432fabcd15d484e920cc5523de1f49b": {
      "model_module": "@jupyter-widgets/controls",
      "model_module_version": "1.5.0",
      "model_name": "DescriptionStyleModel",
      "state": {
       "description_width": ""
      }
     },
     "143cca4fa4fe4127bf5e478392f565ea": {
      "model_module": "@jupyter-widgets/base",
      "model_module_version": "1.2.0",
      "model_name": "LayoutModel",
      "state": {
       "align_items": "center",
       "display": "flex-inline"
      }
     },
     "14b6fe3e86d245909eb8e8585a03359b": {
      "model_module": "@jupyter-widgets/base",
      "model_module_version": "1.2.0",
      "model_name": "LayoutModel",
      "state": {
       "width": "190px"
      }
     },
     "150ec665b3d045fc85c11ac371f9cc61": {
      "model_module": "@jupyter-widgets/controls",
      "model_module_version": "1.5.0",
      "model_name": "DescriptionStyleModel",
      "state": {
       "description_width": ""
      }
     },
     "1572010f344e4d9cb33c318353b501e0": {
      "model_module": "@jupyter-widgets/controls",
      "model_module_version": "1.5.0",
      "model_name": "HTMLModel",
      "state": {
       "layout": "IPY_MODEL_5a1adafae4b6471a94680aaa2a424c9e",
       "style": "IPY_MODEL_924279fe8505459ab211e35f64764eaf",
       "value": "-"
      }
     },
     "19992968dcc24cae9942b8270b7126b0": {
      "model_module": "@jupyter-widgets/base",
      "model_module_version": "1.2.0",
      "model_name": "LayoutModel",
      "state": {
       "grid_area": "top"
      }
     },
     "1a029274ece14a02b7a0bcc68bb5eeb1": {
      "model_module": "@jupyter-widgets/controls",
      "model_module_version": "1.5.0",
      "model_name": "HBoxModel",
      "state": {
       "children": [
        "IPY_MODEL_bea31247a1914d19b7ad9868a6265244",
        "IPY_MODEL_dbc556871a474df882e523c36d2f61b8",
        "IPY_MODEL_2e59d590830b4569a277801ef2eaf611",
        "IPY_MODEL_27cd0d46065a42e584131ebb3694a660",
        "IPY_MODEL_f5862cb0a15b495d9800400fee4defbf",
        "IPY_MODEL_c9dd5bdd34a44355905250edaf9e1484"
       ],
       "layout": "IPY_MODEL_6e5358aa76264aa28192650bff014121"
      }
     },
     "1b1a8b799bac475bb18cb6569c597ea9": {
      "model_module": "@jupyter-widgets/controls",
      "model_module_version": "1.5.0",
      "model_name": "VBoxModel",
      "state": {
       "children": [
        "IPY_MODEL_aa66664e84504f94bfe9619ae6427d1b",
        "IPY_MODEL_05a8acf9b9c94246826b1703e08bb18b"
       ],
       "layout": "IPY_MODEL_eba8373605f941f5ac2e8dbbdce079d9"
      }
     },
     "1b4e2a73a5d546979514e14409d7a745": {
      "model_module": "@jupyter-widgets/controls",
      "model_module_version": "1.5.0",
      "model_name": "HTMLMathModel",
      "state": {
       "layout": "IPY_MODEL_9545eec0ed2f431999ce720cb2c774f9",
       "style": "IPY_MODEL_244874ead65244a8beac011fda98f562",
       "value": "<table><style>\ntable {\n    border-collapse: collapse;\n    width: auto;\n}\n\nth, td {\n    text-align: left;\n    padding: 8px;\n}\n\ntr:nth-child(even) {background-color: #f6f6f6;}\n</style><tr><th></th><th></th></tr><tr><td>pulse_num_qubits</td><td>3</td></tr><tr><td>conditional</td><td>False</td></tr><tr><td>supported_features</td><td>['qobj']</td></tr><tr><td>n_registers</td><td>1</td></tr><tr><td>dynamic_reprate_enabled</td><td>True</td></tr><tr><td>meas_kernels</td><td>['hw_boxcar']</td></tr><tr><td>u_channel_lo</td><td>[[{'q': 1, 'scale': (1+0j)}], [{'q': 0, 'scale': (1+0j)}], [{'q': 2, 'scale': (1+0j)}], [{'q': 3, 'scale': (1+0j)}], [{'q': 1, 'scale': (1+0j)}], [{'q': 1, 'scale': (1+0j)}], [{'q': 4, 'scale': (1+0j)}], [{'q': 3, 'scale': (1+0j)}]]</td></tr><tr><td>processor_type</td><td>{'family': 'Falcon', 'revision': 4, 'segment': 'T'}</td></tr><tr><td>pulse_num_channels</td><td>9</td></tr><tr><td>dtm</td><td>0.2222222222222222</td></tr><tr><td>parametric_pulses</td><td>['gaussian', 'gaussian_square', 'drag', 'constant']</td></tr><tr><td>multi_meas_enabled</td><td>True</td></tr><tr><td>default_rep_delay</td><td>250.0</td></tr><tr><td>coupling_map</td><td>[[0, 1], [1, 0], [1, 2], [1, 3], [2, 1], [3, 1], [3, 4], [4, 3]]</td></tr><tr><td>online_date</td><td>2021-01-08 05:00:00+00:00</td></tr><tr><td>live_data</td><td>False</td></tr><tr><td>meas_levels</td><td>[1, 2]</td></tr><tr><td>supported_instructions</td><td>['shiftf', 'rz', 'cx', 'delay', 'id', 'u3', 'x', 'u2', 'sx', 'play', 'measure', 'setf', 'u1', 'acquire', 'reset']</td></tr><tr><td>sample_name</td><td>family: Falcon, revision: 4, segment: T</td></tr><tr><td>rep_times</td><td>[1000.0]</td></tr><tr><td>dt</td><td>0.2222222222222222</td></tr><tr><td>rep_delay_range</td><td>[0.0, 500.0]</td></tr><tr><td>description</td><td>5 qubit device Quito</td></tr><tr><td>uchannels_enabled</td><td>True</td></tr><tr><td>measure_esp_enabled</td><td>False</td></tr><tr><td>allow_object_storage</td><td>True</td></tr><tr><td>timing_constraints</td><td>{'acquire_alignment': 16, 'granularity': 16, 'min_length': 64, 'pulse_alignment': 1}</td></tr><tr><td>hamiltonian</td><td>$$\\begin{align} \\mathcal{H}/\\hbar = & \\sum_{i=0}^{4}\\left(\\frac{\\omega_{q,i}}{2}(\\mathbb{I}-\\sigma_i^{z})+\\frac{\\Delta_{i}}{2}(O_i^2-O_i)+\\Omega_{d,i}D_i(t)\\sigma_i^{X}\\right) \\\\ & + J_{0,1}(\\sigma_{0}^{+}\\sigma_{1}^{-}+\\sigma_{0}^{-}\\sigma_{1}^{+}) + J_{1,2}(\\sigma_{1}^{+}\\sigma_{2}^{-}+\\sigma_{1}^{-}\\sigma_{2}^{+}) + J_{1,3}(\\sigma_{1}^{+}\\sigma_{3}^{-}+\\sigma_{1}^{-}\\sigma_{3}^{+}) + J_{3,4}(\\sigma_{3}^{+}\\sigma_{4}^{-}+\\sigma_{3}^{-}\\sigma_{4}^{+}) \\\\ & + \\Omega_{d,0}(U_{0}^{(0,1)}(t))\\sigma_{0}^{X} + \\Omega_{d,1}(U_{1}^{(1,0)}(t)+U_{3}^{(1,3)}(t)+U_{2}^{(1,2)}(t))\\sigma_{1}^{X} \\\\ & + \\Omega_{d,2}(U_{4}^{(2,1)}(t))\\sigma_{2}^{X} + \\Omega_{d,3}(U_{6}^{(3,4)}(t)+U_{5}^{(3,1)}(t))\\sigma_{3}^{X} \\\\ & + \\Omega_{d,4}(U_{7}^{(4,3)}(t))\\sigma_{4}^{X} \\\\ \\end{align}$$</td></tr><tr><td>backend_name</td><td>ibmq_quito</td></tr><tr><td>n_uchannels</td><td>8</td></tr><tr><td>local</td><td>False</td></tr><tr><td>input_allowed</td><td>['job', 'runtime']</td></tr><tr><td>discriminators</td><td>['hw_centroid', 'quadratic_discriminator', 'linear_discriminator']</td></tr><tr><td>channels</td><td>{'acquire0': {'operates': {'qubits': [0]}, 'purpose': 'acquire', 'type': 'acquire'}, 'acquire1': {'operates': {'qubits': [1]}, 'purpose': 'acquire', 'type': 'acquire'}, 'acquire2': {'operates': {'qubits': [2]}, 'purpose': 'acquire', 'type': 'acquire'}, 'acquire3': {'operates': {'qubits': [3]}, 'purpose': 'acquire', 'type': 'acquire'}, 'acquire4': {'operates': {'qubits': [4]}, 'purpose': 'acquire', 'type': 'acquire'}, 'd0': {'operates': {'qubits': [0]}, 'purpose': 'drive', 'type': 'drive'}, 'd1': {'operates': {'qubits': [1]}, 'purpose': 'drive', 'type': 'drive'}, 'd2': {'operates': {'qubits': [2]}, 'purpose': 'drive', 'type': 'drive'}, 'd3': {'operates': {'qubits': [3]}, 'purpose': 'drive', 'type': 'drive'}, 'd4': {'operates': {'qubits': [4]}, 'purpose': 'drive', 'type': 'drive'}, 'm0': {'operates': {'qubits': [0]}, 'purpose': 'measure', 'type': 'measure'}, 'm1': {'operates': {'qubits': [1]}, 'purpose': 'measure', 'type': 'measure'}, 'm2': {'operates': {'qubits': [2]}, 'purpose': 'measure', 'type': 'measure'}, 'm3': {'operates': {'qubits': [3]}, 'purpose': 'measure', 'type': 'measure'}, 'm4': {'operates': {'qubits': [4]}, 'purpose': 'measure', 'type': 'measure'}, 'u0': {'operates': {'qubits': [0, 1]}, 'purpose': 'cross-resonance', 'type': 'control'}, 'u1': {'operates': {'qubits': [1, 0]}, 'purpose': 'cross-resonance', 'type': 'control'}, 'u2': {'operates': {'qubits': [1, 2]}, 'purpose': 'cross-resonance', 'type': 'control'}, 'u3': {'operates': {'qubits': [1, 3]}, 'purpose': 'cross-resonance', 'type': 'control'}, 'u4': {'operates': {'qubits': [2, 1]}, 'purpose': 'cross-resonance', 'type': 'control'}, 'u5': {'operates': {'qubits': [3, 1]}, 'purpose': 'cross-resonance', 'type': 'control'}, 'u6': {'operates': {'qubits': [3, 4]}, 'purpose': 'cross-resonance', 'type': 'control'}, 'u7': {'operates': {'qubits': [4, 3]}, 'purpose': 'cross-resonance', 'type': 'control'}}</td></tr><tr><td>credits_required</td><td>True</td></tr><tr><td>memory</td><td>True</td></tr><tr><td>acquisition_latency</td><td>[]</td></tr><tr><td>open_pulse</td><td>False</td></tr><tr><td>clops</td><td>2506</td></tr><tr><td>meas_map</td><td>[[0, 1, 2, 3, 4]]</td></tr><tr><td>simulator</td><td>False</td></tr><tr><td>url</td><td>None</td></tr><tr><td>qubit_lo_range</td><td>[[4.8005952627554915, 5.8005952627554915], [4.580633418080989, 5.580633418080989], [4.822194409633239, 5.822194409633239], [4.663645252075822, 5.663645252075822], [4.5523122235768, 5.5523122235768]]</td></tr><tr><td>conditional_latency</td><td>[]</td></tr><tr><td>meas_lo_range</td><td>[[6.807868157000001, 7.807868157000001], [6.7292695270000005, 7.7292695270000005], [6.991060108, 7.991060108], [6.8547510460000005, 7.8547510460000005], [6.904365522000001, 7.904365522000001]]</td></tr><tr><td>qubit_channel_mapping</td><td>[['d0', 'u0', 'u1', 'm0'], ['u5', 'm1', 'd1', 'u0', 'u3', 'u4', 'u2', 'u1'], ['u2', 'm2', 'u4', 'd2'], ['u5', 'u3', 'u6', 'm3', 'd3', 'u7'], ['u6', 'd4', 'm4', 'u7']]</td></tr><tr><td>allow_q_object</td><td>True</td></tr></table>"
      }
     },
     "1ce3eab8a87544208bddc85250f5a4b0": {
      "model_module": "@jupyter-widgets/base",
      "model_module_version": "1.2.0",
      "model_name": "LayoutModel",
      "state": {
       "grid_template_areas": "\n                                       \". . . . right \"\n                                        ",
       "grid_template_columns": "20% 20% 20% 20% 20%",
       "width": "100%"
      }
     },
     "1ce65c78c1d946f28d2bbd1092aa5da1": {
      "model_module": "@jupyter-widgets/controls",
      "model_module_version": "1.5.0",
      "model_name": "HTMLModel",
      "state": {
       "layout": "IPY_MODEL_f06fe6f152a64112bf1e08975328b5da",
       "style": "IPY_MODEL_b23d0a4a1d054e9f9e32f188853ed176",
       "value": "<h5>Backend</h5>"
      }
     },
     "1d968b88d1f44e439021e7da105d71a0": {
      "model_module": "@jupyter-widgets/base",
      "model_module_version": "1.2.0",
      "model_name": "LayoutModel",
      "state": {
       "overflow_x": "scroll"
      }
     },
     "1d9a7f8a5df6429a87d931eef1ff105a": {
      "model_module": "@jupyter-widgets/base",
      "model_module_version": "1.2.0",
      "model_name": "LayoutModel",
      "state": {
       "width": "70px"
      }
     },
     "1fa8a4c9f3e04ae98e2e486114f73be5": {
      "model_module": "@jupyter-widgets/controls",
      "model_module_version": "1.5.0",
      "model_name": "HTMLModel",
      "state": {
       "layout": "IPY_MODEL_6ac66b737d6244f0b0554e4d41c37172",
       "style": "IPY_MODEL_483db27be8a64e39a4a40761b15fcada",
       "value": "<table><style>\ntable {\n    border-collapse: collapse;\n    width: auto;\n}\n\nth, td {\n    text-align: left;\n    padding: 8px;\n}\n\ntr:nth-child(even) {background-color: #f6f6f6;}\n</style><tr><th></th><th>Frequency</th><th>T1</th><th>T2</th><th>RZ</th><th>SX</th><th>X</th><th>Readout error</th></tr><tr><td><font style='font-weight:bold'>Q0</font></td><td>5.3006 GHz</td><td>90.3772 us</td><td>106.93788 us</td><td>0</td><td>0.00152</td><td>0.00152</td><td>0.037 </td><tr><td><font style='font-weight:bold'>Q1</font></td><td>5.08063 GHz</td><td>159.58002 us</td><td>141.26775 us</td><td>0</td><td>0.00031</td><td>0.00031</td><td>0.0185 </td><tr><td><font style='font-weight:bold'>Q2</font></td><td>5.32219 GHz</td><td>96.15256 us</td><td>164.51061 us</td><td>0</td><td>0.00028</td><td>0.00028</td><td>0.0199 </td><tr><td><font style='font-weight:bold'>Q3</font></td><td>5.16365 GHz</td><td>97.96758 us</td><td>20.86423 us</td><td>0</td><td>0.00119</td><td>0.00119</td><td>0.1661 </td><tr><td><font style='font-weight:bold'>Q4</font></td><td>5.05231 GHz</td><td>57.03447 us</td><td>75.56654 us</td><td>0</td><td>0.00042</td><td>0.00042</td><td>0.0278 </td></table>"
      }
     },
     "1fa8e5f70d5b449c969a045690728417": {
      "model_module": "@jupyter-widgets/base",
      "model_module_version": "1.2.0",
      "model_name": "LayoutModel",
      "state": {}
     },
     "2050607d5586460d842ce703ba8b9f2d": {
      "model_module": "@jupyter-widgets/base",
      "model_module_version": "1.2.0",
      "model_name": "LayoutModel",
      "state": {
       "grid_gap": "0px 0px",
       "grid_template_areas": "\n                               \"left right right right\"\n                               \"bottom bottom bottom bottom\"\n                               ",
       "grid_template_columns": "31% 23% 23% 23%",
       "grid_template_rows": "auto auto"
      }
     },
     "20e468482f354fb3820562e1334de7a4": {
      "model_module": "@jupyter-widgets/base",
      "model_module_version": "1.2.0",
      "model_name": "LayoutModel",
      "state": {
       "align_items": "center",
       "display": "flex-inline"
      }
     },
     "211b1e0222d94bc7a7a0f9c86dd2f874": {
      "model_module": "@jupyter-widgets/base",
      "model_module_version": "1.2.0",
      "model_name": "LayoutModel",
      "state": {
       "align_items": "center",
       "display": "flex-inline",
       "grid_area": "right",
       "max_height": "325px",
       "padding": "10px 10px 10px 10px",
       "width": "auto"
      }
     },
     "213dee070ddd49ee872e9f849e30206c": {
      "model_module": "@jupyter-widgets/controls",
      "model_module_version": "1.5.0",
      "model_name": "TabModel",
      "state": {
       "layout": "IPY_MODEL_0e82ed20d96e4025bc9aca11f9638756"
      }
     },
     "215f93fb8c644030b8b5876dfdee6011": {
      "model_module": "@jupyter-widgets/controls",
      "model_module_version": "1.5.0",
      "model_name": "DescriptionStyleModel",
      "state": {
       "description_width": ""
      }
     },
     "21f098f0ee574495a91f8a2b90d30069": {
      "model_module": "@jupyter-widgets/controls",
      "model_module_version": "1.5.0",
      "model_name": "DescriptionStyleModel",
      "state": {
       "description_width": ""
      }
     },
     "22f28a3ac6f44ff4906d83ca18fbfaaf": {
      "model_module": "@jupyter-widgets/base",
      "model_module_version": "1.2.0",
      "model_name": "LayoutModel",
      "state": {
       "max_height": "620px"
      }
     },
     "2410b4ff5b34427ebc0833240961b3be": {
      "model_module": "@jupyter-widgets/base",
      "model_module_version": "1.2.0",
      "model_name": "LayoutModel",
      "state": {
       "overflow_x": "scroll"
      }
     },
     "241ad0f9c7ae4b32aa1005ccae5bdc66": {
      "model_module": "@jupyter-widgets/base",
      "model_module_version": "1.2.0",
      "model_name": "LayoutModel",
      "state": {
       "grid_area": "bottom",
       "width": "auto"
      }
     },
     "244874ead65244a8beac011fda98f562": {
      "model_module": "@jupyter-widgets/controls",
      "model_module_version": "1.5.0",
      "model_name": "DescriptionStyleModel",
      "state": {
       "description_width": ""
      }
     },
     "244b2a27ce3a4c1a961c2afa14d9f55c": {
      "model_module": "@jupyter-widgets/controls",
      "model_module_version": "1.5.0",
      "model_name": "GridBoxModel",
      "state": {
       "children": [
        "IPY_MODEL_5c684b83817d40b783a4f6bf2e8fdf39",
        "IPY_MODEL_a7155243b7c74fbf85fb1b0aa6087bd8",
        "IPY_MODEL_df9ddc37660f4439b01449f0d68dd430"
       ],
       "layout": "IPY_MODEL_bf3a68805b704834b86bafd038172195"
      }
     },
     "24dc6993a95a4b3cab687387fd9d80db": {
      "model_module": "@jupyter-widgets/base",
      "model_module_version": "1.2.0",
      "model_name": "LayoutModel",
      "state": {
       "width": "95px"
      }
     },
     "259aa7de6f80478cab9597b2282501f0": {
      "model_module": "@jupyter-widgets/base",
      "model_module_version": "1.2.0",
      "model_name": "LayoutModel",
      "state": {
       "grid_area": "left",
       "width": "100%"
      }
     },
     "25b144c2eea04914b057b582e285f6b4": {
      "model_module": "@jupyter-widgets/base",
      "model_module_version": "1.2.0",
      "model_name": "LayoutModel",
      "state": {}
     },
     "260ae51503d04228b45d65b4c937c9e3": {
      "model_module": "@jupyter-widgets/controls",
      "model_module_version": "1.5.0",
      "model_name": "HBoxModel",
      "state": {
       "children": [
        "IPY_MODEL_fc23f685f5594f8db2aa15d38216621f",
        "IPY_MODEL_1ce65c78c1d946f28d2bbd1092aa5da1",
        "IPY_MODEL_6f4cedcb73714741925553a007f1e751",
        "IPY_MODEL_4999db03a45745dd8a16065586a3ccc1",
        "IPY_MODEL_3337317e9ff44a63b58e8b62f120050b"
       ],
       "layout": "IPY_MODEL_541ec63983e7479aba32947a9414388c"
      }
     },
     "27cd0d46065a42e584131ebb3694a660": {
      "model_module": "@jupyter-widgets/controls",
      "model_module_version": "1.5.0",
      "model_name": "HTMLModel",
      "state": {
       "layout": "IPY_MODEL_7c606bb507b14e0eabdca8566a3dcf29",
       "style": "IPY_MODEL_28bd3d00f1a04db791fb7a55be60659e",
       "value": "<font style='color:#34BC6E'>DONE</font>"
      }
     },
     "28bd3d00f1a04db791fb7a55be60659e": {
      "model_module": "@jupyter-widgets/controls",
      "model_module_version": "1.5.0",
      "model_name": "DescriptionStyleModel",
      "state": {
       "description_width": ""
      }
     },
     "28d1c09f141c4984a2eb9de09f2f46fb": {
      "model_module": "@jupyter-widgets/controls",
      "model_module_version": "1.5.0",
      "model_name": "DescriptionStyleModel",
      "state": {
       "description_width": ""
      }
     },
     "28fbac87d0a549d695bf7d77ba567fc8": {
      "model_module": "@jupyter-widgets/controls",
      "model_module_version": "1.5.0",
      "model_name": "DescriptionStyleModel",
      "state": {
       "description_width": ""
      }
     },
     "2b8c9441bc7d42c0a9c318c63f42fadf": {
      "model_module": "@jupyter-widgets/controls",
      "model_module_version": "1.5.0",
      "model_name": "TabModel",
      "state": {
       "layout": "IPY_MODEL_22f28a3ac6f44ff4906d83ca18fbfaaf"
      }
     },
     "2bec3754a2d849008c23ff2a846a3f74": {
      "model_module": "@jupyter-widgets/controls",
      "model_module_version": "1.5.0",
      "model_name": "DescriptionStyleModel",
      "state": {
       "description_width": ""
      }
     },
     "2d8d35ec1c1c4737afd60773161e4764": {
      "model_module": "@jupyter-widgets/controls",
      "model_module_version": "1.5.0",
      "model_name": "HTMLModel",
      "state": {
       "layout": "IPY_MODEL_eb619d87d9e046fcaf268745f0cebac9",
       "style": "IPY_MODEL_ef09d306c4f44d689a5dd9cbf1116cb8",
       "value": "<h1 style='color:#ffffff;background-color:#000000;padding-top: 1%;padding-bottom: 1%;padding-left: 1%; margin-top: 0px'>ibmq_quito</h1>"
      }
     },
     "2de58416781b40a8b42a01a35224f207": {
      "model_module": "@jupyter-widgets/controls",
      "model_module_version": "1.5.0",
      "model_name": "ButtonStyleModel",
      "state": {
       "button_color": "white"
      }
     },
     "2e59d590830b4569a277801ef2eaf611": {
      "model_module": "@jupyter-widgets/controls",
      "model_module_version": "1.5.0",
      "model_name": "HTMLModel",
      "state": {
       "layout": "IPY_MODEL_87874b61fae546d58ade8f2202adf8ac",
       "style": "IPY_MODEL_318b85e95cbd4389ad710ce46c109123",
       "value": "ibmq_quito"
      }
     },
     "318b85e95cbd4389ad710ce46c109123": {
      "model_module": "@jupyter-widgets/controls",
      "model_module_version": "1.5.0",
      "model_name": "DescriptionStyleModel",
      "state": {
       "description_width": ""
      }
     },
     "32d4464fa2c94cf5a573a68b69633abc": {
      "model_module": "@jupyter-widgets/controls",
      "model_module_version": "1.5.0",
      "model_name": "HTMLMathModel",
      "state": {
       "layout": "IPY_MODEL_b203adc14f454128a49db89ab18371bb",
       "style": "IPY_MODEL_831b782a275d4438a405985f20461768",
       "value": "<table><style>\ntable {\n    border-collapse: collapse;\n    width: auto;\n}\n\nth, td {\n    text-align: left;\n    padding: 8px;\n}\n\ntr:nth-child(even) {background-color: #f6f6f6;}\n</style><tr><th>Property</th><th>Value</th></tr><tr><td><font style='font-weight:bold'>n_qubits</font></td><td>5</td></tr><tr><td><font style='font-weight:bold'>quantum_volume</font></td><td>16</td></tr><tr><td><font style='font-weight:bold'>operational</font></td><td>True</td></tr><tr><td><font style='font-weight:bold'>status_msg</font></td><td>active</td></tr><tr><td><font style='font-weight:bold'>pending_jobs</font></td><td>2</td></tr><tr><td><font style='font-weight:bold'>backend_version</font></td><td>1.0.41</td></tr><tr><td><font style='font-weight:bold'>basis_gates</font></td><td>['id', 'rz', 'sx', 'x', 'cx', 'reset']</td></tr><tr><td><font style='font-weight:bold'>max_shots</font></td><td>20000</td></tr><tr><td><font style='font-weight:bold'>max_experiments</font></td><td>100</td></tr></table>"
      }
     },
     "3329af1990514da0a13c138766b33ad7": {
      "model_module": "@jupyter-widgets/controls",
      "model_module_version": "1.5.0",
      "model_name": "ButtonModel",
      "state": {
       "icon": "close",
       "layout": "IPY_MODEL_8f46fdcfdff94867b9776a61454290db",
       "style": "IPY_MODEL_723c2d14a6594131b21d388e624795ae"
      }
     },
     "3337317e9ff44a63b58e8b62f120050b": {
      "model_module": "@jupyter-widgets/controls",
      "model_module_version": "1.5.0",
      "model_name": "HTMLModel",
      "state": {
       "layout": "IPY_MODEL_e800d8e8b95e4917bd2579d2e293a1f0",
       "style": "IPY_MODEL_dd6675bd723842b18140910fe91b9bfb",
       "value": "<h5>Message</h5>"
      }
     },
     "33664a87f1fa49f6842a2b20d1663773": {
      "model_module": "@jupyter-widgets/controls",
      "model_module_version": "1.5.0",
      "model_name": "DescriptionStyleModel",
      "state": {
       "description_width": ""
      }
     },
     "336c63f796dd4207bbac971105c90058": {
      "model_module": "@jupyter-widgets/controls",
      "model_module_version": "1.5.0",
      "model_name": "DescriptionStyleModel",
      "state": {
       "description_width": ""
      }
     },
     "3408eeebe28f453497680c71ab73543d": {
      "model_module": "@jupyter-widgets/base",
      "model_module_version": "1.2.0",
      "model_name": "LayoutModel",
      "state": {
       "grid_area": "middle"
      }
     },
     "34097e6fe9654c58b15934db2db72402": {
      "model_module": "@jupyter-widgets/base",
      "model_module_version": "1.2.0",
      "model_name": "LayoutModel",
      "state": {
       "width": "190px"
      }
     },
     "34c97acb7ee7469298090aab1ae85266": {
      "model_module": "@jupyter-widgets/controls",
      "model_module_version": "1.5.0",
      "model_name": "HTMLModel",
      "state": {
       "layout": "IPY_MODEL_ff53e8f3950c49d4b1b70c70fb9803e4",
       "style": "IPY_MODEL_0b2436d08af641e1b175871c800c9e95",
       "value": "<div><font style='font-weight:bold'>last_update_date</font>: Wed 20 April 2022 at 04:49 UTC</div>"
      }
     },
     "34d3041c55df43a194a7e7bb3d971716": {
      "model_module": "@jupyter-widgets/base",
      "model_module_version": "1.2.0",
      "model_name": "LayoutModel",
      "state": {
       "width": "145px"
      }
     },
     "35ae827612814b1fa5c67c37c29a6b85": {
      "model_module": "@jupyter-widgets/base",
      "model_module_version": "1.2.0",
      "model_name": "LayoutModel",
      "state": {
       "grid_area": "left"
      }
     },
     "36cca078525e402a929de02f82b3fc73": {
      "model_module": "@jupyter-widgets/base",
      "model_module_version": "1.2.0",
      "model_name": "LayoutModel",
      "state": {
       "border": "4px solid #000000",
       "max_height": "650px",
       "min_height": "650px",
       "overflow_y": "hidden"
      }
     },
     "39d4acd6bc064b01aca0e6e7f8136448": {
      "model_module": "@jupyter-widgets/controls",
      "model_module_version": "1.5.0",
      "model_name": "DescriptionStyleModel",
      "state": {
       "description_width": ""
      }
     },
     "39e2759d15734353b2a00b87ce3ec42d": {
      "model_module": "@jupyter-widgets/controls",
      "model_module_version": "1.5.0",
      "model_name": "HTMLModel",
      "state": {
       "layout": "IPY_MODEL_4e269a781626427fa26e4de9eb9cbe93",
       "style": "IPY_MODEL_6b7e78aa030f4a189be6426baf4c7f53",
       "value": "<table><style>\ntable {\n    border-collapse: collapse;\n    width: auto;\n}\n\nth, td {\n    text-align: left;\n    padding: 8px;\n}\n\ntr:nth-child(even) {background-color: #f6f6f6;};\n</style><tr><th></th><th>Type</th><th>Gate error</th></tr><tr><td><font style='font-weight:bold'>cx2_1</font></td><td>cx</td><td>0.07718</td></tr><tr><td><font style='font-weight:bold'>cx1_2</font></td><td>cx</td><td>0.07718</td></tr></table>"
      }
     },
     "3b1573fe15ed4536a534b01732725294": {
      "model_module": "@jupyter-widgets/controls",
      "model_module_version": "1.5.0",
      "model_name": "HTMLModel",
      "state": {
       "layout": "IPY_MODEL_f8093451fcc44fcabc68e119424ab34a",
       "style": "IPY_MODEL_1432fabcd15d484e920cc5523de1f49b",
       "value": "<table><style>\ntable {\n    border-collapse: collapse;\n    width: auto;\n}\n\nth, td {\n    text-align: left;\n    padding: 8px;\n}\n\ntr:nth-child(even) {background-color: #f6f6f6;};\n</style><tr><th></th><th>Type</th><th>Gate error</th></tr><tr><td><font style='font-weight:bold'>cx1_3</font></td><td>cx</td><td>0.0167</td></tr><tr><td><font style='font-weight:bold'>cx3_1</font></td><td>cx</td><td>0.0167</td></tr><tr><td><font style='font-weight:bold'>cx2_1</font></td><td>cx</td><td>0.00654</td></tr></table>"
      }
     },
     "3b3c8d116ad0469eb3e40b4064e5c2ad": {
      "model_module": "@jupyter-widgets/base",
      "model_module_version": "1.2.0",
      "model_name": "LayoutModel",
      "state": {
       "border": "4px solid #000000",
       "max_height": "650px",
       "min_height": "650px",
       "overflow_y": "hidden"
      }
     },
     "3be1610d642841ba9b7702ca04c53a49": {
      "model_module": "@jupyter-widgets/controls",
      "model_module_version": "1.5.0",
      "model_name": "HTMLModel",
      "state": {
       "layout": "IPY_MODEL_14b6fe3e86d245909eb8e8585a03359b",
       "style": "IPY_MODEL_5c65828ecf6e4ac5bac41151784ce00d",
       "value": "626049793ba1990133565aad"
      }
     },
     "3d77c269a4c549f8894ac864e886f410": {
      "model_module": "@jupyter-widgets/base",
      "model_module_version": "1.2.0",
      "model_name": "LayoutModel",
      "state": {
       "grid_area": "left"
      }
     },
     "3d9dbe3d5e674e94bd804e30c58e49ba": {
      "model_module": "@jupyter-widgets/controls",
      "model_module_version": "1.5.0",
      "model_name": "DescriptionStyleModel",
      "state": {
       "description_width": ""
      }
     },
     "3e196367f20940fe83b62c24a2ea2e2d": {
      "model_module": "@jupyter-widgets/controls",
      "model_module_version": "1.5.0",
      "model_name": "DescriptionStyleModel",
      "state": {
       "description_width": ""
      }
     },
     "3eecc20478bc4860aae6d61a74e2cb78": {
      "model_module": "@jupyter-widgets/controls",
      "model_module_version": "1.5.0",
      "model_name": "HTMLModel",
      "state": {
       "layout": "IPY_MODEL_fa5d5ea6b31f463eba31074b7f7f1808",
       "style": "IPY_MODEL_33664a87f1fa49f6842a2b20d1663773",
       "value": "<h1 style='color:#ffffff;background-color:#000000;padding-top: 1%;padding-bottom: 1%;padding-left: 1%; margin-top: 0px'>ibmq_lima</h1>"
      }
     },
     "407367d2e7b247fea583724bbe02c778": {
      "model_module": "@jupyter-widgets/controls",
      "model_module_version": "1.5.0",
      "model_name": "DescriptionStyleModel",
      "state": {
       "description_width": ""
      }
     },
     "408ebf9266db4c81aade30643737c902": {
      "model_module": "@jupyter-widgets/base",
      "model_module_version": "1.2.0",
      "model_name": "LayoutModel",
      "state": {
       "border": "4px solid #000000",
       "max_height": "650px",
       "min_height": "650px",
       "overflow_y": "hidden"
      }
     },
     "40a6730de3df49748602af63653757b5": {
      "model_module": "@jupyter-widgets/controls",
      "model_module_version": "1.5.0",
      "model_name": "HTMLModel",
      "state": {
       "layout": "IPY_MODEL_3408eeebe28f453497680c71ab73543d",
       "style": "IPY_MODEL_ab4be83f9f0d43e38d06b5830b10878b",
       "value": "<table><style>\ntable {\n    border-collapse: collapse;\n    width: auto;\n}\n\nth, td {\n    text-align: left;\n    padding: 8px;\n}\n\ntr:nth-child(even) {background-color: #f6f6f6;};\n</style><tr><th></th><th>Type</th><th>Gate error</th></tr><tr><td><font style='font-weight:bold'>cx1_2</font></td><td>cx</td><td>0.00654</td></tr><tr><td><font style='font-weight:bold'>cx0_1</font></td><td>cx</td><td>0.01794</td></tr><tr><td><font style='font-weight:bold'>cx1_0</font></td><td>cx</td><td>0.01794</td></tr></table>"
      }
     },
     "41132e71a5d242d59366f080bc33a1c4": {
      "model_module": "@jupyter-widgets/controls",
      "model_module_version": "1.5.0",
      "model_name": "DescriptionStyleModel",
      "state": {
       "description_width": ""
      }
     },
     "423c6afc522440dfbe2bceb09c96ef98": {
      "model_module": "@jupyter-widgets/base",
      "model_module_version": "1.2.0",
      "model_name": "LayoutModel",
      "state": {}
     },
     "4452d2cf425a4ad2955be75e3f6b80a7": {
      "model_module": "@jupyter-widgets/controls",
      "model_module_version": "1.5.0",
      "model_name": "DescriptionStyleModel",
      "state": {
       "description_width": ""
      }
     },
     "44fa78b095294294baa0e5ac7f3b4ebe": {
      "model_module": "@jupyter-widgets/base",
      "model_module_version": "1.2.0",
      "model_name": "LayoutModel",
      "state": {
       "overflow_x": "scroll"
      }
     },
     "4524705e5c714963b31f5ff6189b1692": {
      "model_module": "@jupyter-widgets/controls",
      "model_module_version": "1.5.0",
      "model_name": "HTMLModel",
      "state": {
       "layout": "IPY_MODEL_004037cae796475abb63b6da9325552b",
       "style": "IPY_MODEL_407367d2e7b247fea583724bbe02c778",
       "value": "<table><style>\ntable {\n    border-collapse: collapse;\n    width: auto;\n}\n\nth, td {\n    text-align: left;\n    padding: 8px;\n}\n\ntr:nth-child(even) {background-color: #f6f6f6;};\n</style><tr><th></th><th>Type</th><th>Gate error</th></tr><tr><td><font style='font-weight:bold'>cx3_4</font></td><td>cx</td><td>0.02219</td></tr><tr><td><font style='font-weight:bold'>cx4_3</font></td><td>cx</td><td>0.02219</td></tr></table>"
      }
     },
     "483db27be8a64e39a4a40761b15fcada": {
      "model_module": "@jupyter-widgets/controls",
      "model_module_version": "1.5.0",
      "model_name": "DescriptionStyleModel",
      "state": {
       "description_width": ""
      }
     },
     "4999db03a45745dd8a16065586a3ccc1": {
      "model_module": "@jupyter-widgets/controls",
      "model_module_version": "1.5.0",
      "model_name": "HTMLModel",
      "state": {
       "layout": "IPY_MODEL_1d9a7f8a5df6429a87d931eef1ff105a",
       "style": "IPY_MODEL_39d4acd6bc064b01aca0e6e7f8136448",
       "value": "<h5>Queue</h5>"
      }
     },
     "4a3eb8c163da425fbe8982d010653bcf": {
      "model_module": "@jupyter-widgets/base",
      "model_module_version": "1.2.0",
      "model_name": "LayoutModel",
      "state": {
       "width": "190px"
      }
     },
     "4b75f9d258b740769988372c88dd24e9": {
      "model_module": "@jupyter-widgets/base",
      "model_module_version": "1.2.0",
      "model_name": "LayoutModel",
      "state": {
       "margin": "0px 0px 10px 0px"
      }
     },
     "4b9a10921cec4987ad1093d34ff8f029": {
      "model_module": "@jupyter-widgets/base",
      "model_module_version": "1.2.0",
      "model_name": "LayoutModel",
      "state": {
       "max_height": "620px"
      }
     },
     "4e148b89c021452da24a007ccb710ea1": {
      "model_module": "@jupyter-widgets/base",
      "model_module_version": "1.2.0",
      "model_name": "LayoutModel",
      "state": {
       "margin": "0px 5px 0px 0px",
       "width": "32px"
      }
     },
     "4e269a781626427fa26e4de9eb9cbe93": {
      "model_module": "@jupyter-widgets/base",
      "model_module_version": "1.2.0",
      "model_name": "LayoutModel",
      "state": {
       "grid_area": "right"
      }
     },
     "4ec101322b6b4f689cfb2d845fa49807": {
      "model_module": "@jupyter-widgets/controls",
      "model_module_version": "1.5.0",
      "model_name": "DescriptionStyleModel",
      "state": {
       "description_width": ""
      }
     },
     "4f394a74fa314cd883e9d3c143016c89": {
      "model_module": "@jupyter-widgets/controls",
      "model_module_version": "1.5.0",
      "model_name": "ButtonStyleModel",
      "state": {
       "button_color": "white"
      }
     },
     "50cb2dc7d8b7405d84b30c77422b4307": {
      "model_module": "@jupyter-widgets/controls",
      "model_module_version": "1.5.0",
      "model_name": "DescriptionStyleModel",
      "state": {
       "description_width": ""
      }
     },
     "50ec0a15806444cda466ff67c99fcc4f": {
      "model_module": "@jupyter-widgets/controls",
      "model_module_version": "1.5.0",
      "model_name": "HTMLModel",
      "state": {
       "layout": "IPY_MODEL_f1dfe3d201af4821b3b15c02b0a5c42f",
       "style": "IPY_MODEL_150ec665b3d045fc85c11ac371f9cc61",
       "value": "ibmq_quito"
      }
     },
     "510fcd39233b4c239909d9055cd0f711": {
      "model_module": "@jupyter-widgets/controls",
      "model_module_version": "1.5.0",
      "model_name": "GridBoxModel",
      "state": {
       "children": [
        "IPY_MODEL_9104221e793e41368136677f6fd536c1",
        "IPY_MODEL_ca9f9ad531fe4727850954a4a8e22929",
        "IPY_MODEL_7bb9b13528f74f09b9a75ec25695062e"
       ],
       "layout": "IPY_MODEL_5d2fda2300a441d4b4c96111ccb8fbd4"
      }
     },
     "52463548709c49e799cb4b7cef126d04": {
      "model_module": "@jupyter-widgets/controls",
      "model_module_version": "1.5.0",
      "model_name": "DescriptionStyleModel",
      "state": {
       "description_width": ""
      }
     },
     "5324f20fd101482b8138d2808f53e6c5": {
      "model_module": "@jupyter-widgets/controls",
      "model_module_version": "1.5.0",
      "model_name": "DescriptionStyleModel",
      "state": {
       "description_width": ""
      }
     },
     "541ec63983e7479aba32947a9414388c": {
      "model_module": "@jupyter-widgets/base",
      "model_module_version": "1.2.0",
      "model_name": "LayoutModel",
      "state": {
       "margin": "0px 0px 0px 37px",
       "width": "600px"
      }
     },
     "5698e6d4bc7d49d6a201a1a20263e812": {
      "model_module": "@jupyter-widgets/controls",
      "model_module_version": "1.5.0",
      "model_name": "HTMLModel",
      "state": {
       "layout": "IPY_MODEL_014b30323e9a48abb03f09ff2ea2e960",
       "style": "IPY_MODEL_7dac145163494eb4bcfbe042ecbc9561",
       "value": "ibmq_quito"
      }
     },
     "56dfe777e42d436d883fc893316f94f5": {
      "model_module": "@jupyter-widgets/controls",
      "model_module_version": "1.5.0",
      "model_name": "DescriptionStyleModel",
      "state": {
       "description_width": ""
      }
     },
     "5844122d4aa9458bb56ec3e57e6f876f": {
      "model_module": "@jupyter-widgets/base",
      "model_module_version": "1.2.0",
      "model_name": "LayoutModel",
      "state": {
       "grid_area": "right"
      }
     },
     "587539cd16aa43b4944d9674eaa46cf7": {
      "model_module": "@jupyter-widgets/base",
      "model_module_version": "1.2.0",
      "model_name": "LayoutModel",
      "state": {
       "overflow_y": "scroll"
      }
     },
     "58a2270732db4634962bf7df56427af2": {
      "model_module": "@jupyter-widgets/controls",
      "model_module_version": "1.5.0",
      "model_name": "DescriptionStyleModel",
      "state": {
       "description_width": ""
      }
     },
     "5a1adafae4b6471a94680aaa2a424c9e": {
      "model_module": "@jupyter-widgets/base",
      "model_module_version": "1.2.0",
      "model_name": "LayoutModel",
      "state": {
       "width": "70px"
      }
     },
     "5c07ee399f4744daac29ef882ec75880": {
      "model_module": "@jupyter-widgets/controls",
      "model_module_version": "1.5.0",
      "model_name": "DescriptionStyleModel",
      "state": {
       "description_width": ""
      }
     },
     "5c65828ecf6e4ac5bac41151784ce00d": {
      "model_module": "@jupyter-widgets/controls",
      "model_module_version": "1.5.0",
      "model_name": "DescriptionStyleModel",
      "state": {
       "description_width": ""
      }
     },
     "5c684b83817d40b783a4f6bf2e8fdf39": {
      "model_module": "@jupyter-widgets/controls",
      "model_module_version": "1.5.0",
      "model_name": "HTMLMathModel",
      "state": {
       "layout": "IPY_MODEL_259aa7de6f80478cab9597b2282501f0",
       "style": "IPY_MODEL_215f93fb8c644030b8b5876dfdee6011",
       "value": "<table><style>\ntable {\n    border-collapse: collapse;\n    width: auto;\n}\n\nth, td {\n    text-align: left;\n    padding: 8px;\n}\n\ntr:nth-child(even) {background-color: #f6f6f6;}\n</style><tr><th>Property</th><th>Value</th></tr><tr><td><font style='font-weight:bold'>n_qubits</font></td><td>5</td></tr><tr><td><font style='font-weight:bold'>quantum_volume</font></td><td>16</td></tr><tr><td><font style='font-weight:bold'>operational</font></td><td>True</td></tr><tr><td><font style='font-weight:bold'>status_msg</font></td><td>active</td></tr><tr><td><font style='font-weight:bold'>pending_jobs</font></td><td>4</td></tr><tr><td><font style='font-weight:bold'>backend_version</font></td><td>1.1.28</td></tr><tr><td><font style='font-weight:bold'>basis_gates</font></td><td>['id', 'rz', 'sx', 'x', 'cx', 'reset']</td></tr><tr><td><font style='font-weight:bold'>max_shots</font></td><td>20000</td></tr><tr><td><font style='font-weight:bold'>max_experiments</font></td><td>100</td></tr></table>"
      }
     },
     "5cce583ac16a4ea4a5858d949281d436": {
      "model_module": "@jupyter-widgets/controls",
      "model_module_version": "1.5.0",
      "model_name": "GridBoxModel",
      "state": {
       "children": [
        "IPY_MODEL_fbcc8d39ac3b431eb9739a8a155e240e",
        "IPY_MODEL_617484f27e864b99a2c1fa0849ad3d6d",
        "IPY_MODEL_40a6730de3df49748602af63653757b5",
        "IPY_MODEL_4524705e5c714963b31f5ff6189b1692"
       ],
       "layout": "IPY_MODEL_a1f4503c50844ef195cf6563d642942c"
      }
     },
     "5d2fda2300a441d4b4c96111ccb8fbd4": {
      "model_module": "@jupyter-widgets/base",
      "model_module_version": "1.2.0",
      "model_name": "LayoutModel",
      "state": {
       "grid_gap": "0px 0px",
       "grid_template_areas": "\n                               \"left right right right\"\n                               \"bottom bottom bottom bottom\"\n                               ",
       "grid_template_columns": "31% 23% 23% 23%",
       "grid_template_rows": "auto auto"
      }
     },
     "5e82c0146e6749f9bf92887fba624058": {
      "model_module": "@jupyter-widgets/base",
      "model_module_version": "1.2.0",
      "model_name": "LayoutModel",
      "state": {
       "overflow_y": "scroll"
      }
     },
     "5fd5af8329854d2497bb12180cdb9989": {
      "model_module": "@jupyter-widgets/base",
      "model_module_version": "1.2.0",
      "model_name": "LayoutModel",
      "state": {
       "width": "70px"
      }
     },
     "617484f27e864b99a2c1fa0849ad3d6d": {
      "model_module": "@jupyter-widgets/controls",
      "model_module_version": "1.5.0",
      "model_name": "HTMLModel",
      "state": {
       "layout": "IPY_MODEL_3d77c269a4c549f8894ac864e886f410",
       "style": "IPY_MODEL_21f098f0ee574495a91f8a2b90d30069",
       "value": "<table><style>\ntable {\n    border-collapse: collapse;\n    width: auto;\n}\n\nth, td {\n    text-align: left;\n    padding: 8px;\n}\n\ntr:nth-child(even) {background-color: #f6f6f6;};\n</style><tr><th></th><th>Type</th><th>Gate error</th></tr><tr><td><font style='font-weight:bold'>cx1_3</font></td><td>cx</td><td>0.0167</td></tr><tr><td><font style='font-weight:bold'>cx3_1</font></td><td>cx</td><td>0.0167</td></tr><tr><td><font style='font-weight:bold'>cx2_1</font></td><td>cx</td><td>0.00654</td></tr></table>"
      }
     },
     "644c07aae7394a3094eebb209f8e311b": {
      "model_module": "@jupyter-widgets/base",
      "model_module_version": "1.2.0",
      "model_name": "LayoutModel",
      "state": {
       "grid_area": "middle"
      }
     },
     "6577641465f74a778d71c707a300078b": {
      "model_module": "@jupyter-widgets/base",
      "model_module_version": "1.2.0",
      "model_name": "LayoutModel",
      "state": {
       "width": "190px"
      }
     },
     "671738ea9b5f479d9ad7cec3a2f578ef": {
      "model_module": "@jupyter-widgets/base",
      "model_module_version": "1.2.0",
      "model_name": "LayoutModel",
      "state": {}
     },
     "67f6d036072242c5bfaff49dfa549ee7": {
      "model_module": "@jupyter-widgets/controls",
      "model_module_version": "1.5.0",
      "model_name": "DescriptionStyleModel",
      "state": {
       "description_width": ""
      }
     },
     "6ac66b737d6244f0b0554e4d41c37172": {
      "model_module": "@jupyter-widgets/base",
      "model_module_version": "1.2.0",
      "model_name": "LayoutModel",
      "state": {}
     },
     "6b7e78aa030f4a189be6426baf4c7f53": {
      "model_module": "@jupyter-widgets/controls",
      "model_module_version": "1.5.0",
      "model_name": "DescriptionStyleModel",
      "state": {
       "description_width": ""
      }
     },
     "6c6575cdcea64637a3d43383caf7de12": {
      "model_module": "@jupyter-widgets/controls",
      "model_module_version": "1.5.0",
      "model_name": "HBoxModel",
      "state": {
       "children": [
        "IPY_MODEL_74974b88829a4009a3d02d99975fa46a",
        "IPY_MODEL_01620ba566ee43fcb68aebbb4746ee04",
        "IPY_MODEL_50ec0a15806444cda466ff67c99fcc4f",
        "IPY_MODEL_f8613298bc714656be8699d911ea1f8b",
        "IPY_MODEL_0c9e07815f6940b599c966d8e970a28c",
        "IPY_MODEL_cb0db261460245e5ae996a66baebe965"
       ],
       "layout": "IPY_MODEL_896b0c58e23049b6a341bc602260fb56"
      }
     },
     "6cf5fdddace0477b80fc94227f4ea669": {
      "model_module": "@jupyter-widgets/controls",
      "model_module_version": "1.5.0",
      "model_name": "TabModel",
      "state": {
       "_titles": {
        "0": "Configuration",
        "1": "Qubit Properties",
        "2": "Multi-Qubit Gates",
        "3": "Error Map",
        "4": "Job History"
       },
       "children": [
        "IPY_MODEL_08a6a516de3d43d3b3d6ad6071bd8ac6",
        "IPY_MODEL_e6a0170945134f81ba15f73697689803",
        "IPY_MODEL_11688dce40244a339015cab5e981e3c1",
        "IPY_MODEL_86727069e5924480af000abe1f5f0e50",
        "IPY_MODEL_213dee070ddd49ee872e9f849e30206c"
       ],
       "layout": "IPY_MODEL_5e82c0146e6749f9bf92887fba624058"
      }
     },
     "6e0da6dc39d44d4786a46deb4bea8b96": {
      "model_module": "@jupyter-widgets/base",
      "model_module_version": "1.2.0",
      "model_name": "LayoutModel",
      "state": {
       "width": "95px"
      }
     },
     "6e5358aa76264aa28192650bff014121": {
      "model_module": "@jupyter-widgets/base",
      "model_module_version": "1.2.0",
      "model_name": "LayoutModel",
      "state": {
       "max_width": "700px",
       "min_width": "700px"
      }
     },
     "6ed37674d5aa494b80aadf23452e0796": {
      "model_module": "@jupyter-widgets/controls",
      "model_module_version": "1.5.0",
      "model_name": "HTMLModel",
      "state": {
       "layout": "IPY_MODEL_00e85d796d7f45fb9a627d3c57c33ec3",
       "style": "IPY_MODEL_97bfbea56a0f4020acdc959586572e31",
       "value": "<font style='color:#34BC6E'>DONE</font>"
      }
     },
     "6f4cedcb73714741925553a007f1e751": {
      "model_module": "@jupyter-widgets/controls",
      "model_module_version": "1.5.0",
      "model_name": "HTMLModel",
      "state": {
       "layout": "IPY_MODEL_24dc6993a95a4b3cab687387fd9d80db",
       "style": "IPY_MODEL_67f6d036072242c5bfaff49dfa549ee7",
       "value": "<h5>Status</h5>"
      }
     },
     "723c2d14a6594131b21d388e624795ae": {
      "model_module": "@jupyter-widgets/controls",
      "model_module_version": "1.5.0",
      "model_name": "ButtonStyleModel",
      "state": {
       "button_color": "white"
      }
     },
     "73e789fb433b4393b52b3aa8281817a8": {
      "model_module": "@jupyter-widgets/base",
      "model_module_version": "1.2.0",
      "model_name": "LayoutModel",
      "state": {
       "grid_gap": "0px 0px",
       "grid_template_areas": "\n                                                   \"top top top\"\n                                                   \"left middle right\"\n                                                   ",
       "grid_template_columns": "33% 33% 33%",
       "grid_template_rows": "auto auto"
      }
     },
     "73e92ea5e2df49358b72f7798d3d1889": {
      "model_module": "@jupyter-widgets/base",
      "model_module_version": "1.2.0",
      "model_name": "LayoutModel",
      "state": {
       "align_items": "center",
       "display": "flex-inline",
       "grid_area": "right",
       "max_height": "325px",
       "padding": "10px 10px 10px 10px",
       "width": "auto"
      }
     },
     "74974b88829a4009a3d02d99975fa46a": {
      "model_module": "@jupyter-widgets/controls",
      "model_module_version": "1.5.0",
      "model_name": "ButtonModel",
      "state": {
       "icon": "close",
       "layout": "IPY_MODEL_ecc2b93617c046c1a057ee27e9938cd0",
       "style": "IPY_MODEL_2de58416781b40a8b42a01a35224f207"
      }
     },
     "75c16371289f4220aca2c86c502be023": {
      "model_module": "@jupyter-widgets/base",
      "model_module_version": "1.2.0",
      "model_name": "LayoutModel",
      "state": {
       "border": "4px solid #000000",
       "max_height": "650px",
       "min_height": "650px",
       "overflow_y": "hidden"
      }
     },
     "76bc926721ed4977ab7482718fef36c7": {
      "model_module": "@jupyter-widgets/base",
      "model_module_version": "1.2.0",
      "model_name": "LayoutModel",
      "state": {
       "grid_area": "top"
      }
     },
     "789f288e79104cc48807d0505f1dd234": {
      "model_module": "@jupyter-widgets/base",
      "model_module_version": "1.2.0",
      "model_name": "LayoutModel",
      "state": {
       "grid_area": "right"
      }
     },
     "78c896bb2e52422a869a16dee7696f32": {
      "model_module": "@jupyter-widgets/base",
      "model_module_version": "1.2.0",
      "model_name": "LayoutModel",
      "state": {}
     },
     "7b2840b73c224a8cbe947dc29375199f": {
      "model_module": "@jupyter-widgets/base",
      "model_module_version": "1.2.0",
      "model_name": "LayoutModel",
      "state": {
       "align_items": "center",
       "display": "flex-inline"
      }
     },
     "7bb9b13528f74f09b9a75ec25695062e": {
      "model_module": "@jupyter-widgets/controls",
      "model_module_version": "1.5.0",
      "model_name": "HTMLMathModel",
      "state": {
       "layout": "IPY_MODEL_e3324ca5bd3644a583d65588c2bf553a",
       "style": "IPY_MODEL_4ec101322b6b4f689cfb2d845fa49807",
       "value": "<table><style>\ntable {\n    border-collapse: collapse;\n    width: auto;\n}\n\nth, td {\n    text-align: left;\n    padding: 8px;\n}\n\ntr:nth-child(even) {background-color: #f6f6f6;}\n</style><tr><th></th><th></th></tr><tr><td>pulse_num_qubits</td><td>3</td></tr><tr><td>conditional</td><td>False</td></tr><tr><td>supported_features</td><td>['qobj']</td></tr><tr><td>n_registers</td><td>1</td></tr><tr><td>dynamic_reprate_enabled</td><td>True</td></tr><tr><td>meas_kernels</td><td>['hw_boxcar']</td></tr><tr><td>u_channel_lo</td><td>[[{'q': 1, 'scale': (1+0j)}], [{'q': 0, 'scale': (1+0j)}], [{'q': 2, 'scale': (1+0j)}], [{'q': 3, 'scale': (1+0j)}], [{'q': 1, 'scale': (1+0j)}], [{'q': 1, 'scale': (1+0j)}], [{'q': 4, 'scale': (1+0j)}], [{'q': 3, 'scale': (1+0j)}]]</td></tr><tr><td>processor_type</td><td>{'family': 'Falcon', 'revision': 4, 'segment': 'T'}</td></tr><tr><td>pulse_num_channels</td><td>9</td></tr><tr><td>dtm</td><td>0.2222222222222222</td></tr><tr><td>parametric_pulses</td><td>['gaussian', 'gaussian_square', 'drag', 'constant']</td></tr><tr><td>multi_meas_enabled</td><td>True</td></tr><tr><td>default_rep_delay</td><td>250.0</td></tr><tr><td>coupling_map</td><td>[[0, 1], [1, 0], [1, 2], [1, 3], [2, 1], [3, 1], [3, 4], [4, 3]]</td></tr><tr><td>online_date</td><td>2021-01-08 05:00:00+00:00</td></tr><tr><td>live_data</td><td>False</td></tr><tr><td>meas_levels</td><td>[1, 2]</td></tr><tr><td>supported_instructions</td><td>['u3', 'play', 'setf', 'id', 'acquire', 'u2', 'measure', 'shiftf', 'delay', 'reset', 'u1', 'x', 'rz', 'cx', 'sx']</td></tr><tr><td>sample_name</td><td>family: Falcon, revision: 4, segment: T</td></tr><tr><td>rep_times</td><td>[1000.0]</td></tr><tr><td>dt</td><td>0.2222222222222222</td></tr><tr><td>rep_delay_range</td><td>[0.0, 500.0]</td></tr><tr><td>description</td><td>5 qubit device Lima</td></tr><tr><td>uchannels_enabled</td><td>True</td></tr><tr><td>measure_esp_enabled</td><td>False</td></tr><tr><td>allow_object_storage</td><td>True</td></tr><tr><td>timing_constraints</td><td>{'acquire_alignment': 16, 'granularity': 16, 'min_length': 64, 'pulse_alignment': 1}</td></tr><tr><td>hamiltonian</td><td>$$\\begin{align} \\mathcal{H}/\\hbar = & \\sum_{i=0}^{4}\\left(\\frac{\\omega_{q,i}}{2}(\\mathbb{I}-\\sigma_i^{z})+\\frac{\\Delta_{i}}{2}(O_i^2-O_i)+\\Omega_{d,i}D_i(t)\\sigma_i^{X}\\right) \\\\ & + J_{0,1}(\\sigma_{0}^{+}\\sigma_{1}^{-}+\\sigma_{0}^{-}\\sigma_{1}^{+}) + J_{1,2}(\\sigma_{1}^{+}\\sigma_{2}^{-}+\\sigma_{1}^{-}\\sigma_{2}^{+}) + J_{1,3}(\\sigma_{1}^{+}\\sigma_{3}^{-}+\\sigma_{1}^{-}\\sigma_{3}^{+}) + J_{3,4}(\\sigma_{3}^{+}\\sigma_{4}^{-}+\\sigma_{3}^{-}\\sigma_{4}^{+}) \\\\ & + \\Omega_{d,0}(U_{0}^{(0,1)}(t))\\sigma_{0}^{X} + \\Omega_{d,1}(U_{1}^{(1,0)}(t)+U_{3}^{(1,3)}(t)+U_{2}^{(1,2)}(t))\\sigma_{1}^{X} \\\\ & + \\Omega_{d,2}(U_{4}^{(2,1)}(t))\\sigma_{2}^{X} + \\Omega_{d,3}(U_{6}^{(3,4)}(t)+U_{5}^{(3,1)}(t))\\sigma_{3}^{X} \\\\ & + \\Omega_{d,4}(U_{7}^{(4,3)}(t))\\sigma_{4}^{X} \\\\ \\end{align}$$</td></tr><tr><td>backend_name</td><td>ibmq_lima</td></tr><tr><td>n_uchannels</td><td>8</td></tr><tr><td>local</td><td>False</td></tr><tr><td>input_allowed</td><td>['job', 'runtime']</td></tr><tr><td>discriminators</td><td>['hw_centroid', 'linear_discriminator', 'quadratic_discriminator']</td></tr><tr><td>channels</td><td>{'acquire0': {'operates': {'qubits': [0]}, 'purpose': 'acquire', 'type': 'acquire'}, 'acquire1': {'operates': {'qubits': [1]}, 'purpose': 'acquire', 'type': 'acquire'}, 'acquire2': {'operates': {'qubits': [2]}, 'purpose': 'acquire', 'type': 'acquire'}, 'acquire3': {'operates': {'qubits': [3]}, 'purpose': 'acquire', 'type': 'acquire'}, 'acquire4': {'operates': {'qubits': [4]}, 'purpose': 'acquire', 'type': 'acquire'}, 'd0': {'operates': {'qubits': [0]}, 'purpose': 'drive', 'type': 'drive'}, 'd1': {'operates': {'qubits': [1]}, 'purpose': 'drive', 'type': 'drive'}, 'd2': {'operates': {'qubits': [2]}, 'purpose': 'drive', 'type': 'drive'}, 'd3': {'operates': {'qubits': [3]}, 'purpose': 'drive', 'type': 'drive'}, 'd4': {'operates': {'qubits': [4]}, 'purpose': 'drive', 'type': 'drive'}, 'm0': {'operates': {'qubits': [0]}, 'purpose': 'measure', 'type': 'measure'}, 'm1': {'operates': {'qubits': [1]}, 'purpose': 'measure', 'type': 'measure'}, 'm2': {'operates': {'qubits': [2]}, 'purpose': 'measure', 'type': 'measure'}, 'm3': {'operates': {'qubits': [3]}, 'purpose': 'measure', 'type': 'measure'}, 'm4': {'operates': {'qubits': [4]}, 'purpose': 'measure', 'type': 'measure'}, 'u0': {'operates': {'qubits': [0, 1]}, 'purpose': 'cross-resonance', 'type': 'control'}, 'u1': {'operates': {'qubits': [1, 0]}, 'purpose': 'cross-resonance', 'type': 'control'}, 'u2': {'operates': {'qubits': [1, 2]}, 'purpose': 'cross-resonance', 'type': 'control'}, 'u3': {'operates': {'qubits': [1, 3]}, 'purpose': 'cross-resonance', 'type': 'control'}, 'u4': {'operates': {'qubits': [2, 1]}, 'purpose': 'cross-resonance', 'type': 'control'}, 'u5': {'operates': {'qubits': [3, 1]}, 'purpose': 'cross-resonance', 'type': 'control'}, 'u6': {'operates': {'qubits': [3, 4]}, 'purpose': 'cross-resonance', 'type': 'control'}, 'u7': {'operates': {'qubits': [4, 3]}, 'purpose': 'cross-resonance', 'type': 'control'}}</td></tr><tr><td>credits_required</td><td>True</td></tr><tr><td>memory</td><td>True</td></tr><tr><td>acquisition_latency</td><td>[]</td></tr><tr><td>open_pulse</td><td>False</td></tr><tr><td>clops</td><td>2673</td></tr><tr><td>meas_map</td><td>[[0, 1, 2, 3, 4]]</td></tr><tr><td>simulator</td><td>False</td></tr><tr><td>url</td><td>None</td></tr><tr><td>qubit_lo_range</td><td>[[4.52975502605024, 5.52975502605024], [4.627741541087886, 5.627741541087886], [4.747152766332915, 5.747152766332916], [4.802619211913826, 5.802619211913826], [4.592029114086341, 5.592029114086341]]</td></tr><tr><td>conditional_latency</td><td>[]</td></tr><tr><td>meas_lo_range</td><td>[[6.925143125000001, 7.925143125000001], [6.721646720000001, 7.721646720000001], [6.971842939, 7.971842939], [6.865317232000001, 7.865317232000001], [6.919067567000001, 7.919067567000001]]</td></tr><tr><td>qubit_channel_mapping</td><td>[['d0', 'm0', 'u0', 'u1'], ['m1', 'u4', 'u3', 'd1', 'u2', 'u5', 'u0', 'u1'], ['u2', 'd2', 'u4', 'm2'], ['u3', 'd3', 'u7', 'u5', 'u6', 'm3'], ['m4', 'u6', 'd4', 'u7']]</td></tr><tr><td>allow_q_object</td><td>True</td></tr></table>"
      }
     },
     "7c606bb507b14e0eabdca8566a3dcf29": {
      "model_module": "@jupyter-widgets/base",
      "model_module_version": "1.2.0",
      "model_name": "LayoutModel",
      "state": {
       "width": "95px"
      }
     },
     "7dac145163494eb4bcfbe042ecbc9561": {
      "model_module": "@jupyter-widgets/controls",
      "model_module_version": "1.5.0",
      "model_name": "DescriptionStyleModel",
      "state": {
       "description_width": ""
      }
     },
     "7ef97afd86ca4070bb3a236ca8cc4823": {
      "model_module": "@jupyter-widgets/controls",
      "model_module_version": "1.5.0",
      "model_name": "DescriptionStyleModel",
      "state": {
       "description_width": ""
      }
     },
     "80d5da78173149e6b85d42db7c10c795": {
      "model_module": "@jupyter-widgets/controls",
      "model_module_version": "1.5.0",
      "model_name": "DescriptionStyleModel",
      "state": {
       "description_width": ""
      }
     },
     "82c128c009b24b8b96cb9b9114bc2620": {
      "model_module": "@jupyter-widgets/controls",
      "model_module_version": "1.5.0",
      "model_name": "VBoxModel",
      "state": {
       "children": [
        "IPY_MODEL_e9cd5e4391d64ae195f3a28322c891de",
        "IPY_MODEL_c136eaa52d964852bc39c6674197f4a9"
       ],
       "layout": "IPY_MODEL_408ebf9266db4c81aade30643737c902"
      }
     },
     "831b782a275d4438a405985f20461768": {
      "model_module": "@jupyter-widgets/controls",
      "model_module_version": "1.5.0",
      "model_name": "DescriptionStyleModel",
      "state": {
       "description_width": ""
      }
     },
     "832d8e1b71ef4394883ce1447be8758f": {
      "model_module": "@jupyter-widgets/controls",
      "model_module_version": "1.5.0",
      "model_name": "ButtonStyleModel",
      "state": {
       "button_color": "white"
      }
     },
     "83eaadc843ca4f5d8d93501ba3d73b26": {
      "model_module": "@jupyter-widgets/controls",
      "model_module_version": "1.5.0",
      "model_name": "HTMLModel",
      "state": {
       "layout": "IPY_MODEL_423c6afc522440dfbe2bceb09c96ef98",
       "style": "IPY_MODEL_ab079e525d7d480b88dc3d57063d89ca",
       "value": "<table><style>\ntable {\n    border-collapse: collapse;\n    width: auto;\n}\n\nth, td {\n    text-align: left;\n    padding: 8px;\n}\n\ntr:nth-child(even) {background-color: #f6f6f6;}\n</style><tr><th></th><th>Frequency</th><th>T1</th><th>T2</th><th>RZ</th><th>SX</th><th>X</th><th>Readout error</th></tr><tr><td><font style='font-weight:bold'>Q0</font></td><td>5.0903 GHz</td><td>110.86998 us</td><td>97.97097 us</td><td>0</td><td>0.0003</td><td>0.0003</td><td>0.0202 </td><tr><td><font style='font-weight:bold'>Q1</font></td><td>5.24551 GHz</td><td>77.65619 us</td><td>79.77064 us</td><td>0</td><td>0.0017</td><td>0.0017</td><td>0.0225 </td><tr><td><font style='font-weight:bold'>Q2</font></td><td>5.36151 GHz</td><td>68.9769 us</td><td>53.21462 us</td><td>0</td><td>0.00043</td><td>0.00043</td><td>0.0218 </td><tr><td><font style='font-weight:bold'>Q3</font></td><td>5.17042 GHz</td><td>97.39301 us</td><td>130.21507 us</td><td>0</td><td>0.00026</td><td>0.00026</td><td>0.027 </td><tr><td><font style='font-weight:bold'>Q4</font></td><td>5.25865 GHz</td><td>29.15397 us</td><td>46.54455 us</td><td>0</td><td>0.006</td><td>0.006</td><td>0.0475 </td></table>"
      }
     },
     "86727069e5924480af000abe1f5f0e50": {
      "model_module": "@jupyter-widgets/output",
      "model_module_version": "1.0.0",
      "model_name": "OutputModel",
      "state": {
       "layout": "IPY_MODEL_20e468482f354fb3820562e1334de7a4",
       "outputs": [
        {
         "data": {
          "image/png": "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\n",
          "text/plain": "<Figure size 792x648 with 5 Axes>"
         },
         "metadata": {},
         "output_type": "display_data"
        }
       ]
      }
     },
     "87874b61fae546d58ade8f2202adf8ac": {
      "model_module": "@jupyter-widgets/base",
      "model_module_version": "1.2.0",
      "model_name": "LayoutModel",
      "state": {
       "width": "145px"
      }
     },
     "87e0318889a54ee39595c12065af2b70": {
      "model_module": "@jupyter-widgets/controls",
      "model_module_version": "1.5.0",
      "model_name": "HTMLModel",
      "state": {
       "layout": "IPY_MODEL_35ae827612814b1fa5c67c37c29a6b85",
       "style": "IPY_MODEL_7ef97afd86ca4070bb3a236ca8cc4823",
       "value": "<table><style>\ntable {\n    border-collapse: collapse;\n    width: auto;\n}\n\nth, td {\n    text-align: left;\n    padding: 8px;\n}\n\ntr:nth-child(even) {background-color: #f6f6f6;};\n</style><tr><th></th><th>Type</th><th>Gate error</th></tr><tr><td><font style='font-weight:bold'>cx4_3</font></td><td>cx</td><td>0.02678</td></tr><tr><td><font style='font-weight:bold'>cx3_4</font></td><td>cx</td><td>0.02678</td></tr><tr><td><font style='font-weight:bold'>cx3_1</font></td><td>cx</td><td>0.01118</td></tr></table>"
      }
     },
     "885b3da8a6b84aaaad8d32ea56854e3f": {
      "model_module": "@jupyter-widgets/base",
      "model_module_version": "1.2.0",
      "model_name": "LayoutModel",
      "state": {}
     },
     "89603a6945a84650a7919061841d14e0": {
      "model_module": "@jupyter-widgets/base",
      "model_module_version": "1.2.0",
      "model_name": "LayoutModel",
      "state": {}
     },
     "896b0c58e23049b6a341bc602260fb56": {
      "model_module": "@jupyter-widgets/base",
      "model_module_version": "1.2.0",
      "model_name": "LayoutModel",
      "state": {
       "max_width": "700px",
       "min_width": "700px"
      }
     },
     "8976ee9ab4234a2ab70048c12d2ab6fe": {
      "model_module": "@jupyter-widgets/controls",
      "model_module_version": "1.5.0",
      "model_name": "HTMLModel",
      "state": {
       "layout": "IPY_MODEL_b0de41818c6f483b8c7fdaa5b608e334",
       "style": "IPY_MODEL_56dfe777e42d436d883fc893316f94f5",
       "value": "<table><style>\ntable {\n    border-collapse: collapse;\n    width: auto;\n}\n\nth, td {\n    text-align: left;\n    padding: 8px;\n}\n\ntr:nth-child(even) {background-color: #f6f6f6;};\n</style><tr><th></th><th>Type</th><th>Gate error</th></tr><tr><td><font style='font-weight:bold'>cx4_3</font></td><td>cx</td><td>0.01725</td></tr><tr><td><font style='font-weight:bold'>cx3_4</font></td><td>cx</td><td>0.01725</td></tr><tr><td><font style='font-weight:bold'>cx0_1</font></td><td>cx</td><td>0.00459</td></tr></table>"
      }
     },
     "8b862c73893645f3b4a3e110e93df2d1": {
      "model_module": "@jupyter-widgets/controls",
      "model_module_version": "1.5.0",
      "model_name": "DescriptionStyleModel",
      "state": {
       "description_width": ""
      }
     },
     "8e4b5c4cd44644758aac26cb09bc0b47": {
      "model_module": "@jupyter-widgets/controls",
      "model_module_version": "1.5.0",
      "model_name": "HTMLModel",
      "state": {
       "layout": "IPY_MODEL_644c07aae7394a3094eebb209f8e311b",
       "style": "IPY_MODEL_336c63f796dd4207bbac971105c90058",
       "value": "<table><style>\ntable {\n    border-collapse: collapse;\n    width: auto;\n}\n\nth, td {\n    text-align: left;\n    padding: 8px;\n}\n\ntr:nth-child(even) {background-color: #f6f6f6;};\n</style><tr><th></th><th>Type</th><th>Gate error</th></tr><tr><td><font style='font-weight:bold'>cx1_0</font></td><td>cx</td><td>0.00459</td></tr><tr><td><font style='font-weight:bold'>cx3_1</font></td><td>cx</td><td>0.01345</td></tr><tr><td><font style='font-weight:bold'>cx1_3</font></td><td>cx</td><td>0.01345</td></tr></table>"
      }
     },
     "8f3d87b5c78c4302ad9a9f0d91b4c827": {
      "model_module": "@jupyter-widgets/controls",
      "model_module_version": "1.5.0",
      "model_name": "DescriptionStyleModel",
      "state": {
       "description_width": ""
      }
     },
     "8f46fdcfdff94867b9776a61454290db": {
      "model_module": "@jupyter-widgets/base",
      "model_module_version": "1.2.0",
      "model_name": "LayoutModel",
      "state": {
       "margin": "0px 5px 0px 0px",
       "width": "32px"
      }
     },
     "8fb497cd307b446496b0e379231b3213": {
      "model_module": "@jupyter-widgets/controls",
      "model_module_version": "1.5.0",
      "model_name": "DescriptionStyleModel",
      "state": {
       "description_width": ""
      }
     },
     "9104221e793e41368136677f6fd536c1": {
      "model_module": "@jupyter-widgets/controls",
      "model_module_version": "1.5.0",
      "model_name": "HTMLMathModel",
      "state": {
       "layout": "IPY_MODEL_037bc647b23f4c6f8a3562f569535bd8",
       "style": "IPY_MODEL_3e196367f20940fe83b62c24a2ea2e2d",
       "value": "<table><style>\ntable {\n    border-collapse: collapse;\n    width: auto;\n}\n\nth, td {\n    text-align: left;\n    padding: 8px;\n}\n\ntr:nth-child(even) {background-color: #f6f6f6;}\n</style><tr><th>Property</th><th>Value</th></tr><tr><td><font style='font-weight:bold'>n_qubits</font></td><td>5</td></tr><tr><td><font style='font-weight:bold'>quantum_volume</font></td><td>8</td></tr><tr><td><font style='font-weight:bold'>operational</font></td><td>True</td></tr><tr><td><font style='font-weight:bold'>status_msg</font></td><td>active</td></tr><tr><td><font style='font-weight:bold'>pending_jobs</font></td><td>3</td></tr><tr><td><font style='font-weight:bold'>backend_version</font></td><td>1.0.35</td></tr><tr><td><font style='font-weight:bold'>basis_gates</font></td><td>['id', 'rz', 'sx', 'x', 'cx', 'reset']</td></tr><tr><td><font style='font-weight:bold'>max_shots</font></td><td>20000</td></tr><tr><td><font style='font-weight:bold'>max_experiments</font></td><td>100</td></tr></table>"
      }
     },
     "924279fe8505459ab211e35f64764eaf": {
      "model_module": "@jupyter-widgets/controls",
      "model_module_version": "1.5.0",
      "model_name": "DescriptionStyleModel",
      "state": {
       "description_width": ""
      }
     },
     "9545eec0ed2f431999ce720cb2c774f9": {
      "model_module": "@jupyter-widgets/base",
      "model_module_version": "1.2.0",
      "model_name": "LayoutModel",
      "state": {
       "grid_area": "bottom",
       "width": "auto"
      }
     },
     "95d74d09acd247759944e91ee0cbe614": {
      "model_module": "@jupyter-widgets/base",
      "model_module_version": "1.2.0",
      "model_name": "LayoutModel",
      "state": {
       "grid_area": "top"
      }
     },
     "9702cd0fc739483e8a2171c583fc40f0": {
      "model_module": "@jupyter-widgets/controls",
      "model_module_version": "1.5.0",
      "model_name": "TabModel",
      "state": {
       "_titles": {
        "0": "Configuration",
        "1": "Qubit Properties",
        "2": "Multi-Qubit Gates",
        "3": "Error Map",
        "4": "Job History"
       },
       "children": [
        "IPY_MODEL_244b2a27ce3a4c1a961c2afa14d9f55c",
        "IPY_MODEL_1b1a8b799bac475bb18cb6569c597ea9",
        "IPY_MODEL_ba42760e57a24c689c60cffbda6e5b18",
        "IPY_MODEL_d000d6400f3a4b6391a16ba443275aaa",
        "IPY_MODEL_f76c3eadc1874cc1bf8e1d94885e2d69"
       ],
       "layout": "IPY_MODEL_a3538307b65a48bc9bd855c13a94ff41",
       "selected_index": 3
      }
     },
     "97bfbea56a0f4020acdc959586572e31": {
      "model_module": "@jupyter-widgets/controls",
      "model_module_version": "1.5.0",
      "model_name": "DescriptionStyleModel",
      "state": {
       "description_width": ""
      }
     },
     "993399ec7afe4e4d9e0c6905bf9aafa1": {
      "model_module": "@jupyter-widgets/controls",
      "model_module_version": "1.5.0",
      "model_name": "GridBoxModel",
      "state": {
       "children": [
        "IPY_MODEL_bb80908b22b74dbd99b528b4abc0d4b5"
       ],
       "layout": "IPY_MODEL_1ce3eab8a87544208bddc85250f5a4b0"
      }
     },
     "9b80a112eb844144bc75f48b23947f78": {
      "model_module": "@jupyter-widgets/base",
      "model_module_version": "1.2.0",
      "model_name": "LayoutModel",
      "state": {
       "margin": "0px 5px 0px 0px",
       "width": "32px"
      }
     },
     "9bd66e2ee0af4821be42a2655ebdc268": {
      "model_module": "@jupyter-widgets/controls",
      "model_module_version": "1.5.0",
      "model_name": "VBoxModel",
      "state": {
       "children": [
        "IPY_MODEL_04893f21d8a04f9196c312362c4254ee",
        "IPY_MODEL_1fa8a4c9f3e04ae98e2e486114f73be5"
       ],
       "layout": "IPY_MODEL_89603a6945a84650a7919061841d14e0"
      }
     },
     "9ea573d204e448ee8e6d65a6dc24f126": {
      "model_module": "@jupyter-widgets/controls",
      "model_module_version": "1.5.0",
      "model_name": "HTMLModel",
      "state": {
       "layout": "IPY_MODEL_5844122d4aa9458bb56ec3e57e6f876f",
       "style": "IPY_MODEL_c9810e493a0341eeadf139b0c55fc74b",
       "value": "<table><style>\ntable {\n    border-collapse: collapse;\n    width: auto;\n}\n\nth, td {\n    text-align: left;\n    padding: 8px;\n}\n\ntr:nth-child(even) {background-color: #f6f6f6;};\n</style><tr><th></th><th>Type</th><th>Gate error</th></tr><tr><td><font style='font-weight:bold'>cx1_0</font></td><td>cx</td><td>0.01793</td></tr><tr><td><font style='font-weight:bold'>cx0_1</font></td><td>cx</td><td>0.01793</td></tr></table>"
      }
     },
     "9f8344a6b0814f078f2efe6d73b57a62": {
      "model_module": "@jupyter-widgets/base",
      "model_module_version": "1.2.0",
      "model_name": "LayoutModel",
      "state": {
       "margin": "0px 0px 0px 0px"
      }
     },
     "a0530be3f2af49e290ac6f81b322911c": {
      "model_module": "@jupyter-widgets/controls",
      "model_module_version": "1.5.0",
      "model_name": "HTMLModel",
      "state": {
       "layout": "IPY_MODEL_c1c807ffda7b4bdab5030ef30fec37c9",
       "style": "IPY_MODEL_df42ad549a0e49399d17159b300923f2",
       "value": "job has successfully run"
      }
     },
     "a0ec52b41e7a4a11963b48ae7a38119f": {
      "model_module": "@jupyter-widgets/base",
      "model_module_version": "1.2.0",
      "model_name": "LayoutModel",
      "state": {
       "width": "70px"
      }
     },
     "a1588633414544d5a567378d82278d3c": {
      "model_module": "@jupyter-widgets/controls",
      "model_module_version": "1.5.0",
      "model_name": "DescriptionStyleModel",
      "state": {
       "description_width": ""
      }
     },
     "a1f0967d14e34bc0a6024c919f1c4459": {
      "model_module": "@jupyter-widgets/controls",
      "model_module_version": "1.5.0",
      "model_name": "HTMLModel",
      "state": {
       "layout": "IPY_MODEL_0171df54d48f4fda81213f50c9cd79cf",
       "style": "IPY_MODEL_c635df7797cb48d392f37b129bb3a714",
       "value": "-"
      }
     },
     "a1f4503c50844ef195cf6563d642942c": {
      "model_module": "@jupyter-widgets/base",
      "model_module_version": "1.2.0",
      "model_name": "LayoutModel",
      "state": {
       "grid_gap": "0px 0px",
       "grid_template_areas": "\n                                                   \"top top top\"\n                                                   \"left middle right\"\n                                                   ",
       "grid_template_columns": "33% 33% 33%",
       "grid_template_rows": "auto auto"
      }
     },
     "a2b5b8f98aa34ec4a3f6a4138df943e0": {
      "model_module": "@jupyter-widgets/controls",
      "model_module_version": "1.5.0",
      "model_name": "HTMLModel",
      "state": {
       "layout": "IPY_MODEL_671738ea9b5f479d9ad7cec3a2f578ef",
       "style": "IPY_MODEL_b88fdaa43edf4f869014520646f773ec",
       "value": "<table><style>\ntable {\n    border-collapse: collapse;\n    width: auto;\n}\n\nth, td {\n    text-align: left;\n    padding: 8px;\n}\n\ntr:nth-child(even) {background-color: #f6f6f6;}\n</style><tr><th></th><th>Frequency</th><th>T1</th><th>T2</th><th>RZ</th><th>SX</th><th>X</th><th>Readout error</th></tr><tr><td><font style='font-weight:bold'>Q0</font></td><td>5.02976 GHz</td><td>142.60939 us</td><td>123.00283 us</td><td>0</td><td>0.00026</td><td>0.00026</td><td>0.0221 </td><tr><td><font style='font-weight:bold'>Q1</font></td><td>5.12774 GHz</td><td>127.68232 us</td><td>130.49271 us</td><td>0</td><td>0.00018</td><td>0.00018</td><td>0.0155 </td><tr><td><font style='font-weight:bold'>Q2</font></td><td>5.24715 GHz</td><td>97.87602 us</td><td>134.57835 us</td><td>0</td><td>0.01482</td><td>0.01482</td><td>0.1412 </td><tr><td><font style='font-weight:bold'>Q3</font></td><td>5.30262 GHz</td><td>82.69442 us</td><td>83.98798 us</td><td>0</td><td>0.00026</td><td>0.00026</td><td>0.028 </td><tr><td><font style='font-weight:bold'>Q4</font></td><td>5.09203 GHz</td><td>21.07346 us</td><td>20.61213 us</td><td>0</td><td>0.00064</td><td>0.00064</td><td>0.0538 </td></table>"
      }
     },
     "a2ced639202b4cc59131789dc032143c": {
      "model_module": "@jupyter-widgets/controls",
      "model_module_version": "1.5.0",
      "model_name": "DescriptionStyleModel",
      "state": {
       "description_width": ""
      }
     },
     "a3538307b65a48bc9bd855c13a94ff41": {
      "model_module": "@jupyter-widgets/base",
      "model_module_version": "1.2.0",
      "model_name": "LayoutModel",
      "state": {
       "overflow_y": "scroll"
      }
     },
     "a5724485379d449297ac8746c0af7d53": {
      "model_module": "@jupyter-widgets/controls",
      "model_module_version": "1.5.0",
      "model_name": "HTMLModel",
      "state": {
       "layout": "IPY_MODEL_0244a62d9eda4e6e9c961b080a69e8ed",
       "style": "IPY_MODEL_0a4ce6d958a1455bb075957d22af364f",
       "value": "<font style='color:#34BC6E'>DONE</font>"
      }
     },
     "a5a4ae98bab148f6849198624adb6d36": {
      "model_module": "@jupyter-widgets/controls",
      "model_module_version": "1.5.0",
      "model_name": "HTMLModel",
      "state": {
       "layout": "IPY_MODEL_19992968dcc24cae9942b8270b7126b0",
       "style": "IPY_MODEL_b9acbbd29aa14dab9cd17b5613215d2e",
       "value": "<div><font style='font-weight:bold'>last_update_date</font>: 2022-04-20 04:49:43+00:00</div>"
      }
     },
     "a69cb733fa084f10b01913a09651147c": {
      "model_module": "@jupyter-widgets/controls",
      "model_module_version": "1.5.0",
      "model_name": "VBoxModel",
      "state": {
       "children": [
        "IPY_MODEL_34c97acb7ee7469298090aab1ae85266",
        "IPY_MODEL_a2b5b8f98aa34ec4a3f6a4138df943e0"
       ],
       "layout": "IPY_MODEL_885b3da8a6b84aaaad8d32ea56854e3f"
      }
     },
     "a6dbbb74d051492a9fc5fa4dbcce4869": {
      "model_module": "@jupyter-widgets/base",
      "model_module_version": "1.2.0",
      "model_name": "LayoutModel",
      "state": {
       "grid_area": "right",
       "padding": "0px 0px 0px 0px",
       "width": "70px"
      }
     },
     "a7155243b7c74fbf85fb1b0aa6087bd8": {
      "model_module": "@jupyter-widgets/output",
      "model_module_version": "1.0.0",
      "model_name": "OutputModel",
      "state": {
       "layout": "IPY_MODEL_cee7cf55ca77496da80ab70ff5e166cf",
       "outputs": [
        {
         "data": {
          "image/png": "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\n",
          "text/plain": "<Figure size 360x360 with 1 Axes>"
         },
         "metadata": {},
         "output_type": "display_data"
        }
       ]
      }
     },
     "a795eb6c66354b2f80736eeed4551197": {
      "model_module": "@jupyter-widgets/base",
      "model_module_version": "1.2.0",
      "model_name": "LayoutModel",
      "state": {
       "grid_gap": "0px 0px",
       "grid_template_areas": "\n                                                   \"top top top\"\n                                                   \"left middle right\"\n                                                   ",
       "grid_template_columns": "33% 33% 33%",
       "grid_template_rows": "auto auto"
      }
     },
     "a9a6fc1363fa478eb8580dafb7528604": {
      "model_module": "@jupyter-widgets/controls",
      "model_module_version": "1.5.0",
      "model_name": "DescriptionStyleModel",
      "state": {
       "description_width": ""
      }
     },
     "aa5b11c9ed09408eac2b57edeaa9b931": {
      "model_module": "@jupyter-widgets/controls",
      "model_module_version": "1.5.0",
      "model_name": "GridBoxModel",
      "state": {
       "children": [
        "IPY_MODEL_b7985553c6fc411c83e3a740ecf8b3da",
        "IPY_MODEL_0f9bf465267d405a84cf31312f8d516d",
        "IPY_MODEL_1b4e2a73a5d546979514e14409d7a745"
       ],
       "layout": "IPY_MODEL_ef7662cb31f04381b81926687ec1990b"
      }
     },
     "aa66664e84504f94bfe9619ae6427d1b": {
      "model_module": "@jupyter-widgets/controls",
      "model_module_version": "1.5.0",
      "model_name": "HTMLModel",
      "state": {
       "layout": "IPY_MODEL_1fa8e5f70d5b449c969a045690728417",
       "style": "IPY_MODEL_28d1c09f141c4984a2eb9de09f2f46fb",
       "value": "<div><font style='font-weight:bold'>last_update_date</font>: Wed 20 April 2022 at 05:23 UTC</div>"
      }
     },
     "aabd45790777408caaf559521c980398": {
      "model_module": "@jupyter-widgets/controls",
      "model_module_version": "1.5.0",
      "model_name": "HTMLModel",
      "state": {
       "layout": "IPY_MODEL_4a3eb8c163da425fbe8982d010653bcf",
       "style": "IPY_MODEL_52463548709c49e799cb4b7cef126d04",
       "value": "626049dea28f430c16a009dc"
      }
     },
     "ab079e525d7d480b88dc3d57063d89ca": {
      "model_module": "@jupyter-widgets/controls",
      "model_module_version": "1.5.0",
      "model_name": "DescriptionStyleModel",
      "state": {
       "description_width": ""
      }
     },
     "ab4be83f9f0d43e38d06b5830b10878b": {
      "model_module": "@jupyter-widgets/controls",
      "model_module_version": "1.5.0",
      "model_name": "DescriptionStyleModel",
      "state": {
       "description_width": ""
      }
     },
     "ac7fdec904154182a935e4c008e853a3": {
      "model_module": "@jupyter-widgets/controls",
      "model_module_version": "1.5.0",
      "model_name": "HTMLModel",
      "state": {
       "layout": "IPY_MODEL_d8cce049da97410e8820cca62f80df36",
       "style": "IPY_MODEL_c6be4e2462d144d2ab0b0ea66be068a9",
       "value": "<h1 style='color:#ffffff;background-color:#000000;padding-top: 1%;padding-bottom: 1%;padding-left: 1%; margin-top: 0px'>ibmq_belem</h1>"
      }
     },
     "ad97a223076946b99a3877d698785903": {
      "model_module": "@jupyter-widgets/controls",
      "model_module_version": "1.5.0",
      "model_name": "HTMLMathModel",
      "state": {
       "layout": "IPY_MODEL_241ad0f9c7ae4b32aa1005ccae5bdc66",
       "style": "IPY_MODEL_4452d2cf425a4ad2955be75e3f6b80a7",
       "value": "<table><style>\ntable {\n    border-collapse: collapse;\n    width: auto;\n}\n\nth, td {\n    text-align: left;\n    padding: 8px;\n}\n\ntr:nth-child(even) {background-color: #f6f6f6;}\n</style><tr><th></th><th></th></tr><tr><td>pulse_num_qubits</td><td>3</td></tr><tr><td>conditional</td><td>False</td></tr><tr><td>supported_features</td><td>['qobj']</td></tr><tr><td>n_registers</td><td>1</td></tr><tr><td>dynamic_reprate_enabled</td><td>True</td></tr><tr><td>meas_kernels</td><td>['hw_boxcar']</td></tr><tr><td>u_channel_lo</td><td>[[{'q': 1, 'scale': (1+0j)}], [{'q': 0, 'scale': (1+0j)}], [{'q': 2, 'scale': (1+0j)}], [{'q': 3, 'scale': (1+0j)}], [{'q': 1, 'scale': (1+0j)}], [{'q': 1, 'scale': (1+0j)}], [{'q': 4, 'scale': (1+0j)}], [{'q': 3, 'scale': (1+0j)}]]</td></tr><tr><td>processor_type</td><td>{'family': 'Falcon', 'revision': 4, 'segment': 'T'}</td></tr><tr><td>pulse_num_channels</td><td>9</td></tr><tr><td>dtm</td><td>0.2222222222222222</td></tr><tr><td>parametric_pulses</td><td>['gaussian', 'gaussian_square', 'drag', 'constant']</td></tr><tr><td>multi_meas_enabled</td><td>True</td></tr><tr><td>default_rep_delay</td><td>250.0</td></tr><tr><td>coupling_map</td><td>[[0, 1], [1, 0], [1, 2], [1, 3], [2, 1], [3, 1], [3, 4], [4, 3]]</td></tr><tr><td>online_date</td><td>2021-01-08 05:00:00+00:00</td></tr><tr><td>live_data</td><td>False</td></tr><tr><td>meas_levels</td><td>[1, 2]</td></tr><tr><td>supported_instructions</td><td>['delay', 'shiftf', 'measure', 'cx', 'sx', 'u2', 'acquire', 'reset', 'rz', 'setf', 'id', 'u1', 'u3', 'play', 'x']</td></tr><tr><td>sample_name</td><td>family: Falcon, revision: 4, segment: T</td></tr><tr><td>rep_times</td><td>[1000.0]</td></tr><tr><td>dt</td><td>0.2222222222222222</td></tr><tr><td>rep_delay_range</td><td>[0.0, 500.0]</td></tr><tr><td>description</td><td>5 qubit device Belem</td></tr><tr><td>uchannels_enabled</td><td>True</td></tr><tr><td>measure_esp_enabled</td><td>False</td></tr><tr><td>allow_object_storage</td><td>True</td></tr><tr><td>timing_constraints</td><td>{'acquire_alignment': 16, 'granularity': 16, 'min_length': 64, 'pulse_alignment': 1}</td></tr><tr><td>hamiltonian</td><td>$$\\begin{align} \\mathcal{H}/\\hbar = & \\sum_{i=0}^{4}\\left(\\frac{\\omega_{q,i}}{2}(\\mathbb{I}-\\sigma_i^{z})+\\frac{\\Delta_{i}}{2}(O_i^2-O_i)+\\Omega_{d,i}D_i(t)\\sigma_i^{X}\\right) \\\\ & + J_{0,1}(\\sigma_{0}^{+}\\sigma_{1}^{-}+\\sigma_{0}^{-}\\sigma_{1}^{+}) + J_{1,2}(\\sigma_{1}^{+}\\sigma_{2}^{-}+\\sigma_{1}^{-}\\sigma_{2}^{+}) + J_{1,3}(\\sigma_{1}^{+}\\sigma_{3}^{-}+\\sigma_{1}^{-}\\sigma_{3}^{+}) + J_{3,4}(\\sigma_{3}^{+}\\sigma_{4}^{-}+\\sigma_{3}^{-}\\sigma_{4}^{+}) \\\\ & + \\Omega_{d,0}(U_{0}^{(0,1)}(t))\\sigma_{0}^{X} + \\Omega_{d,1}(U_{1}^{(1,0)}(t)+U_{3}^{(1,3)}(t)+U_{2}^{(1,2)}(t))\\sigma_{1}^{X} \\\\ & + \\Omega_{d,2}(U_{4}^{(2,1)}(t))\\sigma_{2}^{X} + \\Omega_{d,3}(U_{6}^{(3,4)}(t)+U_{5}^{(3,1)}(t))\\sigma_{3}^{X} \\\\ & + \\Omega_{d,4}(U_{7}^{(4,3)}(t))\\sigma_{4}^{X} \\\\ \\end{align}$$</td></tr><tr><td>backend_name</td><td>ibmq_belem</td></tr><tr><td>n_uchannels</td><td>8</td></tr><tr><td>local</td><td>False</td></tr><tr><td>input_allowed</td><td>['job', 'runtime']</td></tr><tr><td>discriminators</td><td>['quadratic_discriminator', 'linear_discriminator', 'hw_centroid']</td></tr><tr><td>channels</td><td>{'acquire0': {'operates': {'qubits': [0]}, 'purpose': 'acquire', 'type': 'acquire'}, 'acquire1': {'operates': {'qubits': [1]}, 'purpose': 'acquire', 'type': 'acquire'}, 'acquire2': {'operates': {'qubits': [2]}, 'purpose': 'acquire', 'type': 'acquire'}, 'acquire3': {'operates': {'qubits': [3]}, 'purpose': 'acquire', 'type': 'acquire'}, 'acquire4': {'operates': {'qubits': [4]}, 'purpose': 'acquire', 'type': 'acquire'}, 'd0': {'operates': {'qubits': [0]}, 'purpose': 'drive', 'type': 'drive'}, 'd1': {'operates': {'qubits': [1]}, 'purpose': 'drive', 'type': 'drive'}, 'd2': {'operates': {'qubits': [2]}, 'purpose': 'drive', 'type': 'drive'}, 'd3': {'operates': {'qubits': [3]}, 'purpose': 'drive', 'type': 'drive'}, 'd4': {'operates': {'qubits': [4]}, 'purpose': 'drive', 'type': 'drive'}, 'm0': {'operates': {'qubits': [0]}, 'purpose': 'measure', 'type': 'measure'}, 'm1': {'operates': {'qubits': [1]}, 'purpose': 'measure', 'type': 'measure'}, 'm2': {'operates': {'qubits': [2]}, 'purpose': 'measure', 'type': 'measure'}, 'm3': {'operates': {'qubits': [3]}, 'purpose': 'measure', 'type': 'measure'}, 'm4': {'operates': {'qubits': [4]}, 'purpose': 'measure', 'type': 'measure'}, 'u0': {'operates': {'qubits': [0, 1]}, 'purpose': 'cross-resonance', 'type': 'control'}, 'u1': {'operates': {'qubits': [1, 0]}, 'purpose': 'cross-resonance', 'type': 'control'}, 'u2': {'operates': {'qubits': [1, 2]}, 'purpose': 'cross-resonance', 'type': 'control'}, 'u3': {'operates': {'qubits': [1, 3]}, 'purpose': 'cross-resonance', 'type': 'control'}, 'u4': {'operates': {'qubits': [2, 1]}, 'purpose': 'cross-resonance', 'type': 'control'}, 'u5': {'operates': {'qubits': [3, 1]}, 'purpose': 'cross-resonance', 'type': 'control'}, 'u6': {'operates': {'qubits': [3, 4]}, 'purpose': 'cross-resonance', 'type': 'control'}, 'u7': {'operates': {'qubits': [4, 3]}, 'purpose': 'cross-resonance', 'type': 'control'}}</td></tr><tr><td>credits_required</td><td>True</td></tr><tr><td>memory</td><td>True</td></tr><tr><td>acquisition_latency</td><td>[]</td></tr><tr><td>open_pulse</td><td>False</td></tr><tr><td>clops</td><td>2454</td></tr><tr><td>meas_map</td><td>[[0, 1, 2, 3, 4]]</td></tr><tr><td>simulator</td><td>False</td></tr><tr><td>url</td><td>None</td></tr><tr><td>qubit_lo_range</td><td>[[4.590302894396, 5.590302894396], [4.74551258054815, 5.74551258054815], [4.861514563084926, 5.861514563084926], [4.670421400035345, 5.670421400035345], [4.758653946216961, 5.758653946216961]]</td></tr><tr><td>conditional_latency</td><td>[]</td></tr><tr><td>meas_lo_range</td><td>[[6.801489952000001, 7.801489952000001], [6.8934333720000005, 7.8934333720000005], [6.860065181, 7.860065181], [6.8033823270000005, 7.8033823270000005], [6.926310916, 7.926310916]]</td></tr><tr><td>qubit_channel_mapping</td><td>[['m0', 'u0', 'd0', 'u1'], ['m1', 'u2', 'u4', 'u5', 'd1', 'u1', 'u3', 'u0'], ['u2', 'u4', 'd2', 'm2'], ['m3', 'u5', 'd3', 'u6', 'u3', 'u7'], ['d4', 'u7', 'm4', 'u6']]</td></tr><tr><td>allow_q_object</td><td>True</td></tr></table>"
      }
     },
     "b05d17224fb347e299866243ab977d2b": {
      "model_module": "@jupyter-widgets/controls",
      "model_module_version": "1.5.0",
      "model_name": "DescriptionStyleModel",
      "state": {
       "description_width": ""
      }
     },
     "b0de41818c6f483b8c7fdaa5b608e334": {
      "model_module": "@jupyter-widgets/base",
      "model_module_version": "1.2.0",
      "model_name": "LayoutModel",
      "state": {
       "grid_area": "left"
      }
     },
     "b203adc14f454128a49db89ab18371bb": {
      "model_module": "@jupyter-widgets/base",
      "model_module_version": "1.2.0",
      "model_name": "LayoutModel",
      "state": {
       "grid_area": "left",
       "width": "100%"
      }
     },
     "b23d0a4a1d054e9f9e32f188853ed176": {
      "model_module": "@jupyter-widgets/controls",
      "model_module_version": "1.5.0",
      "model_name": "DescriptionStyleModel",
      "state": {
       "description_width": ""
      }
     },
     "b277de3a90484b6c932ebccd8bb6f4da": {
      "model_module": "@jupyter-widgets/controls",
      "model_module_version": "1.5.0",
      "model_name": "GridBoxModel",
      "state": {
       "children": [
        "IPY_MODEL_a5a4ae98bab148f6849198624adb6d36",
        "IPY_MODEL_8976ee9ab4234a2ab70048c12d2ab6fe",
        "IPY_MODEL_8e4b5c4cd44644758aac26cb09bc0b47",
        "IPY_MODEL_39e2759d15734353b2a00b87ce3ec42d"
       ],
       "layout": "IPY_MODEL_a795eb6c66354b2f80736eeed4551197"
      }
     },
     "b2ea78c58ec3430c9c1b69fcecfac254": {
      "model_module": "@jupyter-widgets/output",
      "model_module_version": "1.0.0",
      "model_name": "OutputModel",
      "state": {
       "layout": "IPY_MODEL_7b2840b73c224a8cbe947dc29375199f",
       "outputs": [
        {
         "data": {
          "image/png": "iVBORw0KGgoAAAANSUhEUgAAAoQAAAIACAYAAAAbln2BAAAAOXRFWHRTb2Z0d2FyZQBNYXRwbG90bGliIHZlcnNpb24zLjUuMSwgaHR0cHM6Ly9tYXRwbG90bGliLm9yZy/YYfK9AAAACXBIWXMAAAsTAAALEwEAmpwYAABNyUlEQVR4nO3deZwcdZ3/8dcnd8IdkBsCUVAwDGDiAYJByCrEC8WDCQqCym7EXRdZXcUL8dgV9ecqskFERJHEAzwQoyyHRhFUEoUhgAgGIhgQMARCMrm/vz+qBjqTmaRnpnuqeur1fDzmMTPV1d/6VB/V7/5W1bcipYQkSZKqa1jRBUiSJKlYBkJJkqSKMxBKkiRVnIFQkiSp4gyEkiRJFWcglCRJqjgDoSRJUsUZCCVJkirOQChJklRxBkJJkqSKMxBKkiRVnIFQkiSp4gyEkiRJFWcglCRJqjgDoSRJUsUZCCVJkirOQChJklRxBkJJkqSKMxBKkiRVnIFQkiSp4gyEkiRJFWcglCRJqjgDoSRJUsUZCCVJkirOQChJklRxBkJJkqSKMxBKkiRVnIFQkiSp4gyEkiRJFWcglCRJqjgDoSRJUsUZCCVJkirOQChJklRxBkJJkqSKMxBKkiRVnIFQkiSp4gyEkiRJFWcglCRJqjgDoSRJUsUZCCVJkirOQChJklRxBkJJkqSKMxBKkiRVnIFQkiSp4gyEkiRJFWcglCRJqjgDoSRJUsUZCCVJkirOQChJklRxBkJJkqSKMxBKkiRVnIFQkiSp4gyEkiRJFWcglCRJqjgDoSRJUsUZCCVJkirOQChJklRxBkJJkqSKMxBKkiRVnIFQkiSp4gyEkiRJFWcglCRJqjgDoSRJUsUZCCVJkirOQChJklRxBkJJkqSKMxBKkiRVnIFQkiSp4koVCCMiRcRziq5jMEXEnIg4vh/3Gx0Rf4qIZzWhLEmSVCFbDIQRcX9EdEbEUxHxcERcGhFbD0Zx/RURv4yId27m9n3y8PlUt5+3DHKdbcDBwI/z/w+OiDsi4rGIeF/NfCMj4ncRsVfXtJTSauAS4IODWbMkSRp66u0hfE1KaWvgEOBQ4ENNq2hwbZ9S2rrm57s9zRQRw7v9P6IvC9nM/P8MXJ5SSvn//wX8B1lI/HBE7JpPfx9wZUrpgW73nw2cEhGj+1KPJElSrT7tMk4pPQxcQxYMAYiIl0TETRGxLCJui4ijam47NSLuiojlEbEoIv65tr2IeH9EPBQRSyLitG63bRcR34qIRyNicUR8JCKG5bedExHfrpm3q8dvRER8GjgS+Ere6/eVvqxj3t6lETErIuZGxArg5XlP6X9GRAewIl/Wa/MevWV5r+QBNW1sMn8PizoOmFfz/77ADSmlvwH3AHtHxATgBOCL3e+cUnoQeBx4SV/XUZIkqUufAmFE7EkWYu7N/98D+CnwKWA8We/WlTXHtT0CvBrYFjgV+GJEvCC/77H5/P8E7AdM67a484HtgInAVODkvI3NSil9GPg18J681+89fVnHGjOATwPbADfm09qBVwHb53XNAf4deBYwF/hJRIyqaePp+VNK62obj4ityALg3TWTFwKvyB/nfYC/AF8C3p9SWttLnXeR9ShKkiT1S72B8EcRsRx4gCzkfTyf/lZgbkppbkppQ0rpWmA+MB0gpfTTlNJfUmYe8H9kvXcAbwa+kVJamFJaAZzTtbB8F+2JwIdSSstTSvcDXwDeNoB17cljee9e188BNbf9OKX0m3y9VuXTvpxSeiCl1Am8BfhpSunaPKx9HhgLHF7TRu383W2f/15eM+0/gJnAVcCZwEvz2++LiB9HxLyIeFO3dpbXtCVJktRn9R4Ld3xK6bqImEp23NpOwDJgAvCmiHhNzbwjgV8ARMRxZOFxf7LwOQ64PZ9vd2BBzf0W1/y9U97O4m6371FnvfXaqXvPXY3ux+t1n7Y7NfWllDZExANsXGNPbXRZlv/eBliVt7GYPExHxDjgZuAVZL2l3yXrjV0YEdenlJbW3H8ZkiRJ/dTXYwjnAZeS9YZBFnguSyltX/OzVUrpv/MTHa7M590lpbQ92W7VyO/7ELBXTfN71/z9GLCWLHDW3v63/O8VZOGyy65sLDFwPbVRO20JNfVFRJCtz996mX/jhrJe0b+QheWefAz4Wkrp78BBwPyU0hPAg0Dt0DwHALf1vhqSJEmb159xCP8H+KeIOBj4NvCaiHhlRAyPiDERcVR+DNwoYDTwKLAu7y18RU073wPeHhEH5r1hXbuhSSmtz2//dERsk59Y8b58eQC3Ai+LiL0jYjs2Pev572TH+DXT94BXRcQxETESOAtYDdzUhzbmkh0fuZGIOBA4CpiVT7oPODoidiE73vKv+Xx7kB27+dt+roMkSVLfA2FK6VHgW8DH8mFQXgecTRb8HgDeDwxLKS0H/o0sOD1OdpLGVTXt/IwsXN5AdpLKDd0W9a9kPYGLyE7qmE027h75sYrfBTrIdjtf3e2+XwLeGBGPR8SXN7M6y7qNQ/i+zczb/XG4m+wYyvPJejRfQzY8z5p62wAuAk7KexdrXQC8Nw/GkAXefwPuAD6Tn+0N2WP6zXxMQkmSpH6JZ4bAUxEiYjbwvZTSj/p4v9Fku4pfllJ6pBm1SZKkajAQSpIkVVyprmUsSZKkwWcglCRJqjgDoSRJUsXVOzD1QNR9kGJ7ezsAc+bMaVoxJdb9TGNJkqRBYQ+hJElSxQ3GWcZ1L2Dp0uxqbOPHj29aMSVmD6EkSSpEqQJhxRkIJUlSIUq1y/iKK67giiuuKLoMSZKkSilVILzyyiu58soriy5DkiSpUkoVCCVJkjT4DISSJEkVZyCUJEmqOAOhJElSxZVq2JnOzk4Axo4d27RiSsxhZ6QSmTxxWgA7A9sAY4D1QCfw2IJF1z1VZG2S1GilCoQVZyCUCjR54rQdganAi4CXAQeRXd5zHbCB7D0awGjgEeD3wK+AW4DfLlh03foCypakhihVILzssssAeNvb3ta0YkrMQCgNsrwX8MXAWcCrgTXA1tR/OM0qYC1Zz+EXgYsXLLrusSaUKklNVapA2N7eDsCcOXOaVkyJGQilQZIHwROBTwC7A2MZ+DHVnXkbVwMfWrDounsG2J4kDRpPKpFUKZMnTtsDuAH4GrAfsBWN2RaOJdudfDxw2+SJ086aPHHa8Aa0K0lNZyCUVAmTJ06LyROnvR34E/BSsiDYDMPJwuEngPmTJ07br0nLkaSGMRBKGvImT5w2CvgB8BWyYwRHDsJityI7MeXWyROnvXYQlidJ/WYglDSkTZ44bSxwDfAKmtcr2JvhwDjgO5MnTnvrIC9bkupWqpNKKs6TSqQGmzxx2kjg58BhZLtxi9QJnLxg0XVXFFyHJG3CHkJJQ9llwEsoPgxCVsM3J0+cNrXoQiSpu1L1EH7ta18D4F3velfTiikxewilBpo8cdobgUsZ/N3EW/Io8OwFi65bXnQhktSlVD2EN9xwAzfccEPRZUhqcZMnTtsZuJjyhUHILoV3ftFFSFKtUgVCSWqQSyjHbuKejAHeNHnitGlFFyJJXQyEkoaUyROnTQeOAkYVXMrmjAMuz096kaTCGQglDTUfoZy7irsbC7ym6CIkCUoWCMeMGcOYMWOKLkNSi5o8cdr+wKFF11GnbYD/LLoISYKSnWVccZ5lLA3Q5InTvgKczuBciaQROoEXLFh03Z+KLkRStZWqh1CS+mvyxGljgLfTOmEQYATwnqKLkKRSBcLzzz+f8893NAZJ/XIwsL7oIvpoJHBc0UVIUqkC4U033cRNN91UdBmSWtMUWqt3sMteee+mJBWmVIFQkgbgCBo89mD7qW/gO3Mv4vf3XMOCRddx+ntPbmTzXTqBtmY0LEn1MhBKGipe0ugGD5i0H08sW87fH3q00U3XGgFMbuYCJGlLDISShoq9Gt3gx876LP884yz+fOdfGt10rXFkxz9KUmFGFF1Are23377oEiS1oMkTp42gtb/gblt0AZKqrVSBcNasWUWXIKk1jSE7w7hU27Q+GFd0AZKqrZW/UUtSl7W09vZsTdEFSKq2Um1AzzvvPM4777yiy5DUetbQ2lf7earoAiRVW6l2r/zxj38sugRJLWjBouvS5InTHgfGN7Ld4998HIdMmcTzJu0HwFH/dDi777ELv7z2N/zy2oaNmboWWNSoxiSpP/rUQxgR4yPihxGxIiIWR8SMZhUmSX3U8G+Uh0yZxGve+Ep23X1nAJ574HN4zRtfyf4HPqeRi1kJ3NLIBiWpr/raQ3gB2a6ZXYBDgJ9GxG0ppTsaXZgk9dE84GU08Gol53zgc5zzgc81qrnejAUWNHshkrQ5dfcQRsRWwAnAR1NKT6WUbgSuAt7WrOIkqQ/mk/W2tZrlCxZd91jRRUiqtr7sMt4fWJdS+nPNtNuA53efMSJOj4j5ETH/oosuqnsBu+66K7vuumsfSpKkp91CNvxMq/l90QVIUqSU6psx4kjg+ymlXWumvQs4KaV01GbuWt8C1MpnSEqlMHnitOuBo4uuow+WAycuWHTd3KILkVRtfekhfIpNR9PflmyDJkll8DlaawiXTuCaoouQpL4Ewj8DIyJiv5ppBwMNO6Hk3HPP5dxzz21Uc5Kq5/9onUDYCXxxwaLr1hddiCTVHQhTSiuAHwDnRsRWEfFS4HXAZY0q5q677uKuu+5qVHOSKmbBous2AP+P1ji5JICLiy5CkqDvVyp5N9kQCY8Ac4CZDjkjqWQuAB4vuogtWAF81rOLJZVFnwJhSmlpSun4lNJWKaW9U0qzm1WYJPXHgkXXrQTeQrZLtowS8CDw6aILkaQupbqWsSQ1woJF1/0GuIRyhsJVwJsWLLpubdGFSFKXUgXCfffdl3333bfoMiQNAduOG/OBcaNHrY8SDeg0asRw9hi//ewFi667vehaJKlW3eMQDoDjENanRB9bUmu7/X9nB/A/jyx78t8+8e2rWLFqTdElMXL4cA6asAdvf/lLlw+LOPaws0+7qeiaJKlLqXoIJWmgusIg8G87b78tH3rLqxg7amSh37hGjhjO/rvvwilHHc6wiG2An9/8mUsOL7AkSdpIqXoIzz77bAA+85nPNK2YErOHUBqg2jBYO/2hpU/w6TlXs6Jz9YY0yF+ERw4fvqFtwh7DTj7qcIYP22jRywF7CiWVQql6CO+77z7uu+++osuQ1IJ6C4MAu43fjve/6dgvJvg12ZAvg2ED0Dl65IhzT3n5Sxd2C4MA9hRKKo1SBUJJ6o/NhcHcuRN23vEs4OX5PE8BzTzLdwVwO3DovDt/+olhEUcDC3uYz1AoqRQMhJJaWj1hEDjnoHfPSAsWXZcWLLruEuAAYB7ZEDCNPOPkKbIweA4wecGi6+4GOOzs0x4FDIWSSstAKKll9SUM1k5csOi6Bxcsuu6fgDbgIrIQ199rIG/I738P8F5g5wWLrvt892sUGwollVmpTio599xzAfjYxz7WtGJKzJNKpD7obxjsyeSJ08aRXd3kBGAysCPZ9ZBHp5TGRAS128qIWA6MIQuBvyYbBPuWBYuu2+Kybv7MJc8CbgAm9XCzJ5pIKkSpAmHFGQilOjUyDPZk8sRp2wMvACat37D+S7W3JRIjho1oA+5asOi6df1p31AoqWwMhOVhIJTq0Oww2F3bhKmbtNOxeN6A36+GQkllUqpjCM8880zOPPPMosuQVFKDHQabyWMKJZVJqQLhww8/zMMPP1x0GZJKaCiFwS6GQkllUapAKEk9GYphsIuhUFIZGAglldpQDoNdDIWSimYglFRaVQiDXQyFkopUqkB46KGHcuihhxZdhqQSqFIY7GIolFQUh50pD4edkXJlCoPNGnZmcxySRtJgK1UPoSSVKQwWxZ5CSYOtVIFw5syZzJw5s+gyJBXEMPgMQ6GkwVSqQLhs2TKWLVtWdBmSCmAY3JShUNJgKVUglFRNhsHeGQolDQYDoaRCGQa3zFAoqdkMhJIKYxisn6FQUjOVKhAefvjhHH642zOpCgyDfWcolNQsjkNYHo5DqMpopTBYxDiEW+I4hZIarVQ9hJKGvlYKg2VlT6GkRitVIDz11FM59dRTiy5DUpMYBhvHUCipkUoVCFetWsWqVauKLkNSExgGG89QKKlRShUIJQ1NhsHmMRRKagQDoaSmMgw2n6FQ0kAZCCU1jWFw8BgKJQ1EqQLh0UcfzdFHH110GZIawDA4+AyFkvrLcQjLw3EINWQMpTBYxnEIt8RxCiX1Val6CCW1vqEUBluVPYWS+qpUgbC9vZ329vaiy5DUT4bB8jAUSuqLUgVCSa3LMFg+hkJJ9TIQShoww2B5GQol1cNAKGlA8jD4WwyDpVVHKLzh5s9ccvrgViWpTAyEkvotD4N/AF7UyyyGwZLYQigcDXzVUChVV6kC4fTp05k+fXrRZUiqQ00YPKSXWQyDJbOFUAiGQqmyHIewPEo9rplUKw+DvwEO62WWLwDvHwphsBXHIdySfJzCW4Hde5nlzYedfdr3B68iSUUrVQ9hZ2cnnZ2dRZchaTNqTiDpLQzOY4iEwaEq7ymcBqzuZZave6KJVC2lCoSnnXYap512WtFlSOpFHWcTzwNebhgsv8POPu0u4FB6DoWefSxVTKkCoaTyMgwOPYZCSV0MhJK2qI4w+FkMgy0pD4XPx3EKpUozEErarDoHnf6QYbB1HXb2aX8BjsFQKFWWgVBSr7wCSXUcdvZpj2AolCqrVIHwhBNO4IQTTii6DEkYBqvIUChVl+MQlkdLj2umocUw+IyhOA7hltz8mUt2Bq4HJvVw83Lg2MPOPu2mwa1KUjOVqodw6dKlLF26tOgypEozDMqeQql6ShUIzzjjDM4444yiy5AqyzCoLoZCqVr6FAgj4j0RMT8iVkfEpU2qSVIBDIPqzlAoVUdfewiXAJ8CLmlCLZIKYhhUbwyFUjX0KRCmlH6QUvoR8I/mlCNpsBkGtSWGQmnoK9UxhJIGl2FQ9TIUSkNbUwJhRJyeH2s4/6KLLqr7fieddBInnXRSM0qS1I1hUH1lKJSGrn6NQxgRnwL2TCm9vY7Z/TCpz5Ae10zlYhisXxXHIdwSxymUhp5S7TJesmQJS5YsKboMaUgzDGqg7CmUhp6+DjszIiLGAMOB4RExJiJGNKqYs846i7POOqtRzUnqxjCoRjEUSkNLX3sIPwJ0Ah8E3pr//ZFGFyWp8QyDajRDoTR09HXYmXNSStHt55wm1SapQQyDahZDoTQ0lOoYQkmNZxhUsxkKpdZnIJSGMMOgBouhUGptpQqE73znO3nnO99ZdBnSkGAY1GAzFEqtq1/jEPaRHzb1qfS4Zmosw2DjOA5h3zlOodR6StVDuGjRIhYtWlR0GVJLMwyqaPYUSq2nVIHwwx/+MB/+8IeLLkNqWYZBlYWhUGotpQqEkvrPMKiyMRRKrcNAKA0BhkGVlaFQag0GQqnFGQZVdoZCqfwMhFILMwyqVRgKpXIrVSA844wzOOOMM4ouQ2oJhkG1GkOhVF6OQ1gejms2BC3tmD8aGAeMBtYBq4CV49umbBhIu4bBwdE2YeooYHX36Y5DODCDNU7hwlmzR5K9/8aQfRZ1AisnzZyxfqBtS0NNqQLhnXfeCcCBBx7YtGJKzA+YFre0Y/7WwIuAycDU/PfOZEFwPdlzPAJYC/wJ+BXwW+D349um1D0Ap2GwOdomTB0LvJDseXtZ/vdu9Lwn5Xbg18DNwC3AnzsWz/Px7oNGh8KFs2aPAqaQPX9HAi8G9iB773W9/4bns98L3AjcBMwH7pg00/eLqq1UgbC9vR2AOXPmNK2YEjMQtqilHfMnAf8OzADWAGOBUXXcNQFPkYXEe4DPAleOb5uySY9UF8Ng47VNmLof2eN5KllwGJ3/bEnX8zcceBA4D5jTsXjeyiaVOuQ0IhQunDV7AvBu4F/ySaPIegTr8RTZtvcfwOeAb02aOePJOu8rDSkGwvIwELaQpR3zA3gd8HHgucBIsmA3EMvz318F/nt825R/1N5oGGystglTX0H2/L2ALNSNHGCTXeHim8CnOhbPe2iA7VVCf0PhwlmzjwA+ARxO1otbz5ewzVmRt/Md4NxJM2fcP8D2pJZiICwPA2GLWNoxf1eyD/2XAls1YRGryY51evv4tik/BsNgI7VNmLoDWeh+FdnxZY22luw5fDfwbXclb1lfQuHCWbO3JnsvtNOc528dWU//+4ELJ82cMaDjfaVWYSAsDwNhyeW9gieShYnRDLxHYktWAtdsWL/hXQ/dfO/HMAwOWNuEqa8GvsUzJ/o00wqyY0TfZm/hltUTCrfZYcwosh687ah/t3B/rQDuAE6cNHPGfU1ellS4Ug07I5XV0o75I4HvAV8jGx6j2WEQYFxKaTrwt5FbjTYMDkDbhKnD2iZM/SrwXWAHmh8GIes9fhlwd9uEqVMHYXktbUtD0owaM+IXKaWfA7vQ/DAI2fM3Gbh94azZrxmE5UmFKlUP4YIFCwCYPHly04opMXsIS2ppx/yxwE/Jzlpsxi6qLdqwfgP/uONvrHmys3ayYbAObROmjiTrVTqWgp4/st7eN3csnvfTgpbfMnrqKRw9bgQjRw0norDNZCdw+qSZM75dVAFSs5UqEFacgbCE8p7Ba4CXkJ09XJgN6zfw2O0PsvapVWAYrEvbhKnDyHp2j6O4MNilE3hdx+J51xZcR+nVhsIShMEuncApk2bO+H7RhUjNUKpdxgsWLHi6l1AqWn7M4ByynsFCwyDAsOHD2GnSHozebuwFGAbr9RXKEQYhew39qG3C1BcWXUjZde0+HjV2xCMlCYOQPX/fXDhr9jFFFyI1Q6kC4ec//3k+//nPF12G1GUGxe5m3EQMH5Z2nLTnUXscsf/wLc9dbW0Tph4HnEKJnj+yWq7MB8HWZmyzw5iJo0YP37YkYbDLWOB7C2fN3r7oQqRGK1UglMpiacf83YBZNGdYmX6LzL7AB4qupczaJkzdDriMcoXBLjsC/110EWW2cNbsMcD3ImIwTh7pq3Fk2wZpSDEQSt3ku4q/xeCcydgf44CPLO2YX8lrPNbpfylZmK8xDnhX24SphxVdSIn9F1lwLqMxwGsXzpr9qqILkRrJQCht6g3AYQz8yhXNNBqYnYdX1WibMPUo4HjKG+gh2/X4nbYJU931383CWbMPBv6ZcvbudhlHdjxhmV9jUp8YCKVNfZzy9i51GQY8B/AEhU19lHKHiS47AK8suogS+iCDM87nQI0G3lR0EVKjDPTaqw310Y9+tOgSVHFLO+YfAjy76DrqNBY4C3hL0YWURduEqRPIrm3bCrYhOxZ0btGFlMXCWbPHk/XutkLP6dbAf5Idqyq1vFL1EB544IEceKCHRalQZ9IavROQvX9fu7RjflmPtSrCu2mtMT1f3DZh6r5FF1EipwKtdO3gfRfOmv2CoouQGqFUgfDGG2/kxhtvLLoMVdTSjvnbku0CKlXP+RZsAE4ruogyyK9I8i8MzmXpGmUYcEbRRZTBwlmzA3gfrbG7v8tospqllleqQHjBBRdwwQUXFF2GquswYG3RRfTROOD1RRdREm20Vu8gZL3RXic3szewfdFF9NFw4BVFFyE1QqkCoVSwKZTgiiT9cJBnGwPZ89cKx551t2/bhKmtcphCM00B1hVdRD9st3DWbA/bUMtrpV1jUrNNpdFDzUQwbrc9GbX9eGLYcNZ1rmTlkgdY37mikUsZDuwF/LWRjbagl9Lg3Y3nfPb9HDLlIHbd7VmsWbOW22+9iy9+5kLu/fN9jVxMJzAJ+EMjG21BLyI7UaOh9jj6JWy9x64MHzuaDWvW0vnoUv7+u9tY9djjjVpEJzAZ+L9GNSgVwR5C6RmHNrrBcbvvxZiddmHD2rWsefJxRozbim0n7k8Mb+h3sbVkH0hV1/CBnt9w4qtZ/uRT/OyqG1jx1EqOfPlLmPWt8xg1uqEdesPx+QN4GU34TBq19VaseOgRHv/TItavXsM2e+/O3se+rJGLGEfWuym1NHsIJWBpx/ytaPDxSzF8BKN32ImUEssX/Zm0fh3sBaN32JExO+1M59+XNGpRW5P1MP2wUQ22qH0a3eBbXvUu7lr4ZwB233NXfv6b77LLbjvz7P0mcNfCexq1mK1owpeRFvTcZjR631XXP/33mJ124DlvOo6RW42FYQEbUiMWMZKsd1NqaaUKhJ/+9KeLLkHVtTVZT1vD3hPDx4wlhg1j/ZrVWRgE1q1cwegddmT4mIYeqjgM2LaRDbaatglTR9CE7VlXGAQYOTJrft26dTz6yD8avajtGt1gC2raVT/GT9qf0Ttsy9Z77grAY7f9qVFhsMs2jWxMKkKpAuHEiROLLkHVNYYGj382bET29krr1z8zMW3Ib2v4VfHKfmWVZhtNdkJCU7ZpY8eN5dzPfxCAyy7+Po89srTRi6j68wdNvFTkdhP3Yqs9dgFg7VMrWPnwo41eRCsNlSP1qFTHEF5//fVcf/31W55Rarx1NHjIkg3rsl7BGF5z4uuwYfltDR/dZk2jG2wx62jS9myH8dvx9e/8D4dOOYgrZv+EL/7Xhc1YTNWfP4D1W56lf+676nruuOg7LP7ZPEaMG8verziSkVs3NMO12nBV0iZK1UN48cUXA3DMMccUXIkqqJMGD1myfnUnacMGho0cRYwYQVq3jhFjs46g9as6G7kogKca3WCLWUMTxiDcbY9d+Opln2efZ+/NxV/5Nl/+3NcavYguK5vVcAtZS4MHFY/hw0kbNkBKpPUbeOqvD7Fh7TqGjx7FqG23Zu1TDXvYff7U8koVCKUCPUGDe5jSunWsfvwfjNnxWWwz8bmsX9XJqO12IK1fz6rHHmnkojqBhxrZYKvpWDwvtU2Y+gQNPjHoWz+4gF12fRZLHnyYMWNH84GPvQeAuT++joW3/alRi1kH3N+oxlrYP2jwsDPjdtmRPacdzoolj7J+zRq22u1ZDB89inWdq+hs3LAz4POnIcBAKAHj26asX9ox/x6goRfTXrnkr5ASo7bfgeHbbs+6lSvofOiBp08yaZC1wIJGNtiiOsiGLmmYXXZ9FpCdYfzWd7zp6el/uvPeRgbCFcAtjWqshf0OmNDIBteu6GTNsuVsvdeuDBs5gvWdq3ni3sU8smAhG9Y0bC/vU8DNjWpMKoqBUHrGTTQ4EJISK5f8NQuGzTMOuK2ZC2gR84DDaeB2rW3C1EY1tTljMNAD/JrsMn4NOwV/zRPLNxp2pol8/tTySnVSiVSwm2jNY/H+Nr5tSsMPSmxBt5D1trWazo7F8x4uuogSWEBrnpwxCmhYd7FUlFL1EH7hC18ougRV2+9pwokJTZaA3xRdREncQhPHsmui+UUXUBK30ZrP358mzZzRitdgljZSqh7C3Xffnd13373oMlRddwINu3zIIFkBfLXoIsog72VrtesBLwdmFV1EGUyaOWMl8DOyLzmt4inggqKLkBqhVIHw6quv5uqrry66DFXU+LYpCfgsrbXb+B9kx14pcx5ZyGoV64Crii6iRD5Pa+32HwbMLroIqRFKFQgvv/xyLr/88qLLULXNoWTvi81YAXwuD7LKXE3rDPK8Cji/Y/E8dzc+4zdAwy8j0iRrgcsmzZzRSl8gpV61ygefNCjGt01ZCVxKa4SKYcBlRRdRJnm4+jLZ2IytwN39NSbNnJHIenlboZdwHfCloouQGsVAKG3qk8DqoovYghXAJ8e3TXmy6EJK6EuU/8oRK4ELOxbPa7VjVgfDpcBjlPtYwlXAjybNnHFX0YVIjWIglLoZ3zblYeBfKG8vxQbgPrKeFHXTsXjeE8BJlDsU/gP4UNFFlNGkmTNWAW8mC11ltQJ4d9FFSI1kIJR6NofseKYyjou2Gnjz+LYp64supKw6Fs+7Bvgh5QwVncCbOxbPK2NtpTBp5ozfAxdSzlC/EnjbpJkzlhVdiNRIkVLTe+XrXsDSpUsBGD9+fNOKKbFWG/9uyFvaMX9X4G5g26JrqbEC+PT4tin/VXQhZdc2Yep2wD3ATpTn/bUSuKhj8bwziy6k7BbOmj0mhg/7W1q/oUwfCJ1ku4pnFF2I1Gil6iEcP358VcOgSijfdXwc5emlWAn8hGxoHG1Bvuv4GMozjFAncCPw/qILaQW7v3T/dzzrkL3Hx4jSfEytAhYC7yi6EKkZSvNOA7jiiiu44oorii5Detr4tik3Aa+n+FC4EvgF8LbxbVM2FFxLy+hYPO924BUUHwo7gT8Cr3OYmS1b2jH/DOArI8aMYqdJexHDC/+oWgXcC0ybNHNGq5zBLvVJ4e+yWldeeSVXXnll0WVIGxnfNuX/gOlku2uLOPNxJdngxcePb5timOijjsXzfgscBTxBdkLOYFsJ/Ao4xuMGt6wrDHb9P3Kr0ezUtjd5T2ER779OssvqHT5p5gzP6teQVXcgjIjREfH1iFgcEcsj4taIOK6ZxUllMb5tyjzgcGARg9dbuIHsw+jTwEmGwf7rWDxvAfBC4A4G7+zxRPb8XQC82jC4Zd3DYJeR40ax00F7/Qj4HYN79n8n2VifR02aOaOVroAj9dmIPs77ADAV+CtZj8n3IuKglNL9TahNKpXxbVM6lnbMPxD4OHAmMIbmnaywErgfeNP4til3NmkZldKxeN49bROmHgr8B9lzOJrm7SVZCTwCvKlj8bz5TVrGkNJbGMzNGTlu9MnAeuCfyS5xN5q+fYb1RSewDDhx0swZv2rSMqRSGdBZxhHRAXwipbS5/bx1L6C9vR2AOXPm9LumFlaWsyBVh6Ud8w8FvgPsDmxF456/lXlbnwY+a69gc7RNmPo8smvQ7g+MpXHBsDNv68vARzsWzyv7AOelsKUwCJxc+15YOGv2PmQ9dy8ARtG4YLiK7P13KXDWpJkzyjoWqdRw/d4IRsQuZBvTO3q47fSImB8R8y+66KKB1CeV0vi2KX8Enge8Gvgp2diA/d0lmMhOevgbcDaw+/i2KZ82DDZPx+J5fwImk52FfCXZ8zeQQwGWk/UIngvs1bF43gcMg/XpaxgEmDRzxv2TZs44EngpWbDvZGC7kpcDj5MN9j5x0swZ/2IYVNX0q4cwIkYCPwP+klL65y3MXvcCOjuzk7fGjh3b55qGAHsIW9jSjvm7AacDx5MFxfVkxwBuzabP7SqyayWPBf4O3Ew2CO8vxrdNKfPluoastglTdyIbTuQE4Pn55HXANmz6/HWF/3Fkl1i7heyaxNd0LJ7nYOF90J8w2JOFs2ZvB7wdeAtwEDCcbFD5rdm042MNWYAcS3ai0QLgYuCqSTNnlHEgemlQ9DkQRsQwsm9k2wKvSylt6Q3kB1x9DIRDxNKO+cOA55D1QE0CtiP7YFpN1ouxmOxD6NbxbVOKHg5F3bRNmBrAvmTP30HADmTP31qe6cldAPwxH+tQ/dCoMNjdwlmzA9iL7Pk7GBhP9vxtIOsJfAj4A/CHSTNnLO1H6dKQ1KdAGBEBXALsA0xPKdUzHlPdC7jssssAeNvb3lZ3TUOIgVBSJTQrDErqv74eQzgLOAB4TZ1hsE/mzp3L3LlzG92sJKkkDINSOfVlHMIJZKf7HwI8HBFP5T8nNas4SdLQYRiUyqvuU/VTSotxt6YkqR8Mg1K5lerSdZKkoccwKJWfgVCS1DSGQak1DOhKJXVy2Jn6uDte0pBiGJRahz2EkqSGMwxKraVUgfBrX/saX/va14ouQ5I0AIZBqfWUKhDecMMN3HDDDUWXIUnqJ8Og1JpKFQglSa3LMCi1LgOhJGnADINSazMQSpIGxDAotb66r1QyGMaMGVN0CZKkPjAMSkOD4xCWh+MQSmophkFp6HCXsSSpzwyD0tBSqkB4/vnnc/755xddhiRpMwyD0tBTqkB40003cdNNNxVdhiSpF4ZBaWgqVSCUJJWXYVAaugyEkqQtMgxKQ5uBUJK0WYZBaegr1TiE22+/fdElSJJqGAalanAcwvJwHEJJpWIYlKrDXcaSpE0YBqVqKVUgPO+88zjvvPOKLkOSKs0wKFVPqY4h/OMf/1h0CZJUaYZBqZpK1UMoSSqOYVCqLgOhJMkwKFVcqXYZS5IG39KO+ZcDM3q52TAoVUCpAuGuu+5adAmSVClLO+Z/F3hzLzcbBqWKcBzC8nAcQkmDyjAoqYvHEEpSBS3tmP8teg+DV2EYlCqlVD2E5557LgAf+9jHmlZMidlDKGlQbOEEksXAc8e3TVk9iCVJKlipjiG86667ii5BkoY0w6CknrjLWJIqwjAoqTcGQkmqgC2EwR9iGJQqzUAoSUNcHYNOv9kwKFVbqY4h3HfffYsuQZKGFK9AIqkepTrLuOI8y1hSQxkGJdXLXcaSNAQZBiX1RakC4dlnn83ZZ59ddBmS1NIMg5L6qlTHEN53331FlyBJLc0wKKk/StVDKEnqP8OgpP4yEErSEGAYlDQQBkJJanGGQUkDVapjCA844ICiS5CklmIYlNQIjkNYHo5DKKlPDIOSGsVdxpLUggyDkhqpVIHwzDPP5Mwzzyy6DEkqNcOgpEYr1TGEDz/8cNElSFKpGQYlNUOpegglSb0zDEpqFgOhJLUAw6CkZjIQSlLJGQYlNVupjiE89NBDiy5BkkrFMChpMDgOYXk4DqGkjRgGJQ0WdxlLUgkZBiUNplIFwpkzZzJz5syiy5CkQhkGJQ22PgXCiPh2RDwUEU9GxJ8j4p2NLGbZsmUsW7askU1KUksxDEoqQl97CP8L2CeltC3wWuBTETG58WVJUvUYBiUVpU+BMKV0R0ppdde/+c+zG16VJFWMYVBSkfp8DGFE/G9ErAT+BDwEzG14VZJUIYZBSUXrcyBMKb0b2AY4EvgBsLr7PBFxekTMj4j5F110Ud1tH3744Rx++OF9LUmSWpZhUFIZDGgcwoi4ELgzpfTlzczmOIT1cRxCqWIMg5LKYqDDzozAYwglDXHT29pHTG9rb+gwXYZBSWVSdw9hROwMHA1cDXQC08h2GbenlK7azF3r7iE89dRTAfjGN75R712GEnsIpQJNb2sfDjwPmAwcBhxB9oV3NNn7M4D1wDLgVmAeMB+YP7djzqN9WZZhUFLZ9OVaxgmYCVxI1rO4GPj3LYTBPlm1alWjmpKkukxva98ZOB14LzAmn7wVPX9JGw7sCBwDvAxYCYyZ3ta+ADgP+OncjjmbDXKGQUllVHcgTCk9CkxtYi2SNGimt7VPAT4MHEv2hXdsH5sYCWyX/304cBmwZnpb+5eBL8/tmLOs+x0Mg5LKqlSXrpOkZpve1j5uelv7+WS7fF9L1ivY1zDYk23Ieg8/BPxlelv7cbU3GgYllVlfdhlLUkub3tb+UuC7wA7AuCYtZkz+c8X0tvYfA+/+9rfPOgnDoKQSK1UgPProo4suQdIQNL2tPYBzgbNoTG9gPcYBrx85cvhr77//71vts88uPc1jGJRUCgMah7BOjkNYH88ylpogHy5mFnAS2ckig2706JG8//1v4HnP27N2smFQUml4DKGkISvvGZwFvJWCwiDA6tVr+dznfsC99y7pmmQYlFQqpQqE7e3ttLe3F12GpKHjXLKewWYdL1i31avX8t//fQV33/23n2IYlFQypTqGUJIaZXpb+5EM7jGDW7Rq1dr0yU9+Z38g5nbMKbocSXpaqXoIJakRpre1jwO+Q4nCYC6A3YGPFl2IJNUyEEoair5ANrRMGW0F/Mf0tvaDiy5EkroYCCUNKdPb2l8MnEL5egdrjQG+m5/0IkmFK9UxhNOnTy+6BEmt7yM8c03isuradfxy4IaCa5EkxyEsEXsKpAGa3ta+G3AfMLroWuqQgGvmdsw5botzSlKTlWqXcWdnJ52dnUWXIal1/TOt8yU0gKOmt7XvXnQhklSqQHjaaadx2mmnFV2GpBY0va19BPBvlH93cXcziy5AkkoVCCVpACZRsuOi6zAGOKHoIiTJQChpqJhMa27TnpP3bkpSYVpx4ylJPTmcJl2veOpxhzO3Yw5zO+Zw+gdObnTzq4ADG92oJPWFgVDSUHF4MxrdcZfxvPvDp7JubdMuPRxkvZuSVJhS7aY44QQPpZHUb89uRqNnfWomSx9Zxv33/JWpxzUlc24NvAD4RjMal6R6lCoQvvGNbyy6BEktaHpb+3BgZKPbPf6tx/H8Q5/LmSd9lNe9tanDBY5vZuOStCWl2mW8dOlSli5dWnQZklrPGKCh+3QnPGdP3v7eE7nsgu+z6O7FjWy6J0059lGS6lWqHsIzzjgDgDlz5hRciaQWs54GX+3npdNezIiRIzhoygFMesHz2Pe5EwB48VEvYM2qNVz65e80cnFrG9mYJPVVqQKhJPXTahq8xyMChg0bxguPPHSj6bvtuQvPO3i/Ri4KYEWjG5SkvijVLmNJ6o+5HXMS8FQj27x81pVMb2t/+ufaH88D4Eff/hkffMcnG7mo9cCDjWxQkvrKQChpqLi96AL66SnglqKLkFRt7jKWNFTMA14MDG9G41/86IV88aMXNqPp0cCCZjQsSfUqVSA86aSTii5BUuu6hexYvG2LLqSP1gJ/K7oISdVWqkD46le/uugSJLWuW4BRRRfRD3/Mj4GUpMKU6hjCJUuWsGTJkqLLkNSC5nbMeRD4U9F19NFy4KtFFyFJpQqEZ511FmeddVbRZUhqXZ8lC1mt5MqiC5CkUgVCSRqgHwCtsvt1NXDh3I45q4suRJIMhJKGjLkdc9YAs8jCVtkl4IKii5AkMBBKGnq+AKwquogt6ATmzO2Y0/SLJEtSPQyEkoaUuR1zHgXeSbkvB7cceG/RRUhSl0ip6Yfb1L2A66+/HoBjjjmmacWUWBRdgDSUTG9rvwp4JeUbimYl8Nq5HXOuL7oQSepSqkBYcQZCqYGmt7XvBNwLbFd0LTU6ge/M7ZhzWtGFSFKtUu0yXrRoEYsWLSq6DElDwNyOOY8Bx5H1yJXBKqADeHfRhUhSd6XqIWxvbwdgzpw5TSumxOwhlJpgelv7PwE/AsYVWMYqst7Kw+d2zGm1cRIlVUCpegglqdHmdsy5FngVxZ1k0gnchmFQUokZCCUNeXM75vwSOBL4K4O7C3kl8H3gKMOgpDIzEEqqhLkdc/4IPJfs2sGdTV7cKuBR4HVzO+acMrdjTtnHRZRUcQZCSZUxt2POqrkdc94HHAUspvHXPV5DFga/Bzxnbsec6xrcviQ1RalOKrnxxhsBOOKII5pWTIl5Uok0iKa3tQ8HjgU+ALyI7Atyf8csfCr/fTHwlbkdc/4y8AolafCUKhBWnIFQKsj0tvZ9gfcArwf2JNulPIKez0zeQBYAR+T/d5BdP/l77hqW1KpKFQjvvPNOAA488MCmFVNiBkKpBKa3tY8B2oDJ+c8OZMFwHdlJIouB3wMLgPvndszxS6+klleqQOg4hJIkSYPPk0okSZIqzkAoSZJUcQZCSZKkijMQSpIkVVypTipZsGABAJMnT25aMSXmSSWSJKkQpQqEFWcglCRJhSjVLuMFCxY83UsoSZKkwVGqHkLHIZQkSRp8/eohjIj9ImJVRHy70QVJkiRpcPV3l/EFwC2NLESSJEnF6HMgjIgTgWXA9Q2vRpIkSYOuT4EwIrYFzgXet4X5To+I+REx/6KLLhpIfZIkSWqyPp1UEhFfApaklD4bEecAz0kpvXULd6t7AXfeeScABx54YN01DSGeVCJJkgoxot4ZI+IQYBpwaLOKqWgQlCRJKlTdgRA4CtgH+GtEAGwNDI+IA1NKL2hEMTfeeCMARxxxRCOakyRJUh3q3mUcEeOAbWsm/QdZQJyZUnp0M3d1HML6uMtYkiQVou4ewpTSSmBl1/8R8RSwagthUJIkSSXXl13GG0kpndPAOiRJklSQUl3LWJIkSYPPQChJklRxfRqHsJ/qXsCiRYsAmDhxYtOKKTFPKpEkSYUoVSCsOAOhJEkqRKl2GV9//fVcf72XSJYkSRpM/T7LuBkuvvhiAI455piCK5EkSaqOUvUQSpIkafAZCCVJkirOQChJklRxBkJJkqSKK9WwM0uWLAFg9913b1oxJeawM5IkqRClCoQVZyCUJEmFKNUu46uvvpqrr7666DIkSZIqpVTjEF5++eUAvPrVry64EkmSpOooVQ+hJEmSBp+BUJIkqeIMhJIkSRVnIJQkSaq4Ug07s3TpUgDGjx/ftGJKzGFnJElSIUoVCCvOQChJkgpRql3GV1xxBVdccUXRZUiSJFVKqQLhlVdeyZVXXll0GZIkSZVSqkAoSZKkwWcglCRJqjgDoSRJUsUZCCVJkiquVMPOdHZ2AjB27NimFVNiDjsjSZIKUapAWHEGQkmSVIhS7TK+7LLLuOyyy4ouQ5IkqVJKFQjnzp3L3Llziy5DkiSpUkoVCCVJkjT4DISSJEkVZyCUJEmqOAOhJElSxTV92JmIOD2ldFGz5h8qqrrekiSpeIPRQ3h6k+cfKqq63pIkqWDuMpYkSao4A6EkSVLFDUYg7OtxcVU9jq6q6y1Jkgo2GNcyliRJUom5y1iSJKniDISSJEkVN6BAGBHHRsTdEXFvRHywh9tHR8R3I+L+iHgyIu6JiDsi4r0R8aH8fndHxCvz+Y+KiFvzeebVtPPeiFiYT//3gdQ8GCLikoh4JCIWdpv+rxHxp3w9zuvlvttHxBX5fHdFxGH59Dfl99sQEVMGYz0kSVI1jOjvHSNiOHAB8E/Ag8AtEXFVSunOmtneATwOHAacAhwKvBO4HVgFPB/YHbguIl4I/C9wbErprxGxc76cScC7gBcBa4CfR8TVKaV7+1v7ILgU+Arwra4JEfFy4HXAwSml1V3r14MvAT9PKb0xIkYB4/LpC4E3AF9tWtWSJKmSBtJD+CLg3pTSopTSGuA7ZIGn1uuAb6aUHgI+DxwDPAWsBH6TUlqdUroPuBf4EPCDlNJfAVJKj+RtHAD8LqW0MqW0DphHFoxKK6X0K2Bpt8kzgf9OKa3O53mk+/0iYjvgZcDX83nWpJSW5X/flVK6u5l1S5KkahpIINwDeKDm/wfzaT3Ok4e5J4BDgL2Am7vd9wBgh4j4ZUQsiIiT89sWAkdGxI4RMQ6Ynt+/1exPth6/i4h5eY9od/sCjwLfiIg/RsTFEbHV4JYpSZKqZrBPKgngG8CvyXYZ1xoOTAZeBbwS+GhE7J9Sugv4LPB/wM+BW4H1g1VwA40AxgMvAd4PfC8iood5XgDMSikdCqwANjk2U5IkqZEGEgj/xsY9dXvm03qcJyLG5PN8iywQdr/vfcA1KaUVKaXHgF8BBwOklL6eUpqcUnoZ2TGJfx5A3UV5kGyXeEop/R7YAOzUwzwPppR+l/9/BVlAlCRJapqBBMJbgP0iYt/85IcTgau6zXMVcEreE/Z/wP0ppf+XTz8xPwt5X2A/shNUjoiIEfmu4RcDdwHUnGCyN9nxg7MHUHdRfgS8HCAi9gdGAY/VzpBSehh4ICKem086Bqg9SUeSJKnh+n2WcUppXUS8B7iGbHfvJSmlOyLiXGB+SukqspMjLiM7jnAP4O6IuDVv4layHrH1wKn5fX8OdJD1nl2cUuoatuXKiNgRWAuc0XWiRVlFxBzgKGCniHgQ+DhwCXBJPhTNGuCUlFKKiN3J1nV6fvd/BS7PQ/Yi4NS8zdcD5wPPAn4aEbemlF45mOslSZKGJi9dJ0mSVHFeqUSSJKniDISSJEkVZyCUJEmqOAOhJElSxRkIJUmSKs5AKEmSVHEGQkmSpIozEEqSJFWcgVCSJKniDISSJEkVZyCUJEmqOAOhJElSxRkIJUmSKs5AKEmSVHEGQkmSpIozEEqSJFWcgVCSJKniDITqVUQcGBHzIyL6cd9/jYjPbub2fSIiRcRTEXH6wCqttoj4RESsyB/PEUXXI6k83I63hoiYlj+OGyJiWhE1VC4QRsT93R/siHh7RNxYVE3NEBHnRMS3B9jMJ4HPp5RS3ub/RMTjEXFzROxZs6wZEfHlbvf9GnBSROy8hWVsn1K6qFvt++ZvilkDrL/pIuLMiHg4Ip6MiEsiYvRm5j0mIv4UESsj4hcRMaHmtjvyjUHXz7qI+EkPbZycb4Df2TUtpfRx4PkNXzmpn/Jtwvz8tfxQRPwsIo7Ibzsnfw2/uWb+Efm0fWqmHR4RN0TE8oh4IiJ+EhEH5redVPNe6cy3F0+/fwZ9hZvE7XjzRcSkiLgmIh6LiFTH/Cn/At71eru45rbREXFhRPw9Ipbmr9k9emhjv4hYVfvcppSuSyltDfy1YSvXR5ULhM0WEcO7/d+nHpt65h+MXqCI2A14OfCj/P8XAZOBXYEbgQ/m07cD3g98pPb+KaVVwM+Ak/ux+JOBx4G3bC5gFS0iXkn2OBwDTAAmAp/oZd6dgB8AHwXGA/OB73bdnlJ6fkpp63yDsA3wAPD9bm3sAJwN3NHwlZEaJCLeB/wP8BlgF2Bv4H+B19XMthT4RPftZU0bhwH/B/wY2B3YF7gN+E1ETEwpXV7zfjkOWNL1fz5toOvgdpxqbMeBtcD3gHf04T4H17ze3lkz/b3AYUAb2ev2ceD8Hu5/AXBLP+ttGgNhHSLieRFxbZ747+72zfbSiJgVEXMjYgXw8sh6If8zIjqAFfm339fmvUDLIuKXEXFATRubzN9DDSkizoiIe4B78mlfiogHIuudWhARR+bTjyULDm/Jv8Hclk/fLiK+nn9j/1tEfKq3DTLwT8Af8g0CZBvkG1NKq4HrycIPwKeBz6WUnuyhjV8Cr6rrQX5mPYNsQ/IRsjfqa/Lpb4mI+d3mPTMirsr/3jH/NvZkRNySr1uze31PAb6eUrojpfQ42Tfxt/cy7xuAO1JK388f03OAgyPieT3M+zJgJ+DKbtP/C/gy8FgDapcaLg8W5wJnpJR+kFJakVJam1L6SUrp/TWz/hxYA7y1l6bOA76VUvpSSml5SmlpSukjwG/J3jv9qc3tuNvxTaSU7k4pfZ3GfNHeF7gmpfT3/DH/Lt323kTEicAysse/VAyEWxARWwHXArOBnYETgf+NfNdFbgbZG2obsm9dAO1kb6Ltyd50c4B/B54FzAV+EhGjatp4ev6U0rpeyjkeeDHQtexbgEPIepxmA9+PiDEppZ+TfTv/bv4N5uB8/kuBdcBzgEOBVwC1325qHQTcXfP/HcCRETGWrEfsjoiYAjw3pTS7lzbuAg7u5bbeHAHsCXyH7FvbKfn0nwDPjYj9auadQbbekH3jWkH2zfeUmvttUUQckW/ge/s5ope7Pp+s16LLbcAuEbHjluZNKa0A/kLPu3pPAa7M5+mq8UXAFODCetdLKsBhwBjgh1uYL5H1ln88IkbW3hAR44DD6dZDnvseWcjpE7fjT3M73hi/iuxQoR9EzWEOwNeBl0bE7vnr+CSyHtauGrcl+8L0vgbW0jBVDYQ/qn2hkO3O6M2rgftTSt9IKa1LKf2RrOfmTTXz/Dil9JuU0oaab2JfTik9kFLqBN4C/DSldG1KaS3weWAs2UaPHubvzX/l35Q7AVJK304p/SOv6wvAaOC5Pd0xInYBpgP/nn9rfwT4ItmGsSfbA8u7/kkpLczX+7dku4DOI+ut+reI+LeI+FVEXB4R29e0sRzYbjPr05NTgJ/lPW6zgWMjYueU0kqy3Uft+frsBzwPuCr/dnwC8PGU0sqU0p3AN+tdYErpxpTS9pv56e0b6tbAEzX/d/29TR3zds2/0bz5RuSNZBv9rmnDyV6j70kpbah3vaQC7Ag8tpkw9LSU0lXAo2waZsaTfTY91MPdHiLrPe8rt+O4He/jOvRmKrBPXvcS4Oqa3uB7yA73+RvwJHAAWQDs8kmyvUoPNqiWhqpqIDy+9oUCvHsz804AXtwtQJ5E9g2mywM93K922u7A4q5/8g/1B4A9epm/NxvNExH/ERF3RXbA9TKyN21vG8sJwEjgoZr1+CrZt+WePE63sJJS+mJK6eCU0luANwO/InsNnU72bfMu8mNSctuwaQjqVf6t9U3A5fnybiY7wHZGPsts8g1JPu1H+QbmWcAINn586nk8B+opYNua/7v+Xl7HvF3zd5/3DWTHV82rmfZuoCOl9Nv+lyoNin8AO/W0u7QXHwE+TNar2OVxYAOwWw/z70b/DplwO/5M3W7HByCl9KuU0pqU0jKyYwb3JQt+kPVwjib7YrQV2XHjPwOIiEOAaWQBvpSqGgj74gFgXrdvGlunlGbWzNPTmUm105aQvZGBp4+v2IvsW8Tm2ui1zfw4kw+QvaF3yIPtE0B0n7dmPVYDO9Wsx7Yppd7OTu0A9u/phvxb6ulk33wmkYWVtWS7PtpqZj2AjXepbsnryULS/+bd8Q+TbWy7dhtcCzwrf2O188xuhkfJdqHsWdPWXvUuNCKOjI3P8O3+c2Qvd72DjXelHAz8PaX0jy3Nm+/CejabHrdyCtmxU7XP3zHA62sek8OBL0TEV+pdR2mQ3Ey2nTm+nplTStcC91LzpTw/VOJmNu696/Jm+nfsldvxbtyON0zimefrEODSvAd4NdkJJS+K7KTCo8h6Fv+aPyb/AZwQEX9oUl19ZiDcsquB/SPibRExMv95YdQcTFyH7wGvimzYkZHAWWRv6psGUNc2ZG+eR4EREfExNu6B+juwT0QMA0gpPUR21t4XImLbiBgWEc+OiKm9tH8t8IKIGNPDbf8POCf/Vncf8MKI2JrsBb+oZr6p1Bw/UYdTgEvIjns5JP95KdnJFwflG6vvA58j2610bb5u68m+iZ0TEeMiO1Gj7rPiUkq/TjVnKPbw8+te7vot4B2RjfO1PVlvx6W9zPtDYFJEnJA/ph8j2wD/qWuGyIaAeDmb7iZ5O9lGuesxmU92NvOH611HaTCklJ4ge21fEBHH5+/HkRFxXESc18vdPkwWimp9EDgl3425TUTsEBGfIjtGsccz+bfA7fim3I6TBfv88RmV/z8mejkrOiKeHxGHRMTw/LH6AtkXgrvyWW4BTo7sxJ+RZF90lqSUHgMuIusE6HpMLgR+Cryy3nVsNgPhFqSUlpMdtHsi2TfEh4HPknUL19vG3WRn051PtrvjNcBrUkprBlDaNWRn6v2ZbDfGKjbuXu86IPsfNd9ATiZ70d9JtivhCnreLUNK6e/ADWw8VAQRcTTZAdM/zOf7PdmL+gGyMPPf+XxjyI51qesYkMjGajoG+J+U0sM1Pwvy9ez6djmbrNv9+2nj45TeQ7ar5WHgMrKDv1fXtH9HRJxUTy31StlB3+cBvyDbJbIY+HhPy0wpPUp2fMynyR77F7PpcT9vA25OKf2l23KW1T4mZGdnPpl/+Eqlkh8H9z6yL0iPkm0b3kM+9EkP8/8G+H23aTeSfVC+gey4wcVkJ1AckVK6px81uR2v4XZ8IxOATp7ZW9NJzYk4kY2heXb+7y5kZw4/SRaa9wFenYdcyHr9VpEdS/go2WP3eoD8uMja7fhTwKr8s6EUYuM9U9IzIjsD75vAi1IfXygR8a/AXiml7t/8u26fQPamWwW8P6X0tYHW2639zwK7ppTqPkutVUXEx8k+gEcDW+XftCXJ7XiLiIhjyE74GQ1MTyn9YtBrMBBqKMh3L4wCbgdeSDYkxDtTSj8qsi5JUn3cjhfL655qqNiGbPfC7mTH3XyBbHgDSVJrcDteIHsIJUmSKs6TSiRJkirOQChJklRxTT+GcJux49P6DV1nZMfT05/+K3qYVvNfbHJj1DVf97k2mTs2mr2XtmvL62mpz8zU89Ly+Xpdx55r6mm+6LngTduL6HF69FJg9LLQTdvd9Nnr5aHp9thsPGXT23pfXg8VbnRb7/fp4V69/dtLQb2t28YzRK/rs9Hk6OXGnmqq60Ht+f3T87w167Tpi6rOZfX2gNdTQ3DbnXddk1I6tpd7a5C5TWYz69hzTT3N5zZ509uavk0exO3xpssc+tvkpgfC9RvWst9uk7MyYhjDul64EQyLYcTTb5bs/2du65o+rNv/vc23cXvDIp5+0Oqdb1hED/P21kZs3MZGt7HRfZ6ej+73YaMaNnfbM3VQZxvPzJfV8UxNEWy0Lhu10W053e9XO1/0etvG02vb7Gk9uv7uqb1N6u1+v2FbboPu6zVs88vq+jt/0japs+tvIjZZfu1tULOsHmt+ZoseXTUO6/Z/9iQ9fR+6PaYM6zZfTU1sto2AXurYeHr0sqwellOzzjUPJDse/ML+XHtWTeI22W1yy26Tm709zp6AmmVXa5vsLmNJkqSKMxBKkiRVnIFQkiSp4gyEkiRJFWcglCRJqjgDoSRJUsUZCCVJkirOQChJklRxBkJJkqSKMxBKkiRVnIFQkiSp4gyEkiRJFWcglCRJqjgDoSRJUsUZCCVJkirOQChJklRxkVJq7gIifg7s1NSFNMdOwGNFF9FArk+5DaX16b4uj6WUji2qGG1sELbJQ+m13F8+Bhkfh0zZHocet8lND4StKiLmp5SmFF1Ho7g+5TaU1mcorYv6zuffx6CLj0OmVR4HdxlLkiRVnIFQkiSp4gyEvbuo6AIazPUpt6G0PkNpXdR3Pv8+Bl18HDIt8Th4DKEkSVLF2UMoSZJUcZUIhBFxbETcHRH3RsQHe7h9dER8N7/9dxGxTz59n4jojIhb858La+4zOSJuz+/z5YiIFlifk2rW5daI2BARh+S3/TJvs+u2nUu0Pi+LiD9ExLqIeGO3206JiHvyn1Nqppf5+elxfSLikIi4OSLuiIiOiHhLzW2XRsR9Nc/PIYO0OgN9ftbX1HxVzfR989fmvflrddRgrIsap47Xxd4R8YuI+GP+ep5eRJ3NFBGXRMQjEbGwl9tPytf99oi4KSIOHuwam21Lj0E+z1H5NuCOiJg3mPUNlojYK3+935mv53t7mCfyz6N789fFC4qotVcppSH9AwwH/gJMBEYBtwEHdpvn3cCF+d8nAt/N/94HWNhLu78HXgIE8DPguLKvT7d5DgL+UvP/L4EpJX1+9gHagG8Bb6yZPh5YlP/eIf97hxZ4fnpbn/2B/fK/dwceArbP/7+0dt5WeH7y257qpd3vASfmf18IzBzsdfOn6a+Li7qeV+BA4P6i627C4/Ay4AWb+Zw4vGabdBzwu6JrLuAx2B64E9g7/3/nomtu0uOwG/CC/O9tgD/38J6Ynn8eRf75VKrXQxV6CF8E3JtSWpRSWgN8B3hdt3leB3wz//sK4JjN9ShFxG7Atiml36bsWf4WcHzDK+9Zo9anPb9v0ba4Piml+1NKHcCGbvd9JXBtSmlpSulx4Frg2LI/P72tT0rpzymle/K/lwCPAM8anLJ7NZDnp0f5a/FostcmZK/V4xtWsQZDPduhBGyb/70dsGQQ6xsUKaVfAUs3c/tN+bYJ4LfAnoNS2CDa0mMAzAB+kFL6az7/I4NS2CBLKT2UUvpD/vdy4C5gj26zvQ74Vsr8Ftg+/7wqhSoEwj2AB2r+f5BNn6Sn50kprQOeAHbMb9s33+UxLyKOrJn/wS202SwDXZ8ubwHmdJv2jbxb/6ODuIu1nvXp633L/vxsUUS8iKzn5S81kz+d72b4YkSMHliZdRvo+oyJiPkR8duIOD6ftiOwLH9t9qdNFa+e18U5wFsj4kFgLvCvg1Naab2DrHeoavYHdsgPS1oQEScXXVCzRXaY1qHA77rd1JDPh2apQiAciIfIurkPBd4HzI6Ibbdwn9KLiBcDK1NKtcd8nJRSOgg4Mv95WyHFqasH+jLg1JRSV6/bh4DnAS8k20X+nwWV11cTUjZC/wzgfyLi2UUXpEHTDlyaUtqTbFfZZRFRyc+ciHg5WSBslfdtI40AJgOvItur89GI2L/YkponIrYGrgT+PaX0ZNH19EUV3px/A/aq+X/PfFqP80TECLLdG/9IKa1OKf0DIKW0gKy3Zv98/tqu/57abJZ+r0/N7SfSrXcwpfS3/PdyYDbZLqHBUM/69PW+ZX9+epV/4fgp8OF8lwLw9O6IlFJaDXyD1nh+al9Xi8iOUz2U7LW4ff7a7HObKoV6XhfvIDtWlJTSzcAYWvO69gMSEW3AxcDruj5PKuZB4JqU0oqU0mPAr4Ahd3INQESMJAuDl6eUftDDLAPanjZbFQLhLcB++VmNo8jC0FXd5rkK6DpD9Y3ADSmlFBHPiojhABExEdgPWJRSegh4MiJeku9aPRn48WCsDANYH4D8G/qbqTl+MCJGRMRO+d8jgVcDvZ4x1mD1rE9vrgFeERE7RMQOwCvINjxlf356lM//Q7JjTK7odttu+e8gO96u9M9P/ryMzv/eCXgpcGf+WvwF2WsTstfqYD0/aox6Xhd/BY4BiIgDyALho4NaZcEiYm/gB8DbUkp/LrqegvwYOCL/nBkHvJjs+LohJd82fx24K6X0/3qZ7Srg5Pxs45cAT+SfV+VQ9Fktg/FDtrviz2Q9fB/Op50LvDb/ewzwfeBesrNTJ+bTTwDuAG4F/gC8pqbNKWQfyn8BvkI+yHeZ1ye/7Sjgt93a2wpYAHTk6/slYHiJ1ueFZN8yV5D1Lt1Rc9/T8vW8l2wXays8Pz2uD/BWYG3+euv6OSS/7Qbg9nydvg1s3QLrc3he823573fUtDkxf23em79WRw/W+vgzaK+LA4Hf5M//rcAriq65CY/BHLJDi9bm74F3AP8C/Et++8XA4zXv5/lF1zzYj0E+z/vJzjReSLYrtfC6m/A4HEF2IlVHzfM9vdvrIYAL8vfM7RQwssfmfrxSiSRJUsVVYZexJEmSNsNAKEmSVHEGQkmSpIozEEqSJFWcgVCSJKniDISSJEkVZyCUJEmqOAOhJElSxf1/hv/KhrFQRCwAAAAASUVORK5CYII=\n",
          "text/plain": "<Figure size 792x648 with 5 Axes>"
         },
         "metadata": {},
         "output_type": "display_data"
        }
       ]
      }
     },
     "b648762634cb4083bb3f99e1a5d601a5": {
      "model_module": "@jupyter-widgets/controls",
      "model_module_version": "1.5.0",
      "model_name": "DescriptionStyleModel",
      "state": {
       "description_width": ""
      }
     },
     "b7985553c6fc411c83e3a740ecf8b3da": {
      "model_module": "@jupyter-widgets/controls",
      "model_module_version": "1.5.0",
      "model_name": "HTMLMathModel",
      "state": {
       "layout": "IPY_MODEL_e9c68df26ead4e91a4a84b3fce98dfb7",
       "style": "IPY_MODEL_5324f20fd101482b8138d2808f53e6c5",
       "value": "<table><style>\ntable {\n    border-collapse: collapse;\n    width: auto;\n}\n\nth, td {\n    text-align: left;\n    padding: 8px;\n}\n\ntr:nth-child(even) {background-color: #f6f6f6;}\n</style><tr><th>Property</th><th>Value</th></tr><tr><td><font style='font-weight:bold'>n_qubits</font></td><td>5</td></tr><tr><td><font style='font-weight:bold'>quantum_volume</font></td><td>16</td></tr><tr><td><font style='font-weight:bold'>operational</font></td><td>True</td></tr><tr><td><font style='font-weight:bold'>status_msg</font></td><td>active</td></tr><tr><td><font style='font-weight:bold'>pending_jobs</font></td><td>4</td></tr><tr><td><font style='font-weight:bold'>backend_version</font></td><td>1.1.28</td></tr><tr><td><font style='font-weight:bold'>basis_gates</font></td><td>['id', 'rz', 'sx', 'x', 'cx', 'reset']</td></tr><tr><td><font style='font-weight:bold'>max_shots</font></td><td>20000</td></tr><tr><td><font style='font-weight:bold'>max_experiments</font></td><td>100</td></tr></table>"
      }
     },
     "b8535cc689b04746a054379d46419847": {
      "model_module": "@jupyter-widgets/controls",
      "model_module_version": "1.5.0",
      "model_name": "DescriptionStyleModel",
      "state": {
       "description_width": ""
      }
     },
     "b88fdaa43edf4f869014520646f773ec": {
      "model_module": "@jupyter-widgets/controls",
      "model_module_version": "1.5.0",
      "model_name": "DescriptionStyleModel",
      "state": {
       "description_width": ""
      }
     },
     "b9acbbd29aa14dab9cd17b5613215d2e": {
      "model_module": "@jupyter-widgets/controls",
      "model_module_version": "1.5.0",
      "model_name": "DescriptionStyleModel",
      "state": {
       "description_width": ""
      }
     },
     "b9e9416c034b44c5a59c64e25b027116": {
      "model_module": "@jupyter-widgets/controls",
      "model_module_version": "1.5.0",
      "model_name": "VBoxModel",
      "state": {
       "children": [
        "IPY_MODEL_ac7fdec904154182a935e4c008e853a3",
        "IPY_MODEL_6cf5fdddace0477b80fc94227f4ea669"
       ],
       "layout": "IPY_MODEL_3b3c8d116ad0469eb3e40b4064e5c2ad"
      }
     },
     "ba2e5e60b4de454f9087a3be8c1bfbfd": {
      "model_module": "@jupyter-widgets/base",
      "model_module_version": "1.2.0",
      "model_name": "LayoutModel",
      "state": {
       "grid_area": "bottom",
       "width": "auto"
      }
     },
     "ba42760e57a24c689c60cffbda6e5b18": {
      "model_module": "@jupyter-widgets/controls",
      "model_module_version": "1.5.0",
      "model_name": "GridBoxModel",
      "state": {
       "children": [
        "IPY_MODEL_bbf4c28490f648738379787cc13d662b",
        "IPY_MODEL_3b1573fe15ed4536a534b01732725294",
        "IPY_MODEL_cb0660634e694706860251d0355a8be6",
        "IPY_MODEL_e8fdef94f60b465f86e6221d87d78d17"
       ],
       "layout": "IPY_MODEL_d1f8d7ad13a04682993f12ee6085dfa8"
      }
     },
     "bb80908b22b74dbd99b528b4abc0d4b5": {
      "model_module": "@jupyter-widgets/controls",
      "model_module_version": "1.5.0",
      "model_name": "ButtonModel",
      "state": {
       "button_style": "primary",
       "description": "Clear",
       "layout": "IPY_MODEL_a6dbbb74d051492a9fc5fa4dbcce4869",
       "style": "IPY_MODEL_c3c88512117149af8ba99bc6423b4d79"
      }
     },
     "bbf4c28490f648738379787cc13d662b": {
      "model_module": "@jupyter-widgets/controls",
      "model_module_version": "1.5.0",
      "model_name": "HTMLModel",
      "state": {
       "layout": "IPY_MODEL_76bc926721ed4977ab7482718fef36c7",
       "style": "IPY_MODEL_41132e71a5d242d59366f080bc33a1c4",
       "value": "<div><font style='font-weight:bold'>last_update_date</font>: 2022-04-20 05:23:36+00:00</div>"
      }
     },
     "bea31247a1914d19b7ad9868a6265244": {
      "model_module": "@jupyter-widgets/controls",
      "model_module_version": "1.5.0",
      "model_name": "ButtonModel",
      "state": {
       "icon": "close",
       "layout": "IPY_MODEL_4e148b89c021452da24a007ccb710ea1",
       "style": "IPY_MODEL_4f394a74fa314cd883e9d3c143016c89"
      }
     },
     "beb298b8a0534aebb854b542aea1eff2": {
      "model_module": "@jupyter-widgets/base",
      "model_module_version": "1.2.0",
      "model_name": "LayoutModel",
      "state": {
       "overflow_y": "scroll"
      }
     },
     "bf3a68805b704834b86bafd038172195": {
      "model_module": "@jupyter-widgets/base",
      "model_module_version": "1.2.0",
      "model_name": "LayoutModel",
      "state": {
       "grid_gap": "0px 0px",
       "grid_template_areas": "\n                               \"left right right right\"\n                               \"bottom bottom bottom bottom\"\n                               ",
       "grid_template_columns": "31% 23% 23% 23%",
       "grid_template_rows": "auto auto"
      }
     },
     "c136eaa52d964852bc39c6674197f4a9": {
      "model_module": "@jupyter-widgets/controls",
      "model_module_version": "1.5.0",
      "model_name": "TabModel",
      "state": {
       "_titles": {
        "0": "Configuration",
        "1": "Qubit Properties",
        "2": "Multi-Qubit Gates",
        "3": "Error Map",
        "4": "Job History"
       },
       "children": [
        "IPY_MODEL_aa5b11c9ed09408eac2b57edeaa9b931",
        "IPY_MODEL_9bd66e2ee0af4821be42a2655ebdc268",
        "IPY_MODEL_5cce583ac16a4ea4a5858d949281d436",
        "IPY_MODEL_b2ea78c58ec3430c9c1b69fcecfac254",
        "IPY_MODEL_0d317022cc25443b81864c97bc1da4e8"
       ],
       "layout": "IPY_MODEL_beb298b8a0534aebb854b542aea1eff2",
       "selected_index": 3
      }
     },
     "c1c807ffda7b4bdab5030ef30fec37c9": {
      "model_module": "@jupyter-widgets/base",
      "model_module_version": "1.2.0",
      "model_name": "LayoutModel",
      "state": {
       "overflow_x": "scroll"
      }
     },
     "c3c88512117149af8ba99bc6423b4d79": {
      "model_module": "@jupyter-widgets/controls",
      "model_module_version": "1.5.0",
      "model_name": "ButtonStyleModel",
      "state": {}
     },
     "c635df7797cb48d392f37b129bb3a714": {
      "model_module": "@jupyter-widgets/controls",
      "model_module_version": "1.5.0",
      "model_name": "DescriptionStyleModel",
      "state": {
       "description_width": ""
      }
     },
     "c6be4e2462d144d2ab0b0ea66be068a9": {
      "model_module": "@jupyter-widgets/controls",
      "model_module_version": "1.5.0",
      "model_name": "DescriptionStyleModel",
      "state": {
       "description_width": ""
      }
     },
     "c9810e493a0341eeadf139b0c55fc74b": {
      "model_module": "@jupyter-widgets/controls",
      "model_module_version": "1.5.0",
      "model_name": "DescriptionStyleModel",
      "state": {
       "description_width": ""
      }
     },
     "c9dd5bdd34a44355905250edaf9e1484": {
      "model_module": "@jupyter-widgets/controls",
      "model_module_version": "1.5.0",
      "model_name": "HTMLModel",
      "state": {
       "layout": "IPY_MODEL_44fa78b095294294baa0e5ac7f3b4ebe",
       "style": "IPY_MODEL_a9a6fc1363fa478eb8580dafb7528604",
       "value": "job has successfully run"
      }
     },
     "ca9f9ad531fe4727850954a4a8e22929": {
      "model_module": "@jupyter-widgets/output",
      "model_module_version": "1.0.0",
      "model_name": "OutputModel",
      "state": {
       "layout": "IPY_MODEL_211b1e0222d94bc7a7a0f9c86dd2f874",
       "outputs": [
        {
         "data": {
          "image/png": "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\n",
          "text/plain": "<Figure size 360x360 with 1 Axes>"
         },
         "metadata": {},
         "output_type": "display_data"
        }
       ]
      }
     },
     "cb0660634e694706860251d0355a8be6": {
      "model_module": "@jupyter-widgets/controls",
      "model_module_version": "1.5.0",
      "model_name": "HTMLModel",
      "state": {
       "layout": "IPY_MODEL_d855fac6309c4e43a7ea3bcad2df6922",
       "style": "IPY_MODEL_a1588633414544d5a567378d82278d3c",
       "value": "<table><style>\ntable {\n    border-collapse: collapse;\n    width: auto;\n}\n\nth, td {\n    text-align: left;\n    padding: 8px;\n}\n\ntr:nth-child(even) {background-color: #f6f6f6;};\n</style><tr><th></th><th>Type</th><th>Gate error</th></tr><tr><td><font style='font-weight:bold'>cx1_2</font></td><td>cx</td><td>0.00654</td></tr><tr><td><font style='font-weight:bold'>cx0_1</font></td><td>cx</td><td>0.01794</td></tr><tr><td><font style='font-weight:bold'>cx1_0</font></td><td>cx</td><td>0.01794</td></tr></table>"
      }
     },
     "cb0db261460245e5ae996a66baebe965": {
      "model_module": "@jupyter-widgets/controls",
      "model_module_version": "1.5.0",
      "model_name": "HTMLModel",
      "state": {
       "layout": "IPY_MODEL_1d968b88d1f44e439021e7da105d71a0",
       "style": "IPY_MODEL_b05d17224fb347e299866243ab977d2b",
       "value": "job has successfully run"
      }
     },
     "cc8bcd9cd01b4339b300cc8fc38fb6c3": {
      "model_module": "@jupyter-widgets/output",
      "model_module_version": "1.0.0",
      "model_name": "OutputModel",
      "state": {
       "layout": "IPY_MODEL_e3faa4a4f0b94af2a1c25a59b1b152d0",
       "outputs": [
        {
         "data": {
          "image/png": "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\n",
          "text/plain": "<Figure size 360x360 with 1 Axes>"
         },
         "metadata": {},
         "output_type": "display_data"
        }
       ]
      }
     },
     "cd555a79a6d643668f2e9f7088b1206f": {
      "model_module": "@jupyter-widgets/base",
      "model_module_version": "1.2.0",
      "model_name": "LayoutModel",
      "state": {
       "max_height": "620px"
      }
     },
     "cee7cf55ca77496da80ab70ff5e166cf": {
      "model_module": "@jupyter-widgets/base",
      "model_module_version": "1.2.0",
      "model_name": "LayoutModel",
      "state": {
       "align_items": "center",
       "display": "flex-inline",
       "grid_area": "right",
       "max_height": "325px",
       "padding": "10px 10px 10px 10px",
       "width": "auto"
      }
     },
     "cf1acacc741442e3bdd80ca3b97605d6": {
      "model_module": "@jupyter-widgets/base",
      "model_module_version": "1.2.0",
      "model_name": "LayoutModel",
      "state": {
       "max_width": "700px",
       "min_width": "700px"
      }
     },
     "cfde617398744b7e838a71adf167718f": {
      "model_module": "@jupyter-widgets/controls",
      "model_module_version": "1.5.0",
      "model_name": "TabModel",
      "state": {
       "_titles": {
        "0": "Configuration",
        "1": "Qubit Properties",
        "2": "Multi-Qubit Gates",
        "3": "Error Map",
        "4": "Job History"
       },
       "children": [
        "IPY_MODEL_510fcd39233b4c239909d9055cd0f711",
        "IPY_MODEL_a69cb733fa084f10b01913a09651147c",
        "IPY_MODEL_b277de3a90484b6c932ebccd8bb6f4da",
        "IPY_MODEL_dbe0c511657d4b9a84041ef24420f585",
        "IPY_MODEL_2b8c9441bc7d42c0a9c318c63f42fadf"
       ],
       "layout": "IPY_MODEL_587539cd16aa43b4944d9674eaa46cf7"
      }
     },
     "d000d6400f3a4b6391a16ba443275aaa": {
      "model_module": "@jupyter-widgets/output",
      "model_module_version": "1.0.0",
      "model_name": "OutputModel",
      "state": {
       "layout": "IPY_MODEL_f82c3696ff384a4a8312dd7b526b7321",
       "outputs": [
        {
         "data": {
          "image/png": "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\n",
          "text/plain": "<Figure size 792x648 with 5 Axes>"
         },
         "metadata": {},
         "output_type": "display_data"
        }
       ]
      }
     },
     "d07b3a224a4948d18233c07132a8e64e": {
      "model_module": "@jupyter-widgets/base",
      "model_module_version": "1.2.0",
      "model_name": "LayoutModel",
      "state": {
       "width": "190px"
      }
     },
     "d1a3d4c2c82648dba7b77fd2bfe351c9": {
      "model_module": "@jupyter-widgets/controls",
      "model_module_version": "1.5.0",
      "model_name": "HTMLModel",
      "state": {
       "layout": "IPY_MODEL_95d74d09acd247759944e91ee0cbe614",
       "style": "IPY_MODEL_03fc7bb383834a5ca965879eadf1da0e",
       "value": "<div><font style='font-weight:bold'>last_update_date</font>: 2022-04-20 14:11:42+00:00</div>"
      }
     },
     "d1a6fc7140704d89866a691a4f720eb3": {
      "model_module": "@jupyter-widgets/base",
      "model_module_version": "1.2.0",
      "model_name": "LayoutModel",
      "state": {
       "grid_area": "middle"
      }
     },
     "d1f8d7ad13a04682993f12ee6085dfa8": {
      "model_module": "@jupyter-widgets/base",
      "model_module_version": "1.2.0",
      "model_name": "LayoutModel",
      "state": {
       "grid_gap": "0px 0px",
       "grid_template_areas": "\n                                                   \"top top top\"\n                                                   \"left middle right\"\n                                                   ",
       "grid_template_columns": "33% 33% 33%",
       "grid_template_rows": "auto auto"
      }
     },
     "d5f272dff49d4af7990eeca3bc3ed020": {
      "model_module": "@jupyter-widgets/base",
      "model_module_version": "1.2.0",
      "model_name": "LayoutModel",
      "state": {}
     },
     "d65005ce0996478081db36bf411057be": {
      "model_module": "@jupyter-widgets/controls",
      "model_module_version": "1.5.0",
      "model_name": "VBoxModel",
      "state": {
       "children": [
        "IPY_MODEL_2d8d35ec1c1c4737afd60773161e4764",
        "IPY_MODEL_9702cd0fc739483e8a2171c583fc40f0"
       ],
       "layout": "IPY_MODEL_75c16371289f4220aca2c86c502be023"
      }
     },
     "d71be057b17349f295f75b422e34817f": {
      "model_module": "@jupyter-widgets/controls",
      "model_module_version": "1.5.0",
      "model_name": "HTMLModel",
      "state": {
       "layout": "IPY_MODEL_34d3041c55df43a194a7e7bb3d971716",
       "style": "IPY_MODEL_b648762634cb4083bb3f99e1a5d601a5",
       "value": "ibmq_quito"
      }
     },
     "d795fb20025d4cbea3d0fe3d743ffe1c": {
      "model_module": "@jupyter-widgets/controls",
      "model_module_version": "1.5.0",
      "model_name": "HTMLModel",
      "state": {
       "layout": "IPY_MODEL_4b75f9d258b740769988372c88dd24e9",
       "style": "IPY_MODEL_58a2270732db4634962bf7df56427af2",
       "value": "<p style='font-family: IBM Plex Sans, Arial, Helvetica, sans-serif; font-size: 20px; font-weight: medium;'>Circuit Properties</p>"
      }
     },
     "d855fac6309c4e43a7ea3bcad2df6922": {
      "model_module": "@jupyter-widgets/base",
      "model_module_version": "1.2.0",
      "model_name": "LayoutModel",
      "state": {
       "grid_area": "middle"
      }
     },
     "d8cce049da97410e8820cca62f80df36": {
      "model_module": "@jupyter-widgets/base",
      "model_module_version": "1.2.0",
      "model_name": "LayoutModel",
      "state": {
       "margin": "0px 0px 0px 0px"
      }
     },
     "dbc556871a474df882e523c36d2f61b8": {
      "model_module": "@jupyter-widgets/controls",
      "model_module_version": "1.5.0",
      "model_name": "HTMLModel",
      "state": {
       "layout": "IPY_MODEL_d07b3a224a4948d18233c07132a8e64e",
       "style": "IPY_MODEL_50cb2dc7d8b7405d84b30c77422b4307",
       "value": "6260495172e2114d34b79ca1"
      }
     },
     "dbe0c511657d4b9a84041ef24420f585": {
      "model_module": "@jupyter-widgets/output",
      "model_module_version": "1.0.0",
      "model_name": "OutputModel",
      "state": {
       "layout": "IPY_MODEL_143cca4fa4fe4127bf5e478392f565ea",
       "outputs": [
        {
         "data": {
          "image/png": "iVBORw0KGgoAAAANSUhEUgAAAoUAAAIACAYAAAD0VBa/AAAAOXRFWHRTb2Z0d2FyZQBNYXRwbG90bGliIHZlcnNpb24zLjUuMSwgaHR0cHM6Ly9tYXRwbG90bGliLm9yZy/YYfK9AAAACXBIWXMAAAsTAAALEwEAmpwYAABL10lEQVR4nO3deZhcVZ3/8fc3e8IWIiKrCURAUDsCCcqiiaARkEXFhYCKMIgijgqoo6gIjI4j4rggooAMihBFcBQRJf6ARBGVBKGbXQgksm9NWJIOJOH8/ri3Q6XTna7qrup7q/v9ep5+0l1169zvTXXd/tQ5556KlBKSJEka2oYVXYAkSZKKZyiUJEmSoVCSJEmGQkmSJGEolCRJEoZCSZIkYSiUJEkShkJJkiRhKJQkSRKGQkmSJGEolCRJEoZCSZIkYSiUJEkShkJJkiRhKJQkSRKGQkmSJGEolCRJEoZCSZIkYSiUJEkShkJJkiRhKJQkSRKGQkmSJGEolCRJEoZCSZIkYSiUJEkShkJJkiRhKJQkSRKGQkmSJGEolCRJEoZCSZIkYSiUJEkShkJJkiRhKJQkSRKGQkmSJGEolCRJEoZCSZIkYSiUJEkShkJJkiRhKJQkSRKGQkmSJGEolCRJEoZCSZIkYSiUJEkShkJJkiRhKJQkSRKGQkmSJGEolCRJEoZCSZIkYSiUJEkShkJJkiRhKJQkSRKGQkmSJGEolCRJEoZCSZIkYSiUJEkShkJJkiRhKJQkSRKGQkmSJGEolCRJEoZCSZIkYSiUJEkShkJJkiRhKJQkSRKGQkmSJGEolCRJEoZCSZIkYSiUJEkShkJJkiRRslAYESkiXlV0HQMpImZHxDv78LjREXFnRLy8AWVJkqQhptdQGBGLIqIjIp6LiEci4oKIWH8giuuriJgbEUev4/5JeQB9rsvX+we4zhZgCvCb/OcpEXFbRDwRESdUbDcyIv4eEVt33pZSeh44H/j8QNYsSZIGp2p7Cg9MKa0PvB7YGfhCwyoaWONTSutXfP2iu40iYniXn0fUspN1bP9R4KKUUsp//jrwGbKg+MWI2Cy//QTgspTS/V0efzFwRESMrqUeSZKkrmoaPk4pPQJcRRYOAYiIN0bE9RGxJCJaI2JGxX1HRsQdEfFsRNwbER+tbC8iPhsRD0fEQxFxVJf7NoqIn0bE4xGxOCK+FBHD8vtOiYifVWzb2fM3IiK+BrwJ+H7e+/f9Wo4xb++CiDg7Iq6MiKXAW/Ie0/+IiDZgab6vg/KevSV57+SOFW2stX03u9oPmFfx8zbANSmlB4G7gVdGxETgEODbXR+cUnoAeAp4Y63HKEmSVKmmUBgRW5EFmXvyn7cEfgd8FZhA1st1WcU8t8eAA4ANgSOBb0fELvlj9823fxuwHfDWLrs7E9gI2BaYDnwob2OdUkpfBP4MfCLv/ftELcdY4TDga8AGwHX5bbOAdwDj87pmA58GXg5cCfw2IkZVtLF6+5TSysrGI2I9shB4V8XNtwIz8//nScBC4LvAZ1NKK3qo8w6ynkVJkqQ+qzYU/joingXuJwt6X8lv/wBwZUrpypTSiymlPwILgP0BUkq/SyktTJl5wByyXjyA9wH/m1K6NaW0FDilc2f5cO2hwBdSSs+mlBYB3wI+2I9j7c4TeS9f59eOFff9JqX0l/y4lue3fS+ldH9KqQN4P/C7lNIf88B2BjAW2KOijcrtuxqf//tsxW2fAY4FLgeOB/bM778vIn4TEfMi4r1d2nm2oi1JkqQ+qXZu3DtTSv8vIqaTzWPbBFgCTATeGxEHVmw7ErgWICL2IwuQ25MF0HHALfl2WwA3VjxuccX3m+TtLO5y/5ZV1lutTbr24FXoOn+v621bUFFfSunFiLifNWvsro1OS/J/NwCW520sJg/UETEO+Cswk6zX9BdkvbK3RsTVKaX2iscvQZIkqR9qnVM4D7iArFcMstBzYUppfMXXeiml/84vfrgs3/YVKaXxZEOskT/2YWDriuZfWfH9E8AKstBZef+D+fdLyQJmp81YU6L/umuj8raHqKgvIoLseB7sYfs1G8p6RxeSBebunAycm1J6FHgdsCCl9DTwAFC5bM+OQGvPhyFJktS7vqxT+B3gbRExBfgZcGBEvD0ihkfEmIiYkc+JGwWMBh4HVua9hjMr2rkE+HBE7JT3inUOSZNSWpXf/7WI2CC/2OKEfH8ANwNvjohXRsRGrH019KNkc/4a6RLgHRGxT0SMBE4Engeur6GNK8nmS64hInYCZgBn5zfdB+wdEa8gm3/5r3y7Lcnmcv6tj8cgSZIE9CEUppQeB34KnJwvkXIwcBJZ+Lsf+CwwLKX0LPBJsvD0FNmFG5dXtPN7soB5DdmFK9d02dW/k/UI3kt2ocfFZOvykc9d/AXQRjYEfUWXx34XeE9EPBUR31vH4Szpsk7hCevYtuv/w11kcyrPJOvZPJBs6Z4Xqm0DOAc4PO9lrHQW8Kk8HEMWej8J3Ab8V34VOGT/pz/J1yyUJEnqs3hpiTwVISIuBi5JKf26xseNJhs2fnNK6bFG1CZJkoYOQ6EkSZLK9dnHkiRJKoahUJIkSYZCSZIkVb94dX/UPGlx1qxZAMyePbvuxZRY1yuQJUmSBow9hZIkSRqQq49r3kF7e/YJbhMmTKh7MSVmT6EkSSpMKUPhEGUolCRJhSnl8PGll17KpZdeWnQZkiRJQ0YpQ+Fll13GZZddVnQZkiRJQ0YpQ6EkSZIGlqFQkiRJhkJJkiQZCiVJkkRJl6Tp6OgAYOzYsXUvpsRckkYqkZaJ0wPYFNgAGAOsAjqAJ9oWz3uuyNokqRFKGQqHKEOhVKCWidNfBkwHdgPeDLyO7KNAVwIvkr1GAxgNPAbcAPwJmA/8rW3xvFUFlC1JdVPKUHjhhRcC8MEPfrDuxZSYoVAaYHlv4BuAE4EDgBeA9al+as1yYAVZD+K3gfPaFs97ogGlSlLDlTIUzpo1C4DZs2fXvZgSMxRKAyQPg4cCpwJbAGPp/xzrjryNK4AvtC2ed3c/25OkAeWFJpKGlJaJ07cErgHOBbYD1qM+58KxZEPL7wRaWyZOP7Fl4vThdWhXkgaEoVDSkNAycXq0TJz+YeBOYE+yMNgIw8kC4qnAgpaJ07dr0H4kqa4MhZIGvZaJ00cBvwK+TzZncOQA7HY9sotVbm6ZOP2gAdifJPWLoVDSoNYycfpY4CpgJo3rHezJcGAc8POWidM/MMD7lqSalPJCkyHKC02kOmuZOH0k8Adgd7Ih3SJ1AB9qWzzv0oLrkKRu2VMoaTC7EHgjxQdCyGr4ScvE6dOLLkSSulPKnsJzzz0XgI985CN1L6bE7CmU6qhl4vT3ABcw8EPGvXkcmNy2eN6zRRciSZVK2VN4zTXXcM011xRdhqQm1TJx+qbAeZQvEEL2sXlnFl2EJHVVylAoSf10PuUYMu7OGOC9LROnv7XoQiSpkqFQ0qDSMnH6/sAMYFTBpazLOOCi/EIYSSoFQ6GkweZLlHPYuKuxwIFFFyFJnUoZCseMGcOYMWOKLkNSk2mZOH17YOei66jSBsB/FF2EJHUq5dXHQ5RXH0v91DJx+veBYxiYTyyphw5gl7bF8+4suhBJKmVPoSTVqmXi9DHAh2meQAgwAvhE0UVIEpQ0FJ555pmceaYrNkiqyRRgVdFF1GgksF/RRUgSlDQUXn/99Vx//fVFlyGpuUyluXoJO22d93JKUqFKGQolqQ/2os5rE37gqPdw6R/O56Z7r6Ft8TyO/fSH69l8pw6gpRENS1ItDIWSBos31rvBHV+3A08veYZHHnqs3k1XGgHs2sgdSFI1DIWSBout693gF4//Gv926Ke56/Z76t10pXFk8yElqVAjii6gO+PHjy+6BElNpGXi9BE095vcDYsuQJJKGQrPPvvsokuQ1FzGkF15XMpzWhXGFV2AJDXzO2tJ6rSC5j6fvVB0AZJUypPo6aefzumnn150GZKaxws096cCPVd0AZJUyqGWm266qegSJDWRtsXzUsvE6U8BE+rZ7rsPfQc7T30dO752ewDeMnMvtthqM66Zcx3XzrmuXrtZAdxbr8Ykqa9q6imMiAkR8X8RsTQiFkfEYY0qTJJqVPd3kztPfR0Hv3c/Nt/yFQC8+jXbcfB79+PVO72qnrtZBsyvZ4OS1Be19hSeRTZM8wrg9cDvIqI1pXRbvQuTpBrNA95MHT/V5Muf+W++/Jn/rldzPRkL3NjonUhSb6ruKYyI9YBDgC+nlJ5LKV0HXA58sFHFSVINFpD1ujWbZ9sWz3ui6CIkqZbh4+2BlSmlf1bc1gq8puuGEXFMRCyIiAXnnHNOzUVtttlmbLbZZjU/TtKQNp9saZpmc0PRBUgSQKSUqtsw4k3AL1NKm1Xc9hHg8JTSjHU8tLodqJmvnJRKoWXi9KuBvYuuowbPAoe2LZ53ZdGFSFItPYXPsfaq+xuSndQkqQy+SXMt79IBXFV0EZIEtYXCfwIjImK7itumAHW/yOS0007jtNNOq3ezkga/OTRPKOwAvt22eN6qoguRJKghFKaUlgK/Ak6LiPUiYk/gYODCehd1xx13cMcdd9S7WUmDXNvieS8C/0NzXHASwHlFFyFJnWr9RJOPky2f8BgwGzjW5WgklcxZwFNFF9GLpcA3vOpYUpnUFApTSu0ppXemlNZLKb0ypXRxowqTpL5oWzxvGfB+suHZMkrAA8DXii5EkiqV8rOPJak/2hbP+wtwPuUMhsuB97Ytnrei6EIkqVIpQ+E222zDNttsU3QZkprb54BSXcQRBCOHjby4bfG8W4quRZK6qnqdwn5wncLquE6hVCctE6cH8B3gkwWXsloQjB05hk3GTXg2Ivb9betF1xddkyRVKmVPoST1VVkD4egRo9hk3AQiYgPgDwdOOXyPouuSpEqlDIUnnXQSJ510UtFlSGoyVQTCFweumkzAi2NHjmHT9TYhYvWAgMFQUumUMhTed9993HfffUWXIamJVBEIvw38mWw5mIHwItARMey0TcZNuLUiEHYyGEoqlVKGQkmqRRWB8DTgROAt+TbPAY28+ncpcAuw882Lrj01IvYGbu1mO4OhpNIwFEpqalUGwlPaFs9L+df5wI7APLLlYV6oYznPkQXCU4Bd2xbPuwvgt60XPQ4YDCWVmqFQUtOqJRBW3ti2eN4DbYvnvQ1oAc4hC3J9/czkF/PH3w18Cti0bfG8M7p+prHBUFLZlTIU7rjjjuy4445FlyGpxPoaCCu1LZ53d9vief8ObJq38zvgEbKh5aeB5cMq5gIOHz6MsWNGATybb3M7cC5Z2NuhbfG88/NPVOmWwVBSmblOYXm4TqFUpXoEwl7aHw/sArz26A/u993lz7/AiBHDGT1qJOM3Wp9vfPcXLcAdbYvnrexL+wdOOfzlwDXAa7u5+1nAdQwlDThDYXkYCqUqNDoQdtXetmCtdia0TO3369VgKKlsSjl8fPzxx3P88ccXXYakkhnoQNhIDiVLKptShsJHHnmERx55pOgyJJXIYAqEnQyGksqklKFQkioNxkDYyWAoqSwMhZJKbTAHwk4GQ0llYCiUVFpDIRB2MhhKKlopQ+HOO+/MzjvvXHQZkgo0lAJhJ4OhpCK5JE15uCSNlCtTIGzUkjTr4nI1kopQyp5CSUNXmQJhUewxlFSEUobCY489lmOPPbboMiQNMAPhSwyGkgZaKUPhkiVLWLJkSdFlSBpABsK1GQwlDaRShkJJQ4uBsGcGQ0kDxVAoqVAGwt4ZDCUNBEOhpMIYCKtnMJTUaKUMhXvssQd77OG5TRrMDIS1MxhKaiTXKSwP1ynUkNFMgbCIdQp74zqGkhqhlD2FkgavZgqEZWWPoaRGKGUoPPLIIznyyCOLLkNSnRkI68dgKKneShkKly9fzvLly4suQ1IdGQjrz2AoqZ5KGQolDS4GwsYxGEqqF0OhpIYyEDaewVBSPRgKJTWMgXDgGAwl9VcpQ+Hee+/N3nvvXXQZkvrBQDjwDIaS+sN1CsvDdQo1aAymQFjGdQp74zqGkvqilD2FkprXYAqEzcoeQ0l9UcpQOGvWLGbNmlV0GZJqZCAsD4OhpFqVMhRKaj4GwvIxGEqqhaFQUr8ZCMvLYCipWoZCSf2SB8K/YSAsrSqC4TUHTjn8mIGtSlLZGAol9VkeCP8B7NbDJgbCkuglGI4GfmQwlIa2UobC/fffn/3337/oMiStQ0UgfH0PmxgIS6aXYAgGQ2lIc53C8ij1umdSpTwQ/gXYvYdNvgV8djAEwmZcp7A3+TqGNwNb9LDJ+37betEvB64iSWVQyp7Cjo4OOjo6ii5DUjcqLirpKRDOY5AEwsEq7zF8K/B8D5v82ItPpKGnlKHwqKOO4qijjiq6DEldVHGV8TzgLQbC8vtt60V3ADvTfTD0qmRpCCplKJRUPgbCwcdgKKmSoVBSr6oIhN/AQNiU8mD4GlzHUBryDIWS1qnKham/YCBsXr9tvWghsA8GQ2lIMxRK6pGfVDJ0/Lb1oscwGEpDWilD4SGHHMIhhxxSdBnSkGYgHHoMhtLQ5jqF5dHU655pcDEQvmQwrlPYmwOnHL4pcDXw2m7ufhbY97etF10/sFVJarRS9hS2t7fT3t5edBnSkGQglD2G0tBUylB43HHHcdxxxxVdhjTkGAjVyWAoDT01hcKI+ERELIiI5yPiggbVJKkABkJ1ZTCUhpZaewofAr4KnN+AWiQVxEConhgMpaGjplCYUvpVSunXwJONKUfSQDMQqjcGQ2loKOWcQkkDw0CoahkMpcGvIaEwIo7J5x4uOOecc2p+/OGHH87hhx/egMokdTIQqlYGQ2lw69M6hRHxVWCrlNKHq9jcPyjVGdTrnqlcDITVG4rrFPbGdQylwamUw8cPPfQQDz30UNFlSIOSgVD9ZY+hNDjVuiTNiIgYAwwHhkfEmIgYUe+iTjzxRE488cR6NysNeQZC1YvBUBp8au0p/BLQAXwe+ED+/ZfqXZSk+jMQqt4MhtLgUuuSNKeklKLL1ykNqk1SnRgI1SgGQ2nwKOWcQkn1YyBUoxkMpcHBUCgNYgZCDRSDodT8ShkKjz76aI4++uiiy5CamoFQA81gKDW3Pq1TWCP/4FRnSK97pvoyENaP6xTWznUMpeZUyp7Ce++9l3vvvbfoMqSmZCBU0ewxlJpTKUPhF7/4Rb74xS8WXYbUdAyEKguDodR8ShkKJdXOQKiyMRhKzcVQKA0CBkKVlcFQah6GQqnJGQhVdgZDqTkYCqUmZiBUszAYSuVXyiVprrvuOgD22muvuhdTYi5xoZoYCAeGS9LUl8vVSOVVylA4RPlHZhCaMmnGaGAcMBpYCSwHlrUumvtif9o1EA6M9rYFo4Dnu95uKOyfgQqGUybNGEn2+htD9reog+z1t6q/bUuDUSlD4e233w7ATjvtVPdiSsw/Mk1uyqQZ6wO7AbsC0/N/NyULg6vInuMRwArgTuBPwN+AG1oXza16YU4DYWO0ty0YC0wje97enH+/Od1Ps7kF+DPwV2A+8M8JLVP9/65BvYPhlEkzRgFTyZ6/NwFvALYke+11vv6G55vfA1wHXA8sAG5rXTTX509DXilD4axZswCYPXt23YspMUNhk5oyacZrgU8DhwEvAGOBUVU8NAHPkQXFu4FvAJe1Lpq7Vs9UJwNh/bW3LdiO7P/zSLLwMDr/6k3n8zcceAA4HZg9oWXqsgaVOujUIxhOmTRjIvBx4GP5TaPIegar8RzZufdJ4JvAT1sXzX2mysdKg46hsDwMhU1kyqQZARwMfAXYARhJFu7649n83x8B/926aO6TlXcaCOurvW3BTLLnbxeyYDeyn012BoyfAF+d0DL14X62NyT0NRhOmTRjL+BUYA+y3txq3oity9K8nZ8Dp7Uumruon+1JTcdQWB6GwiYxZdKMzcj+8O8JrNeAXTxPNvfpw62L5v4GDIT11N62YGOy4P0Osvlm9baC7Dn8OPAzh5V7V0swzKdpfAeYRWOev5VkPf6fBX7Y3/m/UjMxFJaHobDk8t7BQ8kCxWj63zPRm2XAVSmljwAnYyDst/a2BQcAP+Wli38aaSnZnNEP2mvYu2qC4b+efnAUWU/eRlQ/RNxXS4HbgENbF829r8H7kkrBdQqlKuRXMV4CnEu2plqjAyHAuJTS/sCDGAj7pb1twbD2tgU/An4BbEzjAyFkvchvBu5qb1swfQD219TWtY5hSmmDpzqevhb4A/AKGh8IIXv+dgVumTJpxoEDsD+pcKXsKbzxxhsB2HXXXeteTInZU1hSUybNGAv8juxqxkYMV/Wqh9epgbAK7W0LRpL1Lu1LQc8fWa/v+ya0TP1dQftvGl17DFNKtHcsYdmKZUWub9YBHNO6aO7PiitBarxShsIhylBYQnkP4VXAG8muKi5Ml9eqgbAK7W0LhpH18O5HcYGwUwdw8ISWqX8suI7S6wyGKaXXPrV8CUtf6CAV/6ekAziiddHcXxZdiNQopRw+vvHGG1f3FkpFyecQzibrISw0EAJErH7fcBYGwmp9n3IEQsh+h37d3rZgWtGFlF3nUPKS5U8/VpJACNnz95Mpk2bsU3QhUqOUMhSeccYZnHHGGUWXIR1GsUOO3UnAjIgY3uuWQ1x724L9gCMo1/M3DrgsXyhb6/Cvpx/c9tkXlm5YkkDYaSxwyZRJM8YXXYjUCKUMhVLRpkyasTlwNo1ZcqbPIrMN8Lmiaymz9rYFGwEXUq5A2OllwH8XXUSZTZk0YwzZsP9AXFBSq3Fk5wZp0DEUSl3kw8Y/pZx/kCD7o/SlKZNmDKnPgazRDyhZoK8wDvhIe9uC3YsupMS+Thaey2gMcNCUSTPeUXQhUr0ZCqW1vRvYnf5/wkUjjQYuzgOsKrS3LZgBvJPyhnrIhiF/3t62wGkAXUyZNGMK8FHK2cvbaRzZ/MIy/45JNTMUSmv7CuXtZeo0DHgV4EULa/sy5Q4UnTYG3l50ESX0eQZmHdD+Gg28t+gipHrq72e1NsSXv/zlokvQEDVl0ozXA5OLrqNKY4ETgfcXXUhZtLctmEj2WbjNYAOyuaFXFl1IWUyZNGMCWS9vM/Sgrg/8B9ncVWlQKGVP4U477cROOzldSoU4nubopYDs9XvQlEkzyjr3qggfp7nW/HxDe9uCbYouokSOBJrps4a3mTJpxi5FFyHVSylD4XXXXcd1111XdBkaYqZMmrEh2XBQKXvQe/AicFTRRZRB/sklH2NgPsKuXoYBxxVdRBnk82NPoDmG/juNJqtZGhRKGQrPOusszjrrrKLL0NCzO7Ci6CJqNA54V9FFlEQLzdVLCFmvtJ+rm3klML7oImo0HJhZdBFSvZQyFEoFmUoJPrmkD17nVchA9vw1w1y0rrZpb1vQLFMWGmkqsLLoIvpgI6dwaLBopmEyqdGmU+dlaEaNHsUJX/gYbz/gLYxbfxx33PpPvvXVH3DLzXfUczfDga2Bf9Wz0Sa0J3Ueehy31URGjlufYSNHkVJi5bKldDx8P6ueX17P3XQArwX+Uc9Gm9BuZBdv1NV/fuvzvHHPXRm/8UYsXdrB7bfcxfdOP4c7b7unXrvoAHYF5tSrQako9hRKL9m53g1+7uRPMOvD7+bJJ57i2jnXMWWX1/DDC89g/MYb1XM3K8j+KA11dV8MesyEl5NWreL5Je2kF1cxasON2GCb7SHq2jE7HJ8/gDfTgL9Jm2+5GQv+3sqvf/l7nn7qafacvhvf/tFX67mLcWS9nFLTs6dQAqZMmrEedZ7PNOFl43nne/dj1apVHHP4CbQ/uYRVK1dxwLtncugR7+KH37mgXrtan6yn6f/q1WCTmlTvBp+++3ZWdSwDYNjIUYzfsYVho0YxfMzY1bfXwXo04A1JE9qhEY0efeinV3//6tdsxy9+dy6v2PzljBgxnJUrV9VjFyPJejmlplfKUPi1r32t6BI09KxP1uNWt9fE5O0nMXLUSB68/2Han1wCwG233MUB757JDju9ql67gax3ZcN6Nths2tsWjKAB57M1gl/eO5hS4sUVdb8eqa5dx02qYZ8OcuiH3sW2203kDXtkq8f89NxL6hUIO21Qz8akopQyFG677bZFl6ChZwx1Xh/tZZtMAGDZ0o7Vt3Usy+aibfLyCfXcFZT/E1gabTTZRQqNOacNG8Z6W2fLCS5//FHSyrqHwqH+/EEDP1byrftPZ9obXw/AIw89xs033lrvXTTTMjpSj0o5p/Dqq6/m6quvLroMDS0rqfNyJk8+0Q7AuPVeuqC58/snHm+v564AXqh3g01mJQ06n8XwEWy47Q6MXG99lj/5OB2PPNCI3Qz15w+grl13lY4+9NNM22Emn/rIF3n5K17GGT84lc23fEU9d9FsS1lJ3SplKDzvvPM477zzii5DQ0sHdV7OZOHdi1nxwgo222JTJmyyMQCvacmmTf3zjrpd+djpuXo32GReoAFrFA4bOYoNX/VqRoxbj47HHmbZg4vrvYtOdZug2MTqHqxGjx7FsGHZn7kXnn+Bv8y7gWVLOxg5cgRbvXLzeu7K50+DQimHj6UCPE2d3yS1P/EUv7n0D7znsAM596L/4Z5/3sfMd8xg6XPL+PlP6npNSAfwcD0bbDYTWqam9rYFT1Pni4U2fNWrGTZyFKteeJ6IYYzbfGsAnl/SzqqOpfXazUpgUb0aa2JPUuclaV638058/btf4h83tPHM08+yy7QWNthwfdqfeIo7br27nrtaVM/GpKIYCiWgddHcVVMmzbgbqOuHbp9+6pmsXLmSme94C2+ZtCVtN93Ot772A55qf7qeu1kB3FjPBptUG9myJnUzbGS2pvTwUaMZ/vKXhhtXLl9Wz1C4FJhfr8aa2N+BifVs8PFHn2DxfQ/wxr12Zb31xvFU+xKuuuJazvneT3nu2bo9f88Bf61XY1KRDIXSS66nzqHw+edf4Osnf5evn/zdejbb1TigtZE7aBLzgD2o43mtvW1BvZpalzEY6gH+TPaRf3X7VKHF9z2wxpI0DeTzp0GhlHMKpYJcT3POzXuwddHcjt43G/Tmk/W6NZuOCS1THym6iBK4kea8YGMUcGfRRUj1UMqewm9961tFl6Ch6QYacLFCgyXgL0UXURLzaeBadw00IN2RTaCV5nz+7mxdNLcZP7NZWkspewq32GILtthii6LL0NBzO/BQ0UXUaCnwo6KLKIO8t63ZPj/4WeDsoosog9ZFc5cBvyd7o9MsngPOKroIqV5KGQqvuOIKrrjiiqLL0BDTumhuAr5Bcw0hP0k2F0uZ08mCVrNYCVxedBElcgbNNQVgGHBx0UVI9VLKUHjRRRdx0UUXFV2GhqbZlPR10Y2lwDfzMKvMFTTPQtDLgTMntEx16PElfwEeL7qIKq0ALmxdNLeZ3kRK69Qsf/ykAZEPYV1AcwSLYcCFRRdRJnnA+h7Z2o3NwKH/CvkbnNNpjt7ClUBDlxWQBpqhUFrbfwLPF11EL5YC/9m6aO4zRRdSQt+l/J8wsQz44YSWqc02h3UgXAA8QbnnFi4Hft26aO4dRRci1ZOhUOqiddHcR4CPUd7eiheB+8h6VNTFhJapTwOHU+5g+CTwhaKLKKPWRXOXA+8jC15ltRT4eNFFSPVmKJS6N5tsflMZ1017Hnhf66K5q4oupKwmtEy9Cvg/yhksOoD3TWiZWsbaSqF10dwbgB9SzmC/DPhg66K5S4ouRKq3SKnhPfQ176C9vR2ACRMm1L2YEmu29fEGvSmTZmwG3AVsWHQtFZYCX2tdNPfrRRdSdu1tCzYC7gY2oTyvr2XAORNaph5fdCFlN2XSjDHDYtiDL6YXy/SHoINs2PiwoguRGqGUPYUTJkwYaoFQJZQPI+9HeXorlgG/JVs2R73Ih5H3oTxLDHUA1wGfLbqQZvCaTbf7t8kTXjlheJTmz9Ry4Fbg34ouRGqU0rzaKl166aVceumlRZch0bpo7vXAuyg+GC4DriUbtnqx4FqaxoSWqbcAMyk+GHYANwEHuwRN7w7b7SPHAd8fNXwkkzbeimHFB8PlwD3AW/1ISQ1mhb/SunPZZZdx2WWXFV2GBEDrorlzgP3Jhm6LuCJyGdkCx+/047RqN6Fl6t+AGcDTZBfpDLRlwJ+AfZxH2LvOQNj585gRo9l2463JewyLeP11kH0E3x5e7a/BrupQGBGjI+LHEbE4Ip6NiJsjYr9GFieVReuiufOAPYB7GbhewxfJ/iB9DTjcQNh3E1qm3ghMA25j4K4qT2TP31nAAQbC3nUNhJ1GjxjFNhtv/Wvg7wzsqgAdZGuBzmhdNLeZPilH6pNaegpHAPcD04GNgC8Bl0TEpAbUJZVO66K5bcBOwHfI/lg0stdiGXAnMLV10dz/csi4/ya0TL0b2JlsHcoOGttruAxYDLx5QsvUzzlk3LueAmFu9ugRo95L9sbsM2TBsJH/px3Aw8C+rYvmfjRfJkca9Pp19XFEtAGnppTWNdZb8w5mzZoFwOzZs/tYWVMqy9WRqsKUSTN2Bn4ObAGsR/2ev2V5W18DvmHvYGO0ty14Ndln1m4PjKV+U2k68ra+B3x5QsvUsi+CXgq9BULgQxffcO7q18KUSTMmkfXg7QKMIuu0qIflZK+/C4ATWxfNLetapVJD9PlEGBGvIDuh3tbNfcdExIKIWHDOOef0pz6plFoXzb0JeDVwAPA7srUD+9qbkMguhHgQOAnYonXR3K8ZCBtnQsvUO4Fdya5Ovozs+evPtIBngceA04Ct895BA2EVag2EAK2L5i5qXTT3TcCeZOG+g/4NKz8LPEW2IPy2rYvmfsxAqKGoTz2FETES+D2wMKX00V42r3kHHR3ZxV1jx46tubYmZk9hE5syacbmwDHAO8nC4iqy4cn1Wfu5XU722cpjgUeBv5It1Htt/tmvGmDtbQs2IVtq5BDgNfnNK4ENWPv563wDMI7s49jmk32G8VUTWqa6oHgN+hIIuzNl0oyNgA8D7wdeBwwnW3h+fdbu/HiBLESOJbv46EbgPODy1kVzy7hYvTRgag6FETGM7J3ZhsDBKaXeXkT+kauOoXCQmDJpxjDgVWQ9Ua8lm4O7PlmYWEo21+xG4ObWRXOLXipFXbS3LQhgG7Ln73XAxmTP3wpe6tG9EbgpXwtRfVCvQNjVlEkzAtia7PmbAkwge/5eJOsRfBj4B/CP1kVz2/tQujRo1RQKIyKA84FJwP4ppWrWa6o5FF544YUAfPCDH6z1oc3MUChpSGhUIJTUP7XOKTwb2BE4sMpA2CdXXnklV155ZaOalyQVxEAolVct6xROBD4KvB54JCKey78Ob1RxkqTBw0AolVvVl/GnlBbjEKckqQ8MhFL5lfJj7iRJg4eBUGoOhkJJUsMYCKXm0a9PNKmSS9JUx6F5SYOKgVBqLvYUSpLqzkAoNZ9ShsJzzz2Xc889t+gyJEl9YCCUmlMpQ+E111zDNddcU3QZkqQaGQil5lXKUChJaj4GQqm5GQolSf1mIJSan6FQktQvBkJpcKj6E00G0pgxY4ouQZJUBQOhNHi4TmF5uE6hpKZiIJQGF4ePJUk1MxBKg08pQ+GZZ57JmWeeWXQZkqRuGAilwamUofD666/n+uuvL7oMSVIXBkJp8CplKJQklY+BUBrcDIWSpF4ZCKXBz1AoSVonA6E0NJRyncLx48cXXYIkCQOhNJS4TmF5uE6hpFIxEEpDi8PHkqS1GAiloaeUofD000/n9NNPL7oMSRqSDITS0FTKOYU33XRT0SVI0pBkIJSGrlL2FEqSBp6BUBraDIWSJAOhpHIOH0uSBs5hu33kIuCwHu42EEpDRClD4WabbVZ0CZI0JBy220d+Abyvh7sNhNIQ4jqF5eE6hZIGlIFQUiXnFErSEHTYbh/5KT0HwssxEEpDTil7Ck877TQATj755LoXU2L2FEoaEL1cVLIY2OHiG859fgBLklQCpZxTeMcddxRdgiQNSgZCST1x+FiShggDoaR1MRRK0hDQSyD8PwyE0pBnKJSkQa6KhanfZyCUVMo5hdtss03RJUjSoOAnlUiqVimvPh6ivPpYUl0ZCCXVwuFjSRqEDISSalXKUHjSSSdx0kknFV2GJDUlA6GkvijlnML77ruv6BIkqSkZCCX1VSl7CiVJtTMQSuoPQ6EkDQIGQkn9ZSiUpCZnIJRUD6WcU7jjjjsWXYIkNQUDoaR6cZ3C8nCdQkk1MRBKqieHjyWpCRkIJdVbKUPh8ccfz/HHH190GZJUSgZCSY1QyjmFjzzySNElSFIpGQglNUopewolSWszEEpqJEOhJDUBA6GkRjMUSlLJGQglDYRSzinceeediy5BkkrBQChpoLhOYXm4TqGkNRgIJQ0kh48lqYQMhJIGWilD4bHHHsuxxx5bdBmSVAgDoaQi1BQKI+JnEfFwRDwTEf+MiKMbUdSSJUtYsmRJI5qWpFIzEEoqSq09hV8HJqWUNgQOAr4aEbvWvyxJGnoMhJKKVFMoTCndllJ6vvPH/Gty3auSpCHGQCipaDXPKYyIH0TEMuBO4GHgyrpXJUlDiIFQUhnUHApTSh8HNgDeBPwKeL7rNhFxTEQsiIgF55xzTs1F7bHHHuyxxx41P06Smo2BUFJZ9Gudwoj4IXB7Sul769jMdQqr4zqF0hBjIJRUJv1dkmYEzimUNMhNmzxzxLTJM+u6hJeBUFLZVN1TGBGbAnsDVwAdwFvJho9npZQuX8dDa+4pPPLIIwH43//931of2szsKZQKNG3yzOHAq4Fdgd2Bvcje9I4me30GsApYAtwMzAMWAAvmL5zzeC37MhBKKqNaPvs4AccCPyTrYVwMfLqXQNgny5cvr3eTktStaZNnbgocA3wKGJPfvB7dv1EbDrwM2Ad4M7AMGDNt8swbgdOB381fOGedYc5AKKmsqg6FKaXHgekNrEWSBsy0yTOnAl8E9iV70zu2xiZGAhvl3+8BXAi8MG3yzO8B35u/cM6Srg8wEEoqs1J+zJ0kNcq0yTPHTZs880yy4d+DyHoHaw2E3dmArBfxC8DCaZNn7ld5p4FQUtnVMnwsSU1t2uSZewK/ADYGxjVoN2Pyr0unTZ75G+Dj271s4uEYCCWVXClD4d577110CZIGkWmTZwZwGnAi9ekVrMY44F1BHLR85QvrjRkxqrttDISSSqNf6xRWyXUKq+PVx1ID5EvJnA0cTnYByYALgi033JSxI8dU3mwglFQqzimUNGjlPYRnAx+goEAIkEg8+MxjdKxY/QFQBkJJpVPKUDhr1ixmzZpVdBmSmt9pZD2EjZo/WLUsGD5Kx4rlv8NAKKmESjmnUJL6a9rkmW9iYOcQ9iqR0gPPPLo9TheRVEKl7CmUpP6YNnnmOODnlCgQ5gLYAvhy0YVIUleGQkmD0bfIlp0po/WAz0ybPHNK0YVIUiVDoaRBZdrkmW8AjqB8vYSVxgC/yC+EkaRSKOWcwv3337/oEiQ1ry/x0mcYl1XnMPJbgGsKrkWSANcpLBN7DKR+mjZ55ubAfcDoomupQgKumr9wzn69bilJA6CUw8cdHR10dHQUXYak5vNRmueNaAAzpk2euUXRhUgSlDQUHnXUURx11FFFlyGpiUybPHME8EnKP3Tc1bFFFyBJUNJQKEl98FpKOk96HcYAhxRdhCSBoVDS4LErzXlOe1XeyylJhWrGE6gkdWcPGvT5xjMPnMH8hXOYv3AOJ3zpY/VufjmwU70blaRaGQolDRZ7NKLRTTfbhP849d9ZuaJhH1UcZL2cklSoUg5ZHHKIU2wk1WxyIxo95Zuf5YlHn+Sefy5i5gEzGrGL9YFdgP9tROOSVK1ShsL3vOc9RZcgqYlMmzxzODCy3u3OOvLdTNn1NRx5yCeZdeS76918pQmNbFySqlHK4eP29nba29uLLkNS8xgD1HV8d/L2kzjus0fxo+/8lH/ecW89m+5OQ+ZCSlItStlTeNxxxwEwe/bsgiuR1CRWUedPBXrL2/di5MgR7PKGFl4/7bVsv2M2Ov3mfXbn+eUvcNYZ59dzdyvq2Zgk9UUpQ6Ek1eh56jzyEREMGzaMPWfstsbtW75yc16384713BXA0no3KEm1KuXwsSTVYv7COQl4rp5tnvu9C5k2eebqrysumwPA7P/9FR87/LP13NUq4IF6NihJfWEolDRY3FJ0AX30HDC/6CIkyeFjSYPFPOANwPBGNH7q587g1M+d0YimRwM3NqJhSapFKUPh4YcfXnQJkprPfLK5eRsWXUiNVgAPFl2EJJUyFB5wwAFFlyCp+cwHRhVdRB/clM+JlKRClXJO4UMPPcRDDz1UdBmSmsj8hXMeAO4suo4aPQv8qOgiJAlKGgpPPPFETjzxxKLLkNR8vkEWtJrJZUUXIElQ0lAoSX30K6BZhmKfB344f+Gc54suRJLAUChpEJm/cM4LwNlkgavsEnBW0UVIUidDoaTB5lvA8qKL6EUHMHv+wjmLiy5EkjoZCiUNKvMXznkcOJpyf3Tcs8Cnii5CkipFSg2fflPzDq6++moA9tlnn7oXU2JRdAHSYDJt8szLgbdTvmVqlgEHzV845+qiC5GkSqUMhUOUoVCqo2mTZ24C3ANsVHQtFTqAn89fOOeooguRpK5KOXx87733cu+99xZdhqQmNn/hnCeA/ch65spgOdAGfLzoQiSpO6XsKZw1axYAs2fPrnsxJWZPodQA0ybPfBvwa2BcgWUsJ+u13GP+wjnNto6ipCGilD2FklQv8xfO+SPwDoq78KQDaMVAKKnkDIWSBr35C+fMBd4E/IuBHU5eBvwSmGEglFR2hkJJQ8L8hXNuAnYg+6zhjgbvbjnwOHDw/IVzjpi/cE7Z102UJEOhpKFj/sI5y+cvnHMCMANYTP0/J/kFskB4CfCq+Qvn/L86ty9JDVPKC02uu+46APbaa6+6F1NiXmgiDaBpk2cOB/YFPgfsRvYmua9rGj6X/3se8P35C+cs7H+FkjSwShkKhyhDoVSQaZNnbgN8AngXsBXZ8PIIur9i+UWyEDgi/7mN7POWL3GYWFIzK2UovP322wHYaaed6l5MiRkKpRKYNnnmGKAF2DX/2pgsHK4ku3BkMXADcCOwaP7COb7xlTQolDIUuk6hJEnSwPJCE0mSJBkKJUmSZCiUJEkShkJJkiRR0gtNbrzxRgB23XXXuhdTYl5oIkmSClPKUDhEGQolSVJhSjl8fOONN67uLZQkSVLjlbKn0HUKJUmSBlafegojYruIWB4RP6t3QZIkSRp4fR0+PguYX89CJEmSVJyaQ2FEHAosAa6uezWSJEkqRE2hMCI2BE4DTuhlu2MiYkFELDjnnHP6U58kSZIGQE0XmkTEd4GHUkrfiIhTgFellD7Qy8NqvtDk9ttvB2CnnXaq9aHNzAtNJElSYUZUu2FEvB54K7Bzw6rJDbEwKEmSVLiqQyEwA5gE/CsiANYHhkfETimlXepZ1HXXXQfAXnvtVc9mJUmS1IOqh48jYhywYcVNnyELicemlB5fx0Ndp7A6Dh9LkqTCVN1TmFJaBizr/DkingOW9xIIJUmS1ARqGT5eQ0rplDrWIUmSpAKV8rOPJUmSNLAMhZIkSaptncI+qnkH9957LwDbbrtt3YspMS80kSRJhSllKByiDIWSJKkwpRw+vvrqq7n6aj9aWZIkaaD0+erjRjrvvPMA2GeffQquRJIkaWgoZU+hJEmSBpahUJIkSYZCSZIkGQolSZJESZekeeihhwDYYost6l5MibkkjSRJKkwpQ+EQZSiUJEmFKeXw8RVXXMEVV1xRdBmSJElDRinXKbzooosAOOCAAwquRJIkaWgoZU+hJEmSBpahUJIkSYZCSZIkGQolSZJESZekaW9vB2DChAl1L6bEXJJGkiQVppShcIgyFEqSpMKUcvj40ksv5dJLLy26DEmSpCGjlKHwsssu47LLLiu6DEmSpCGjlKFQkiRJA8tQKEmSJEOhJEmSDIWSJEmipEvSdHR0ADB27Ni6F1NiLkkjSZIKU8pQOEQZCiVJUmFKOXx84YUXcuGFFxZdhiRJ0pBRylB45ZVXcuWVVxZdhiRJ0pBRylAoSZKkgWUolCRJkqFQkiRJhkJJkiQxAEvSRMQxKaVzBupxzWqoHa8kSSqXgegpPGaAH9eshtrxSpKkEnH4WJIkSYZCSZIkDUwo7Os8uaE2v26oHa8kSSqRgfjsY0mSJJWcw8eSJEkyFEqSJKmfoTAi9o2IuyLinoj4fDf3j46IX+T3/z0ido+IayPi9oh4NCIezx//9i6PmxERN0fEbRExr+L28yPisYi4tT91N9q66oyIEyMiRcQmPTz2DxGxJCKu6HL7Rfn/1a15+yMbVb8kSRp6+hwKI2I4cBawH7ATMCsiduqy2b8BT6WUXgV8G/g8cCLwHuAxYAnwCeAHeXtExHjgB8BBKaXXAO+taO8CYN++1jyALqCbOiNia2Am8K91PPabwAe7uf0i4NXA64CxwNH9rlKSJCnXn57C3YB7Ukr3ppReAH4OHNxlm4OBn+TfXwrsCdyU334xcHt+3z15ewCHAb9KKf0LIKX0WGdjKaU/Ae39qHlArKPObwOfA3q8uieldDXwbDe3X5lywA3AVnUqV5IkqV+hcEvg/oqfH8hv63ablNJK4GngZfntHcDOwN+7PHZ7YOOImBsRN0bEh/pRY2lExMHAgyml1n62M5KsJ/EPdSlMkiQJGFHQfkcCnwI+nVJ6JiIq7xsB7ArsQzZM+teI+FtK6Z8DX2Z9RMQ44CSyoeP++gHwp5TSn+vQliRJEtC/nsIHga0rft4qv63bbSJiBLARWW/hW4DbU0q/6uaxDwBXpZSWppSeAP4ETOlHnWUwGdgGaI2IRWTH+4+I2KyWRiLiK8DLgRPqXqEkSRrS+hMK5wPbRcQ2ETEKOBS4vMs2lwNH5N+/B7gG+DHwN2Cr/OrkbYDtyObJAfwG2CsiRuQ9bG8A7uhHnYVLKd2SUto0pTQppTSJLPjuklJ6pNo2IuJo4O3ArJTSiw0qVZIkDVF9DoX5HMFPAFeRhbZLUkq3RcRpEXFQvtmPgZdFxD1kvVuXks2Hez2wKfAM8Gfgd8BH8nbvIJsv10YWFM9LKd0KEBGzgb8CO0TEAxHxb32tv5FqqTMipkbEeRU//xn4JbBP/tjO5Xp+CLyCbDj95og4uYGHIEmShhg/5k6SJEl+ookkSZIMhZIkScJQKEmSJAyFkiRJwlAoSZIkDIWSJEnCUChJkiQMhZIkScJQKEmSJAyFkiRJwlAoSZIkDIWSJEnCUChJkiQMhZIkScJQKEmSJAyFkiRJwlAoSZIkDIVah4jYKSIWRET04bH/HhHfWMf9kyIiRcRzEXFM/yod2iLirfn/44sR8dai65FUHp7Hm0NEjM7/H1dExFeLqmPIhcKIWNT1D2dEfDgiriuqpkaIiFMi4mf9bOY/gTNSSilv8zsR8VRE/DUitqrY12ER8b0ujz0XODwiNu1lH+NTSud0qX2bPOCc3c/6Gy4ijo+IRyLimYg4PyJG97Bd54n5qfzr/0XEThX3fzYibo2IZyPivoj4bJfHXxsRj+f7aY2IgzvvSyn9v5TS+sC/GnagUg3yc8KC/I/cwxHx+4jYK7/vlDxIvK9i+xH5bZMqbtsjIq7JXxNPR8RvO18zEXF43vZzEdGRny86f35uwA+4QTyPN15EHBERN+bn1gci4vSIGLGO7feOiH/k299bGYYjYvOIuDwiHur6+5zff0ZE3J3/Tt8ZER/qvC+l9Hx+Hr+oEcdZrSEXChstIoZ3+bnHX64eHt/r9rW22RcRsTnwFuDX+c+7AbsCmwHXAZ/Pb98I+CzwpcrHp5SWA78HPkTtPgQ8Bby/p5BVBhHxdrL/h32AicC2wKk9bP4Q8B5gArAJcDnw88rmyI57Y2Bf4BMRcWjF/Z8CNk8pbQgcA/wsf46kUomIE4DvAP8FvAJ4JfAD4OCKzdqBU7ueLyva2B2YA/wG2ALYBmgF/hIR26aULkoprZ//Ed0PeKjz5/y2/h6D53GGxnkcGAd8muy8/Aay8/lnutswIkYC/wf8CNgIeD/wPxExJd/kReAPwCE97GspcGD+2COA70bEHnU5ijoxFFYhIl4dEX+MiPaIuKvLO9wLIuLsiLgyIpYCb4msN/I/IqINWJq/Cz4oIm6LiCURMTcidqxoY63tu6khRcRxEXE3cHd+23cj4v78HcuNEfGm/PZ9gZPIXozPRURrfvtGEfHj/J37gxHx1Z5OysDbgH/kJwXITsrXpZSeB64mC0AAXwO+mVJ6pps25gLvqOo/+aXj7AxHXwJWkL2AiIj3R8SCLtseHxGX59+/LO9JeCYi5ufH1uje3yOAH6eUbkspPUX2jvzD3W2YUlqSUlqUv1sPYBXwqor7T08p/SOltDKldBfZH8M9K+5vSymt7PwRGAls3YiDkvoqDxenAcellH6VUlqaUlqRUvptSqmy9/sPwAvAB3po6nTgpyml76aUnk0ptaeUvgT8DTilj7V5Hvc8vpaU0tkppT+nlF5IKT1I1lO3Zw+bTwA2BC5MmfnAHcBOeVuPppR+AMzvYV9fSSndmVJ6MaX0d+DPwO71Pqb+MBT2IiLWA/4IXAxsChwK/CAqhv6Aw8heVBuQvfsCmEX2QhpP9sKbTfZu5OXAlcBvI2JURRurt6/449/VO8neyXTuez7werJf1IuBX0bEmJTSH8jepf8if+fc+S7mAmAlWRjZGZgJHN3Dvl4H3FXx823AmyJiLNk7qdsiYiqwQ0rp4h7auAOY0sN9PdkL2IqsF+0SsuAF8Ftgh4jYrmLbw8iOG+Assndhm+WPOYIqRcRe+Um+p6+9enjoa8h6Lzq1Aq+IiJetY19LgOXAmWTPUXfbBPAmsv/zytuviIjlwN/JTtQL1n60VKjdgTFkvSnrkoAvA1+JrPdltYgYB+wB/LKbx11CFnRq4nl8Nc/jvXszXc69nVJKj5L9DhwZEcMj69GeyEu/L1XLn4NpPe2rMCmlIfUFLAKeA5ZUfC0je/fU3fbvB/7c5bYfAV/Jv7+A7B1t130cVfHzl4FLKn4eBjwIzOhu+x7qSMDevWzzFDAl//4U4GcV970CeB4YW3HbLODaHto6F/jvLrcdTxZ8fkF2Urwe2BH4JPAnsndY4yu23w5Y1UP7k/JjGtHl9vOAX+ff7072LnPT/OefASdXtP0sWdf/8Hy7HSra+WpPz2kdf5cWAvtW/DwyP6ZJvTxuPeDjwDt6uP/U/P95dDf3jSQbLjuhh9/ttzbymP3ya11fwOHAI71ss/rcRPYG51hgROdrhyxMJODV3Tx2X2BFl9tmAA/0sk/P4y/d5nm85//7o4AHgE3Wsc2BwKNkwXwl8JFutln9+7yOdn5C1mMeXW6/APjqQB1z16+h2lP4zpTS+M4vsj/QPZkIvKHyHQfZiW+zim3u7+ZxlbdtASzu/CGl9GJ+/5a9tLGuNomIz0TEHZFNwl5CNk9hk3Ucx0jg4Yrj+BHZu+buPEX2jnm1lNK3U0pTUkrvB95HdgIZRjbHbR+yd5Sfr3jIBsDTVRxX5/GMBd5LPtE2pfRXsosnDss3uZjsBEh+269TSsvITmwjWPP/p5r/z/56jmwooVPn98+u60EppaXAD4GfRpcJ3BHxCbJhl3ekbIin62NXpJR+D8yMiIP6U7zUAE8Cm3Q3dNqDLwFfJOtd7PQU2dys7ubMbg480Ye6PI+/VLfn8W5ExDuBrwP7pZS6/R2LiFeT9X5+CBhFNlr0uYiodXj9m8BrgfelPAmWxVANhbW4H5hXGSJT1pV/bMU23T2plbc9RPZiBlYPD25N9i5zXW302GY+7+RzZC/qjfNw+zTZfLXu2ruf7B3mJhXHsWFK6TU97KsN2L67OyLiFWQnkNPIfrHbUkoryIZBWio23ZE1h1d78y6yYPWDyK7ofYTshNs5hPBH4OUR8Xqyk0rnkMPjZO/Ytqpoq+r5dhHxpqi4crGbrzf18NDbWHNYZQrwaErpySp2O4zs3fHqPygRcRT5hSsppQd6efwIYHIV+5EG0l/JzjPvrGbjlNIfgXuoeGOev2n6K1mw6Op9ZHPhauV5vAvP42s8dl+yXtUDU0q3rGM3rwX+mVK6KmXzAu8Cfkc2elNtnafm289M3c/hLJShsHdXANtHxAcjYmT+NS0qJhhX4RLgHRGxTz5/5kSyF/b1/ahrA7IX0OPAiIg4mTV7rR4FJkXEMICU0sNkV/N9KyI2jIhhETE5Iqb30P4fgV0iYkw39/0PcEr+7u4+YFpErE82jHNvxXbTya5cq9YRwPlk82Ben3/tCUyJiNflJ6xfAt8km3/zx/zYVgG/Ak6JiHH5u7mqr5ZL2STj9dfx9eceHvpT4N8iW25mPFmvxwXdbRgRb4uInfN5KBuS/R8+RfaunIg4nGz+0NtSSvd2eeyrI2K/iBib//59gGzey7xqj1EaCCmlp4GTgbMi4p3563Fk/vt7eg8P+yJZMKr0eeCIiPhkRGwQERtHtnbb7vR8hf+6eB5fm+dxsiVmyHo1D0kp3dDLbm4CtotsWZqIiMnAAWThu7O9MUDn1dajK//vI+ILZL2jb62y82DAGQp7kVJ6lmwi76Fk7xQfAb7BS096NW3cRXaV3ZlkQx8Hkr0jeaEfpV1FNh/hn2RDGstZs6u9c5L2kxHxj/z7zi7v28kCyaV0P0RDyibUXsOay0h0voDGp5T+L9/uBrJ3SveTLX3w3/l2Y4D9yeZN9CoitiQbuvhOSumRiq8b8+PsfJd5MfBW4JdpzYncnyAbdnkEuJBsMvDzFe3flgevuknZRPDTgWvJhkcWA1/pYZ/j85qeJpuLOJlsPmLnVYFfBV4GzK94Z/vDzqbI5hY9RvbH41PA+1NKnc+rVBoppW8BJ5C9SXqc7NzwCfJlUbrZ/i/ADV1uuw54O/Bu4GGy19bOwF4ppbv7UJPn8Qqex9fw5XyfV1ace1eH4MjW2DwJIKW0kGze4feAZ8jemF9GNoeyUwfZ1CKAO/OfO/0X2RJN91Ts66Q6H0+/RMmGs1UikV2Z9xNgt1rnPUTEvwNbp5S69gB03j+R7Kq45cBnU0rn9rfeLu1/A9gspVT11WvNKiL2ITsxjQb2TyldW3BJkkrC83hziGwtx0fJ5oyenlLqS494/+swFGowyIcaRgG3kF3mfyVwdErp10XWJUmqjufx4jV8RXVpgGxANtSwBdm7rW+RLQAtSWoOnscLZk+hJEmSvNBEkiRJhkJJkiQxAHMKNxg7Ia16cUX+U6y+ffV30c1tFT/FWndGVdt13WqtrWONzXtou7K87vb60kbd7y3frsdj7L6m7raL7gteu72Ibm+PHgqMHna6drtrP3s9/Nd0+b9Z85a17+t5f91UuMZ9PT+mm0f19GMPBfV0bGtuED0ezxo3Rw93dldTVf+p3b9+ut+24pjW/qWqcl89/YdXU0PQevsdV6WU9u3h0RpgnpNZxzF2X1N323lOXvu+hp+TB/B8vPY+h8Y5ueGhcNWLK9hu812zUmIYwzp/eSMYFsOI1S+Y7OeX7uu8fViXn3vabs32hkWs/o+rdrthEd1s21MbsWYba9zHGo9ZvR1dH8MaNazrvpfqoMo2Xtouq+OlmiJY41jWaKPLfro+rnK76PG+NW+vbLO74+j8vrv21qq36+OG9d4GXY9r2Lr31fl9/qStVWfn90Sstf/K+6BiX93W/NJZPTprHNbl5+xJWv0YuvyfMqzLdhU1sc42AnqoY83bo4d9dbOfimOu+I/kZVOm9fSRXSqA52TPyU17Tm70+Th7Air2PfTOyQ4fS5IkyVAoSZIkQ6EkSZIwFEqSJAlDoSRJkjAUSpIkCUOhJEmSMBRKkiQJQ6EkSZIwFEqSJAlDoSRJkjAUSpIkCUOhJEmSMBRKkiQJQ6EkSZIwFEqSJAmIlFJjdxDxB2CThu6k8TYBnii6iDrzmMpvsBzPEymlfYsuQpmSnpMHy+96JY+pOQzFY+rxnNzwUDgYRMSClNLUouuoJ4+p/Abb8Ug9GYy/6x5Tc/CY1uTwsSRJkgyFkiRJMhRW65yiC2gAj6n8BtvxSD0ZjL/rHlNz8JgqOKdQkiRJ9hRKkiTJULiGiNg3Iu6KiHsi4vPd3P+xiLglIm6OiOsiYqci6qxFb8eUb/O+iLg9Im6LiIsHusZaVPEcTYyIqyOiLSLmRsRWRdRZrYg4PyIei4hbe7j/8PxYbomI6yNiykDXKNVDFb/rMyLi6fz8enNEnDzQNdYqIsZExA0R0ZqfP0/tZpvREfGL/Jz194iYVECpNYmI4RFxU0Rc0c19H46Ixyuep6OLqLFWETE+Ii6NiDsj4o6I2L3L/RER38ufp7aI2KWoWqsRETtUPAc3R8QzEfHpLtvU/ppKKfmVDaEPBxYC2wKjgFZgpy7bbFjx/UHAH4quuw7HtB1wE7Bx/vOmRdfdz+P5JXBE/v3ewIVF193LMb0Z2AW4tYf796h4bvYD/l50zX751ZevKn7XZwBXFF1njccUwPr59yOBvwNv7LLNx4Ef5t8fCvyi6LqrOK4TgIu7ez6ADwPfL7rGPhzTT4Cj8+9HAeO73L8/8Pv8OX1jM51r87+NjwATu9xe82vKnsKX7Abck1K6N6X0AvBz4ODKDVJKz1T8uB5Q9gmZvR4T8BHgrJTSUwAppccGuMZaVHM8OwHX5N9f2839pZJS+hPQvo77r+98boC/AaXu+ZR60tvvejNKmefyH0fmX13/LhxMFkgALgX2iYgYoBJrlo+uvAM4r+ha6iUiNiJ7U/JjgJTSCymlJV02Oxj4af6c/g0YHxGbD2ylfbYPsDCltLi/DRkKX7IlcH/Fzw/kt60hIo6LiIXA6cAnB6i2vqrmmLYHto+Iv0TE3yKizJ88Uc3xtALvzr9/F7BBRLxsAGobCP9G9k5WGqx2z4difx8Rrym6mGrkQ603A48Bf0wp/b3LJqvPWymllcDTQJnPSd8BPge8uI5tDsmHWC+NiK0Hpqx+2QZ4HPjffFj8vIhYr8s2VWWAkjoUmN3DfTW9pgyFNUopnZVSmgz8B/ClouupgxFkQ8gzgFnAuRExvsiC+ukzwPSIuAmYDjwIrCq2pP6LiLeQhcL/KLoWqUH+QTb8NQU4E/h1seVUJ6W0KqX0erJe/N0i4rUFl9RnEXEA8FhK6cZ1bPZbYFJKqQX4Iy/1gpbZCLKpC2enlHYGlgLdzrFvNhEximw62y+7ubvm15Sh8CUPApXveLbKb+vJz4F3NrKgOqjmmB4ALk8prUgp3Qf8kywkllGvx5NSeiil9O78hf/F/LYlA1ZhA0REC9lQzsEppSeLrkdqhJTSM51DsSmlK4GREVG2z2juUX6euRboOtqy+rwVESOAjYCyvo73BA6KiEVkf+P2joifVW6QUnoypfR8/uN5wK4DW2KfPAA8UNGLeylZSKxUawYoi/2Af6SUHu16R19eU4bCl8wHtouIbfLkfShweeUGEVEZlt4B3D2A9fVFr8dE9s5hBkD+y7I9cO8A1liLap6jTSKi8/f6C8D5A1xjXUXEK4FfAR9MKf2z6HqkRomIzTrn2kXEbmR/n8oangCIiJd3jqxExFjgbcCdXTa7HDgi//49wDUpvwqgbFJKX0gpbZVSmkR2fr0mpfSBym26zLM7CLhjAEvsk5TSI8D9EbFDftM+wO1dNrsc+FB+FfIbgadTSg8PZJ19NIseho778poaUffymlRKaWVEfAK4iuxKnvNTSrdFxGnAgpTS5cAnIuKtwArgKV56oZdSlcd0FTAzIm4nG2b9bFl7o6o8nhnA1yMiAX8Cjius4CpExGyymjeJiAeAr5BNViel9EPgZLL5Rz/IX9sr0yD78HYNDVX8rr8HODYiVgIdwKFlDU8VNgd+EhHDyf7gXpJSuqLLOenHwIURcQ/ZhTaHFldu33Q5nk9GxEHASrLj+XCRtdXg34GL8g6Fe4EjI+JjsPr370qyK5DvAZYBRxZVaLXyeZFvAz5acVvlMdX8mvITTSRJkuTwsSRJkgyFkiRJwlAoSZIkDIWSJEnCUChJkiQMhZIkScJQKEmSJAyFkiRJAv4/PjmKCKNyxXMAAAAASUVORK5CYII=\n",
          "text/plain": "<Figure size 792x648 with 5 Axes>"
         },
         "metadata": {},
         "output_type": "display_data"
        }
       ]
      }
     },
     "dd1921a9ecae485283b540a530e86a14": {
      "model_module": "@jupyter-widgets/controls",
      "model_module_version": "1.5.0",
      "model_name": "VBoxModel",
      "state": {
       "children": [
        "IPY_MODEL_3eecc20478bc4860aae6d61a74e2cb78",
        "IPY_MODEL_cfde617398744b7e838a71adf167718f"
       ],
       "layout": "IPY_MODEL_36cca078525e402a929de02f82b3fc73"
      }
     },
     "dd39d2b255864fa1b6ecd931d9663640": {
      "model_module": "@jupyter-widgets/controls",
      "model_module_version": "1.5.0",
      "model_name": "DescriptionStyleModel",
      "state": {
       "description_width": ""
      }
     },
     "dd6675bd723842b18140910fe91b9bfb": {
      "model_module": "@jupyter-widgets/controls",
      "model_module_version": "1.5.0",
      "model_name": "DescriptionStyleModel",
      "state": {
       "description_width": ""
      }
     },
     "df42ad549a0e49399d17159b300923f2": {
      "model_module": "@jupyter-widgets/controls",
      "model_module_version": "1.5.0",
      "model_name": "DescriptionStyleModel",
      "state": {
       "description_width": ""
      }
     },
     "df9ddc37660f4439b01449f0d68dd430": {
      "model_module": "@jupyter-widgets/controls",
      "model_module_version": "1.5.0",
      "model_name": "HTMLMathModel",
      "state": {
       "layout": "IPY_MODEL_ba2e5e60b4de454f9087a3be8c1bfbfd",
       "style": "IPY_MODEL_28fbac87d0a549d695bf7d77ba567fc8",
       "value": "<table><style>\ntable {\n    border-collapse: collapse;\n    width: auto;\n}\n\nth, td {\n    text-align: left;\n    padding: 8px;\n}\n\ntr:nth-child(even) {background-color: #f6f6f6;}\n</style><tr><th></th><th></th></tr><tr><td>pulse_num_qubits</td><td>3</td></tr><tr><td>conditional</td><td>False</td></tr><tr><td>supported_features</td><td>['qobj']</td></tr><tr><td>n_registers</td><td>1</td></tr><tr><td>dynamic_reprate_enabled</td><td>True</td></tr><tr><td>meas_kernels</td><td>['hw_boxcar']</td></tr><tr><td>u_channel_lo</td><td>[[{'q': 1, 'scale': (1+0j)}], [{'q': 0, 'scale': (1+0j)}], [{'q': 2, 'scale': (1+0j)}], [{'q': 3, 'scale': (1+0j)}], [{'q': 1, 'scale': (1+0j)}], [{'q': 1, 'scale': (1+0j)}], [{'q': 4, 'scale': (1+0j)}], [{'q': 3, 'scale': (1+0j)}]]</td></tr><tr><td>processor_type</td><td>{'family': 'Falcon', 'revision': 4, 'segment': 'T'}</td></tr><tr><td>pulse_num_channels</td><td>9</td></tr><tr><td>dtm</td><td>0.2222222222222222</td></tr><tr><td>parametric_pulses</td><td>['gaussian', 'gaussian_square', 'drag', 'constant']</td></tr><tr><td>multi_meas_enabled</td><td>True</td></tr><tr><td>default_rep_delay</td><td>250.0</td></tr><tr><td>coupling_map</td><td>[[0, 1], [1, 0], [1, 2], [1, 3], [2, 1], [3, 1], [3, 4], [4, 3]]</td></tr><tr><td>online_date</td><td>2021-01-08 05:00:00+00:00</td></tr><tr><td>live_data</td><td>False</td></tr><tr><td>meas_levels</td><td>[1, 2]</td></tr><tr><td>supported_instructions</td><td>['shiftf', 'rz', 'cx', 'delay', 'id', 'u3', 'x', 'u2', 'sx', 'play', 'measure', 'setf', 'u1', 'acquire', 'reset']</td></tr><tr><td>sample_name</td><td>family: Falcon, revision: 4, segment: T</td></tr><tr><td>rep_times</td><td>[1000.0]</td></tr><tr><td>dt</td><td>0.2222222222222222</td></tr><tr><td>rep_delay_range</td><td>[0.0, 500.0]</td></tr><tr><td>description</td><td>5 qubit device Quito</td></tr><tr><td>uchannels_enabled</td><td>True</td></tr><tr><td>measure_esp_enabled</td><td>False</td></tr><tr><td>allow_object_storage</td><td>True</td></tr><tr><td>timing_constraints</td><td>{'acquire_alignment': 16, 'granularity': 16, 'min_length': 64, 'pulse_alignment': 1}</td></tr><tr><td>hamiltonian</td><td>$$\\begin{align} \\mathcal{H}/\\hbar = & \\sum_{i=0}^{4}\\left(\\frac{\\omega_{q,i}}{2}(\\mathbb{I}-\\sigma_i^{z})+\\frac{\\Delta_{i}}{2}(O_i^2-O_i)+\\Omega_{d,i}D_i(t)\\sigma_i^{X}\\right) \\\\ & + J_{0,1}(\\sigma_{0}^{+}\\sigma_{1}^{-}+\\sigma_{0}^{-}\\sigma_{1}^{+}) + J_{1,2}(\\sigma_{1}^{+}\\sigma_{2}^{-}+\\sigma_{1}^{-}\\sigma_{2}^{+}) + J_{1,3}(\\sigma_{1}^{+}\\sigma_{3}^{-}+\\sigma_{1}^{-}\\sigma_{3}^{+}) + J_{3,4}(\\sigma_{3}^{+}\\sigma_{4}^{-}+\\sigma_{3}^{-}\\sigma_{4}^{+}) \\\\ & + \\Omega_{d,0}(U_{0}^{(0,1)}(t))\\sigma_{0}^{X} + \\Omega_{d,1}(U_{1}^{(1,0)}(t)+U_{3}^{(1,3)}(t)+U_{2}^{(1,2)}(t))\\sigma_{1}^{X} \\\\ & + \\Omega_{d,2}(U_{4}^{(2,1)}(t))\\sigma_{2}^{X} + \\Omega_{d,3}(U_{6}^{(3,4)}(t)+U_{5}^{(3,1)}(t))\\sigma_{3}^{X} \\\\ & + \\Omega_{d,4}(U_{7}^{(4,3)}(t))\\sigma_{4}^{X} \\\\ \\end{align}$$</td></tr><tr><td>backend_name</td><td>ibmq_quito</td></tr><tr><td>n_uchannels</td><td>8</td></tr><tr><td>local</td><td>False</td></tr><tr><td>input_allowed</td><td>['job', 'runtime']</td></tr><tr><td>discriminators</td><td>['hw_centroid', 'quadratic_discriminator', 'linear_discriminator']</td></tr><tr><td>channels</td><td>{'acquire0': {'operates': {'qubits': [0]}, 'purpose': 'acquire', 'type': 'acquire'}, 'acquire1': {'operates': {'qubits': [1]}, 'purpose': 'acquire', 'type': 'acquire'}, 'acquire2': {'operates': {'qubits': [2]}, 'purpose': 'acquire', 'type': 'acquire'}, 'acquire3': {'operates': {'qubits': [3]}, 'purpose': 'acquire', 'type': 'acquire'}, 'acquire4': {'operates': {'qubits': [4]}, 'purpose': 'acquire', 'type': 'acquire'}, 'd0': {'operates': {'qubits': [0]}, 'purpose': 'drive', 'type': 'drive'}, 'd1': {'operates': {'qubits': [1]}, 'purpose': 'drive', 'type': 'drive'}, 'd2': {'operates': {'qubits': [2]}, 'purpose': 'drive', 'type': 'drive'}, 'd3': {'operates': {'qubits': [3]}, 'purpose': 'drive', 'type': 'drive'}, 'd4': {'operates': {'qubits': [4]}, 'purpose': 'drive', 'type': 'drive'}, 'm0': {'operates': {'qubits': [0]}, 'purpose': 'measure', 'type': 'measure'}, 'm1': {'operates': {'qubits': [1]}, 'purpose': 'measure', 'type': 'measure'}, 'm2': {'operates': {'qubits': [2]}, 'purpose': 'measure', 'type': 'measure'}, 'm3': {'operates': {'qubits': [3]}, 'purpose': 'measure', 'type': 'measure'}, 'm4': {'operates': {'qubits': [4]}, 'purpose': 'measure', 'type': 'measure'}, 'u0': {'operates': {'qubits': [0, 1]}, 'purpose': 'cross-resonance', 'type': 'control'}, 'u1': {'operates': {'qubits': [1, 0]}, 'purpose': 'cross-resonance', 'type': 'control'}, 'u2': {'operates': {'qubits': [1, 2]}, 'purpose': 'cross-resonance', 'type': 'control'}, 'u3': {'operates': {'qubits': [1, 3]}, 'purpose': 'cross-resonance', 'type': 'control'}, 'u4': {'operates': {'qubits': [2, 1]}, 'purpose': 'cross-resonance', 'type': 'control'}, 'u5': {'operates': {'qubits': [3, 1]}, 'purpose': 'cross-resonance', 'type': 'control'}, 'u6': {'operates': {'qubits': [3, 4]}, 'purpose': 'cross-resonance', 'type': 'control'}, 'u7': {'operates': {'qubits': [4, 3]}, 'purpose': 'cross-resonance', 'type': 'control'}}</td></tr><tr><td>credits_required</td><td>True</td></tr><tr><td>memory</td><td>True</td></tr><tr><td>acquisition_latency</td><td>[]</td></tr><tr><td>open_pulse</td><td>False</td></tr><tr><td>clops</td><td>2506</td></tr><tr><td>meas_map</td><td>[[0, 1, 2, 3, 4]]</td></tr><tr><td>simulator</td><td>False</td></tr><tr><td>url</td><td>None</td></tr><tr><td>qubit_lo_range</td><td>[[4.8005952627554915, 5.8005952627554915], [4.580633418080989, 5.580633418080989], [4.822194409633239, 5.822194409633239], [4.663645252075822, 5.663645252075822], [4.5523122235768, 5.5523122235768]]</td></tr><tr><td>conditional_latency</td><td>[]</td></tr><tr><td>meas_lo_range</td><td>[[6.807868157000001, 7.807868157000001], [6.7292695270000005, 7.7292695270000005], [6.991060108, 7.991060108], [6.8547510460000005, 7.8547510460000005], [6.904365522000001, 7.904365522000001]]</td></tr><tr><td>qubit_channel_mapping</td><td>[['d0', 'u0', 'u1', 'm0'], ['u5', 'm1', 'd1', 'u0', 'u3', 'u4', 'u2', 'u1'], ['u2', 'm2', 'u4', 'd2'], ['u5', 'u3', 'u6', 'm3', 'd3', 'u7'], ['u6', 'd4', 'm4', 'u7']]</td></tr><tr><td>allow_q_object</td><td>True</td></tr></table>"
      }
     },
     "e0f2ff23ae8d4dc6b2ebf757948336a8": {
      "model_module": "@jupyter-widgets/base",
      "model_module_version": "1.2.0",
      "model_name": "LayoutModel",
      "state": {
       "grid_area": "top"
      }
     },
     "e3324ca5bd3644a583d65588c2bf553a": {
      "model_module": "@jupyter-widgets/base",
      "model_module_version": "1.2.0",
      "model_name": "LayoutModel",
      "state": {
       "grid_area": "bottom",
       "width": "auto"
      }
     },
     "e3faa4a4f0b94af2a1c25a59b1b152d0": {
      "model_module": "@jupyter-widgets/base",
      "model_module_version": "1.2.0",
      "model_name": "LayoutModel",
      "state": {
       "align_items": "center",
       "display": "flex-inline",
       "grid_area": "right",
       "max_height": "325px",
       "padding": "10px 10px 10px 10px",
       "width": "auto"
      }
     },
     "e5479334e9e54ddda51e5ed034f8ffe3": {
      "model_module": "@jupyter-widgets/base",
      "model_module_version": "1.2.0",
      "model_name": "LayoutModel",
      "state": {
       "max_width": "700px",
       "min_width": "700px"
      }
     },
     "e6a0170945134f81ba15f73697689803": {
      "model_module": "@jupyter-widgets/controls",
      "model_module_version": "1.5.0",
      "model_name": "VBoxModel",
      "state": {
       "children": [
        "IPY_MODEL_11edb61c572542cea4d8820d1963cca9",
        "IPY_MODEL_83eaadc843ca4f5d8d93501ba3d73b26"
       ],
       "layout": "IPY_MODEL_78c896bb2e52422a869a16dee7696f32"
      }
     },
     "e800d8e8b95e4917bd2579d2e293a1f0": {
      "model_module": "@jupyter-widgets/base",
      "model_module_version": "1.2.0",
      "model_name": "LayoutModel",
      "state": {}
     },
     "e8fdef94f60b465f86e6221d87d78d17": {
      "model_module": "@jupyter-widgets/controls",
      "model_module_version": "1.5.0",
      "model_name": "HTMLModel",
      "state": {
       "layout": "IPY_MODEL_789f288e79104cc48807d0505f1dd234",
       "style": "IPY_MODEL_a2ced639202b4cc59131789dc032143c",
       "value": "<table><style>\ntable {\n    border-collapse: collapse;\n    width: auto;\n}\n\nth, td {\n    text-align: left;\n    padding: 8px;\n}\n\ntr:nth-child(even) {background-color: #f6f6f6;};\n</style><tr><th></th><th>Type</th><th>Gate error</th></tr><tr><td><font style='font-weight:bold'>cx3_4</font></td><td>cx</td><td>0.02219</td></tr><tr><td><font style='font-weight:bold'>cx4_3</font></td><td>cx</td><td>0.02219</td></tr></table>"
      }
     },
     "e9ab22f877374d58a95906ae411e2a05": {
      "model_module": "@jupyter-widgets/base",
      "model_module_version": "1.2.0",
      "model_name": "LayoutModel",
      "state": {}
     },
     "e9c68df26ead4e91a4a84b3fce98dfb7": {
      "model_module": "@jupyter-widgets/base",
      "model_module_version": "1.2.0",
      "model_name": "LayoutModel",
      "state": {
       "grid_area": "left",
       "width": "100%"
      }
     },
     "e9cd5e4391d64ae195f3a28322c891de": {
      "model_module": "@jupyter-widgets/controls",
      "model_module_version": "1.5.0",
      "model_name": "HTMLModel",
      "state": {
       "layout": "IPY_MODEL_9f8344a6b0814f078f2efe6d73b57a62",
       "style": "IPY_MODEL_8fb497cd307b446496b0e379231b3213",
       "value": "<h1 style='color:#ffffff;background-color:#000000;padding-top: 1%;padding-bottom: 1%;padding-left: 1%; margin-top: 0px'>ibmq_quito</h1>"
      }
     },
     "eae90c864b094225a627a457b5b62313": {
      "model_module": "@jupyter-widgets/controls",
      "model_module_version": "1.5.0",
      "model_name": "DescriptionStyleModel",
      "state": {
       "description_width": ""
      }
     },
     "eb0a93ef6963462f92eb7807fb8d1b94": {
      "model_module": "@jupyter-widgets/controls",
      "model_module_version": "1.5.0",
      "model_name": "HTMLModel",
      "state": {
       "layout": "IPY_MODEL_d1a6fc7140704d89866a691a4f720eb3",
       "style": "IPY_MODEL_8f3d87b5c78c4302ad9a9f0d91b4c827",
       "value": "<table><style>\ntable {\n    border-collapse: collapse;\n    width: auto;\n}\n\nth, td {\n    text-align: left;\n    padding: 8px;\n}\n\ntr:nth-child(even) {background-color: #f6f6f6;};\n</style><tr><th></th><th>Type</th><th>Gate error</th></tr><tr><td><font style='font-weight:bold'>cx1_3</font></td><td>cx</td><td>0.01118</td></tr><tr><td><font style='font-weight:bold'>cx2_1</font></td><td>cx</td><td>0.01344</td></tr><tr><td><font style='font-weight:bold'>cx1_2</font></td><td>cx</td><td>0.01344</td></tr></table>"
      }
     },
     "eb619d87d9e046fcaf268745f0cebac9": {
      "model_module": "@jupyter-widgets/base",
      "model_module_version": "1.2.0",
      "model_name": "LayoutModel",
      "state": {
       "margin": "0px 0px 0px 0px"
      }
     },
     "eba8373605f941f5ac2e8dbbdce079d9": {
      "model_module": "@jupyter-widgets/base",
      "model_module_version": "1.2.0",
      "model_name": "LayoutModel",
      "state": {}
     },
     "ebc3984eaa624ad99603ccff5c73b1c1": {
      "model_module": "@jupyter-widgets/controls",
      "model_module_version": "1.5.0",
      "model_name": "DescriptionStyleModel",
      "state": {
       "description_width": ""
      }
     },
     "ec26f905356f47438b918e2e95adfe78": {
      "model_module": "@jupyter-widgets/controls",
      "model_module_version": "1.5.0",
      "model_name": "DescriptionStyleModel",
      "state": {
       "description_width": ""
      }
     },
     "ecc2b93617c046c1a057ee27e9938cd0": {
      "model_module": "@jupyter-widgets/base",
      "model_module_version": "1.2.0",
      "model_name": "LayoutModel",
      "state": {
       "margin": "0px 5px 0px 0px",
       "width": "32px"
      }
     },
     "ef09d306c4f44d689a5dd9cbf1116cb8": {
      "model_module": "@jupyter-widgets/controls",
      "model_module_version": "1.5.0",
      "model_name": "DescriptionStyleModel",
      "state": {
       "description_width": ""
      }
     },
     "ef7662cb31f04381b81926687ec1990b": {
      "model_module": "@jupyter-widgets/base",
      "model_module_version": "1.2.0",
      "model_name": "LayoutModel",
      "state": {
       "grid_gap": "0px 0px",
       "grid_template_areas": "\n                               \"left right right right\"\n                               \"bottom bottom bottom bottom\"\n                               ",
       "grid_template_columns": "31% 23% 23% 23%",
       "grid_template_rows": "auto auto"
      }
     },
     "f06fe6f152a64112bf1e08975328b5da": {
      "model_module": "@jupyter-widgets/base",
      "model_module_version": "1.2.0",
      "model_name": "LayoutModel",
      "state": {
       "width": "145px"
      }
     },
     "f1dfe3d201af4821b3b15c02b0a5c42f": {
      "model_module": "@jupyter-widgets/base",
      "model_module_version": "1.2.0",
      "model_name": "LayoutModel",
      "state": {
       "width": "145px"
      }
     },
     "f5862cb0a15b495d9800400fee4defbf": {
      "model_module": "@jupyter-widgets/controls",
      "model_module_version": "1.5.0",
      "model_name": "HTMLModel",
      "state": {
       "layout": "IPY_MODEL_a0ec52b41e7a4a11963b48ae7a38119f",
       "style": "IPY_MODEL_2bec3754a2d849008c23ff2a846a3f74",
       "value": "-"
      }
     },
     "f76c3eadc1874cc1bf8e1d94885e2d69": {
      "model_module": "@jupyter-widgets/controls",
      "model_module_version": "1.5.0",
      "model_name": "TabModel",
      "state": {
       "layout": "IPY_MODEL_4b9a10921cec4987ad1093d34ff8f029"
      }
     },
     "f8093451fcc44fcabc68e119424ab34a": {
      "model_module": "@jupyter-widgets/base",
      "model_module_version": "1.2.0",
      "model_name": "LayoutModel",
      "state": {
       "grid_area": "left"
      }
     },
     "f82c3696ff384a4a8312dd7b526b7321": {
      "model_module": "@jupyter-widgets/base",
      "model_module_version": "1.2.0",
      "model_name": "LayoutModel",
      "state": {
       "align_items": "center",
       "display": "flex-inline"
      }
     },
     "f8613298bc714656be8699d911ea1f8b": {
      "model_module": "@jupyter-widgets/controls",
      "model_module_version": "1.5.0",
      "model_name": "HTMLModel",
      "state": {
       "layout": "IPY_MODEL_6e0da6dc39d44d4786a46deb4bea8b96",
       "style": "IPY_MODEL_eae90c864b094225a627a457b5b62313",
       "value": "<font style='color:#34BC6E'>DONE</font>"
      }
     },
     "fa5d5ea6b31f463eba31074b7f7f1808": {
      "model_module": "@jupyter-widgets/base",
      "model_module_version": "1.2.0",
      "model_name": "LayoutModel",
      "state": {
       "margin": "0px 0px 0px 0px"
      }
     },
     "fbcc8d39ac3b431eb9739a8a155e240e": {
      "model_module": "@jupyter-widgets/controls",
      "model_module_version": "1.5.0",
      "model_name": "HTMLModel",
      "state": {
       "layout": "IPY_MODEL_e0f2ff23ae8d4dc6b2ebf757948336a8",
       "style": "IPY_MODEL_8b862c73893645f3b4a3e110e93df2d1",
       "value": "<div><font style='font-weight:bold'>last_update_date</font>: 2022-04-20 05:23:36+00:00</div>"
      }
     },
     "fc23f685f5594f8db2aa15d38216621f": {
      "model_module": "@jupyter-widgets/controls",
      "model_module_version": "1.5.0",
      "model_name": "HTMLModel",
      "state": {
       "layout": "IPY_MODEL_6577641465f74a778d71c707a300078b",
       "style": "IPY_MODEL_80d5da78173149e6b85d42db7c10c795",
       "value": "<h5>Job ID</h5>"
      }
     },
     "fdac33f6d290401aa4247ca4e68dc14a": {
      "model_module": "@jupyter-widgets/controls",
      "model_module_version": "1.5.0",
      "model_name": "HBoxModel",
      "state": {
       "children": [
        "IPY_MODEL_3329af1990514da0a13c138766b33ad7",
        "IPY_MODEL_aabd45790777408caaf559521c980398",
        "IPY_MODEL_d71be057b17349f295f75b422e34817f",
        "IPY_MODEL_6ed37674d5aa494b80aadf23452e0796",
        "IPY_MODEL_1572010f344e4d9cb33c318353b501e0",
        "IPY_MODEL_0b487109a6d549d181ef2954235269c9"
       ],
       "layout": "IPY_MODEL_cf1acacc741442e3bdd80ca3b97605d6"
      }
     },
     "ff53e8f3950c49d4b1b70c70fb9803e4": {
      "model_module": "@jupyter-widgets/base",
      "model_module_version": "1.2.0",
      "model_name": "LayoutModel",
      "state": {}
     }
    },
    "version_major": 2,
    "version_minor": 0
   }
  }
 },
 "nbformat": 4,
 "nbformat_minor": 4
}
